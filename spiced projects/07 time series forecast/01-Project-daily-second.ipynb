{
 "cells": [
  {
   "cell_type": "code",
   "execution_count": 1,
   "id": "e08d80f0",
   "metadata": {},
   "outputs": [],
   "source": [
    "import pandas as pd\n",
    "import numpy as np\n",
    "import matplotlib.pyplot as plt\n",
    "import seaborn as sns\n",
    "\n",
    "# some aesthetic setting for plotting for the rest of the notebook\n",
    "sns.set()\n",
    "plt.rcParams['figure.figsize'] = (12, 6)"
   ]
  },
  {
   "cell_type": "code",
   "execution_count": 2,
   "id": "9342cb3f",
   "metadata": {},
   "outputs": [],
   "source": [
    "temp = pd.read_csv('DataTemp/Data01mean/Tempdatamean.csv',index_col = 1 , parse_dates=True)"
   ]
  },
  {
   "cell_type": "code",
   "execution_count": null,
   "id": "ba241302",
   "metadata": {},
   "outputs": [],
   "source": [
    "temp.head(5)"
   ]
  },
  {
   "cell_type": "code",
   "execution_count": null,
   "id": "c2abb9b7",
   "metadata": {},
   "outputs": [],
   "source": [
    "temp.loc[temp[' Q_TG'] == 9 ]"
   ]
  },
  {
   "cell_type": "code",
   "execution_count": null,
   "id": "0915681e",
   "metadata": {},
   "outputs": [],
   "source": [
    "temp.loc[temp[' Q_TG'] == 1 ]"
   ]
  },
  {
   "cell_type": "code",
   "execution_count": 3,
   "id": "03d78535",
   "metadata": {},
   "outputs": [],
   "source": [
    "temp.rename_axis('Date',inplace=True)"
   ]
  },
  {
   "cell_type": "code",
   "execution_count": 4,
   "id": "7066f73c",
   "metadata": {},
   "outputs": [],
   "source": [
    "temp.rename(columns={'   TG' : 'meantemperature'}, inplace=True)"
   ]
  },
  {
   "cell_type": "code",
   "execution_count": 5,
   "id": "a9247c2b",
   "metadata": {},
   "outputs": [],
   "source": [
    "temp['meantemperature'] = temp['meantemperature'] *0.1"
   ]
  },
  {
   "cell_type": "code",
   "execution_count": 6,
   "id": "805e9625",
   "metadata": {},
   "outputs": [
    {
     "data": {
      "text/plain": [
       "Index([' SOUID', 'meantemperature', ' Q_TG'], dtype='object')"
      ]
     },
     "execution_count": 6,
     "metadata": {},
     "output_type": "execute_result"
    }
   ],
   "source": [
    "temp.columns"
   ]
  },
  {
   "cell_type": "code",
   "execution_count": 7,
   "id": "df39a251",
   "metadata": {},
   "outputs": [],
   "source": [
    "temp = temp.drop([' SOUID',' Q_TG'],axis=1)\n"
   ]
  },
  {
   "cell_type": "code",
   "execution_count": 8,
   "id": "a6bb3d4f",
   "metadata": {},
   "outputs": [],
   "source": [
    "temp1 = temp.loc[temp.index.year != 1945]"
   ]
  },
  {
   "cell_type": "code",
   "execution_count": 9,
   "id": "d8169128",
   "metadata": {},
   "outputs": [
    {
     "data": {
      "text/plain": [
       "array([datetime.date(1876, 1, 1), datetime.date(1876, 1, 2),\n",
       "       datetime.date(1876, 1, 3), ..., datetime.date(2022, 2, 26),\n",
       "       datetime.date(2022, 2, 27), datetime.date(2022, 2, 28)],\n",
       "      dtype=object)"
      ]
     },
     "execution_count": 9,
     "metadata": {},
     "output_type": "execute_result"
    }
   ],
   "source": [
    "temp1.index.date"
   ]
  },
  {
   "cell_type": "code",
   "execution_count": 10,
   "id": "8a7a07e5",
   "metadata": {},
   "outputs": [],
   "source": [
    "temp2 = temp1.loc[~((temp1.index.day == 29) & (temp1.index.month == 2))]"
   ]
  },
  {
   "cell_type": "code",
   "execution_count": 11,
   "id": "bd06710e",
   "metadata": {},
   "outputs": [
    {
     "data": {
      "text/html": [
       "<div>\n",
       "<style scoped>\n",
       "    .dataframe tbody tr th:only-of-type {\n",
       "        vertical-align: middle;\n",
       "    }\n",
       "\n",
       "    .dataframe tbody tr th {\n",
       "        vertical-align: top;\n",
       "    }\n",
       "\n",
       "    .dataframe thead th {\n",
       "        text-align: right;\n",
       "    }\n",
       "</style>\n",
       "<table border=\"1\" class=\"dataframe\">\n",
       "  <thead>\n",
       "    <tr style=\"text-align: right;\">\n",
       "      <th></th>\n",
       "      <th>meantemperature</th>\n",
       "    </tr>\n",
       "    <tr>\n",
       "      <th>Date</th>\n",
       "      <th></th>\n",
       "    </tr>\n",
       "  </thead>\n",
       "  <tbody>\n",
       "    <tr>\n",
       "      <th>2020-02-26</th>\n",
       "      <td>2.9</td>\n",
       "    </tr>\n",
       "    <tr>\n",
       "      <th>2020-02-27</th>\n",
       "      <td>3.5</td>\n",
       "    </tr>\n",
       "    <tr>\n",
       "      <th>2020-02-28</th>\n",
       "      <td>3.9</td>\n",
       "    </tr>\n",
       "    <tr>\n",
       "      <th>2020-03-01</th>\n",
       "      <td>7.1</td>\n",
       "    </tr>\n",
       "  </tbody>\n",
       "</table>\n",
       "</div>"
      ],
      "text/plain": [
       "            meantemperature\n",
       "Date                       \n",
       "2020-02-26              2.9\n",
       "2020-02-27              3.5\n",
       "2020-02-28              3.9\n",
       "2020-03-01              7.1"
      ]
     },
     "execution_count": 11,
     "metadata": {},
     "output_type": "execute_result"
    }
   ],
   "source": [
    "temp2['2020-02-26':'2020-03-01']"
   ]
  },
  {
   "cell_type": "code",
   "execution_count": null,
   "id": "13e564ea",
   "metadata": {},
   "outputs": [],
   "source": [
    "temp2['day_month'] ="
   ]
  },
  {
   "cell_type": "code",
   "execution_count": null,
   "id": "9953f86d",
   "metadata": {},
   "outputs": [],
   "source": []
  },
  {
   "cell_type": "code",
   "execution_count": null,
   "id": "86bc8905",
   "metadata": {},
   "outputs": [],
   "source": []
  },
  {
   "cell_type": "code",
   "execution_count": null,
   "id": "054e5c32",
   "metadata": {},
   "outputs": [],
   "source": []
  },
  {
   "cell_type": "code",
   "execution_count": null,
   "id": "efec5493",
   "metadata": {
    "scrolled": true
   },
   "outputs": [],
   "source": [
    "temp.index[1400:1600]"
   ]
  },
  {
   "cell_type": "code",
   "execution_count": null,
   "id": "525716be",
   "metadata": {},
   "outputs": [],
   "source": [
    "temp['meantemperature'] = temp['meantemperature'] *0.1"
   ]
  },
  {
   "cell_type": "code",
   "execution_count": null,
   "id": "69faae4b",
   "metadata": {},
   "outputs": [],
   "source": [
    "temp.loc[temp['meantemperature'] < -100 ]"
   ]
  },
  {
   "cell_type": "code",
   "execution_count": null,
   "id": "be32699c",
   "metadata": {},
   "outputs": [],
   "source": [
    "plt.title(\"Daily mean temperature over time\")\n",
    "plt.ylabel('Temperature in °C')\n",
    "#plt.ylim(-20,40)\n",
    "plt.plot(temp.index[10000:15000],temp['meantemperature'][10000:15000])"
   ]
  },
  {
   "cell_type": "code",
   "execution_count": null,
   "id": "cec324d6",
   "metadata": {},
   "outputs": [],
   "source": [
    "wtemp = wtemp.loc[wtemp['meantemperature'] > -100]"
   ]
  },
  {
   "cell_type": "code",
   "execution_count": null,
   "id": "1b95bc14",
   "metadata": {},
   "outputs": [],
   "source": [
    "wtemp"
   ]
  },
  {
   "cell_type": "code",
   "execution_count": null,
   "id": "a6e394a7",
   "metadata": {},
   "outputs": [],
   "source": [
    "plt.title(\"Daily mean temperature over time\")\n",
    "plt.ylabel('Temperature in °C')\n",
    "plt.xticks(rotation = 50)\n",
    "plt.plot(wtemp['2019-11-15':'2022-02-25'])"
   ]
  },
  {
   "cell_type": "code",
   "execution_count": null,
   "id": "71e2d093",
   "metadata": {},
   "outputs": [],
   "source": [
    "type(wtemp.index)"
   ]
  },
  {
   "cell_type": "code",
   "execution_count": null,
   "id": "208e6de9",
   "metadata": {},
   "outputs": [],
   "source": [
    "wtemp.index.day"
   ]
  },
  {
   "cell_type": "code",
   "execution_count": null,
   "id": "f1a537ab",
   "metadata": {},
   "outputs": [],
   "source": [
    "from sklearn.linear_model import LinearRegression"
   ]
  },
  {
   "cell_type": "code",
   "execution_count": null,
   "id": "a49c160b",
   "metadata": {},
   "outputs": [],
   "source": [
    "wtemp['timestep'] = range(len(wtemp))"
   ]
  },
  {
   "cell_type": "code",
   "execution_count": null,
   "id": "4da67541",
   "metadata": {},
   "outputs": [],
   "source": [
    "X = wtemp[['timestep']] # matrix (or DataFrame)\n",
    "y = wtemp['meantemperature'] # vector (or Series)"
   ]
  },
  {
   "cell_type": "code",
   "execution_count": null,
   "id": "28aaf099",
   "metadata": {},
   "outputs": [],
   "source": [
    "m = LinearRegression()"
   ]
  },
  {
   "cell_type": "code",
   "execution_count": null,
   "id": "78e9855c",
   "metadata": {},
   "outputs": [],
   "source": [
    "m.fit(X, y)"
   ]
  },
  {
   "cell_type": "code",
   "execution_count": null,
   "id": "4edce219",
   "metadata": {},
   "outputs": [],
   "source": [
    "wtemp['trend'] = m.predict(X)"
   ]
  },
  {
   "cell_type": "code",
   "execution_count": null,
   "id": "ccdd709c",
   "metadata": {},
   "outputs": [],
   "source": [
    "wtemp[['meantemperature', 'trend']].plot()"
   ]
  },
  {
   "cell_type": "code",
   "execution_count": null,
   "id": "ac783058",
   "metadata": {},
   "outputs": [],
   "source": [
    "wtemp['wo_trend'] = wtemp['meantemperature'] - wtemp['trend']\n",
    "\n",
    "wtemp['wo_trend'].plot()"
   ]
  },
  {
   "cell_type": "code",
   "execution_count": null,
   "id": "ccad6a50",
   "metadata": {},
   "outputs": [],
   "source": [
    "# One-Hot-Encoding the day\n",
    "seasonal_dummies = pd.get_dummies(wtemp.index.day,\n",
    "                                  prefix='day',\n",
    "                                  drop_first=True).set_index(wtemp.index)"
   ]
  },
  {
   "cell_type": "code",
   "execution_count": null,
   "id": "cfe538e8",
   "metadata": {},
   "outputs": [],
   "source": [
    "seasonal_dummies"
   ]
  },
  {
   "cell_type": "code",
   "execution_count": null,
   "id": "85e2d14c",
   "metadata": {},
   "outputs": [],
   "source": [
    "# join the dummies with the flights data frame\n",
    "wtemp = wtemp.join(seasonal_dummies)"
   ]
  },
  {
   "cell_type": "code",
   "execution_count": null,
   "id": "58840ca5",
   "metadata": {},
   "outputs": [],
   "source": [
    "wtemp.head()"
   ]
  },
  {
   "cell_type": "code",
   "execution_count": null,
   "id": "851aae96",
   "metadata": {},
   "outputs": [],
   "source": [
    "# Define X and y\n",
    "X = wtemp.drop(columns=['meantemperature', 'trend', 'wo_trend'])  # thus keeping timestep and months' dummies\n",
    "\n",
    "# y is already defined (the number of passengers)"
   ]
  },
  {
   "cell_type": "code",
   "execution_count": null,
   "id": "9aa0c8b4",
   "metadata": {},
   "outputs": [],
   "source": [
    "m.fit(X, y)\n",
    "# Create a model with trend and seasonality\n",
    "wtemp['trend + seasonal'] = m.predict(X)\n",
    "wtemp.head()"
   ]
  },
  {
   "cell_type": "code",
   "execution_count": null,
   "id": "8b81c962",
   "metadata": {},
   "outputs": [],
   "source": [
    "wtemp['1910-11-15':'1922-02-25'][['meantemperature', 'trend + seasonal']].plot()"
   ]
  },
  {
   "cell_type": "code",
   "execution_count": null,
   "id": "3603ac82",
   "metadata": {},
   "outputs": [],
   "source": [
    "wtemp['remainder'] = wtemp['meantemperature'] - wtemp['trend + seasonal']"
   ]
  },
  {
   "cell_type": "code",
   "execution_count": null,
   "id": "1db88592",
   "metadata": {},
   "outputs": [],
   "source": [
    "wtemp['remainder'].plot(style='o')"
   ]
  },
  {
   "cell_type": "code",
   "execution_count": null,
   "id": "a6e97abb",
   "metadata": {},
   "outputs": [],
   "source": [
    "wtemp['remainder'].to_csv('wtemp_remainder_day.csv')"
   ]
  },
  {
   "cell_type": "code",
   "execution_count": null,
   "id": "c7c27685",
   "metadata": {},
   "outputs": [],
   "source": [
    "type(wtemp.index)"
   ]
  },
  {
   "cell_type": "raw",
   "id": "cb8a06d5",
   "metadata": {},
   "source": [
    "wtemp = wtemp.loc[wtemp['meantemperature'] > -100]"
   ]
  },
  {
   "cell_type": "raw",
   "id": "dc1d7afb",
   "metadata": {},
   "source": [
    "wtemp.index.day"
   ]
  },
  {
   "cell_type": "code",
   "execution_count": null,
   "id": "a18dd85b",
   "metadata": {},
   "outputs": [],
   "source": [
    "stattemp = wtemp.loc[wtemp.index.day < 29]"
   ]
  },
  {
   "cell_type": "code",
   "execution_count": null,
   "id": "e75e7354",
   "metadata": {},
   "outputs": [],
   "source": [
    "stattemp['2019-10-02':'2021-10-01']"
   ]
  },
  {
   "cell_type": "code",
   "execution_count": null,
   "id": "79a2d10b",
   "metadata": {},
   "outputs": [],
   "source": [
    "from statsmodels.tsa.seasonal import seasonal_decompose"
   ]
  },
  {
   "cell_type": "code",
   "execution_count": null,
   "id": "25b95138",
   "metadata": {},
   "outputs": [],
   "source": [
    "sd = seasonal_decompose(stattemp['meantemperature'], model='additive')"
   ]
  },
  {
   "cell_type": "code",
   "execution_count": null,
   "id": "c19f8652",
   "metadata": {},
   "outputs": [],
   "source": []
  }
 ],
 "metadata": {
  "kernelspec": {
   "display_name": "Python 3 (ipykernel)",
   "language": "python",
   "name": "python3"
  },
  "language_info": {
   "codemirror_mode": {
    "name": "ipython",
    "version": 3
   },
   "file_extension": ".py",
   "mimetype": "text/x-python",
   "name": "python",
   "nbconvert_exporter": "python",
   "pygments_lexer": "ipython3",
   "version": "3.9.7"
  }
 },
 "nbformat": 4,
 "nbformat_minor": 5
}
