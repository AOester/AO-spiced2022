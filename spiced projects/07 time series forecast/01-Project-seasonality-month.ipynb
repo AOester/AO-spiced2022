{
 "cells": [
  {
   "cell_type": "code",
   "execution_count": 57,
   "id": "e08d80f0",
   "metadata": {},
   "outputs": [],
   "source": [
    "import pandas as pd\n",
    "import numpy as np\n",
    "import matplotlib.pyplot as plt\n",
    "import seaborn as sns\n",
    "\n",
    "# some aesthetic setting for plotting for the rest of the notebook\n",
    "sns.set()\n",
    "plt.rcParams['figure.figsize'] = (12, 6)"
   ]
  },
  {
   "cell_type": "code",
   "execution_count": 58,
   "id": "9342cb3f",
   "metadata": {},
   "outputs": [],
   "source": [
    "temp = pd.read_csv('DataTemp/Data01mean/Tempdatamean.csv',index_col = 1 , parse_dates=True)"
   ]
  },
  {
   "cell_type": "code",
   "execution_count": 59,
   "id": "ba241302",
   "metadata": {},
   "outputs": [
    {
     "data": {
      "text/html": [
       "<div>\n",
       "<style scoped>\n",
       "    .dataframe tbody tr th:only-of-type {\n",
       "        vertical-align: middle;\n",
       "    }\n",
       "\n",
       "    .dataframe tbody tr th {\n",
       "        vertical-align: top;\n",
       "    }\n",
       "\n",
       "    .dataframe thead th {\n",
       "        text-align: right;\n",
       "    }\n",
       "</style>\n",
       "<table border=\"1\" class=\"dataframe\">\n",
       "  <thead>\n",
       "    <tr style=\"text-align: right;\">\n",
       "      <th></th>\n",
       "      <th>SOUID</th>\n",
       "      <th>TG</th>\n",
       "      <th>Q_TG</th>\n",
       "    </tr>\n",
       "    <tr>\n",
       "      <th>DATE</th>\n",
       "      <th></th>\n",
       "      <th></th>\n",
       "      <th></th>\n",
       "    </tr>\n",
       "  </thead>\n",
       "  <tbody>\n",
       "    <tr>\n",
       "      <th>1876-01-01</th>\n",
       "      <td>127488</td>\n",
       "      <td>22</td>\n",
       "      <td>0</td>\n",
       "    </tr>\n",
       "    <tr>\n",
       "      <th>1876-01-02</th>\n",
       "      <td>127488</td>\n",
       "      <td>25</td>\n",
       "      <td>0</td>\n",
       "    </tr>\n",
       "    <tr>\n",
       "      <th>1876-01-03</th>\n",
       "      <td>127488</td>\n",
       "      <td>3</td>\n",
       "      <td>0</td>\n",
       "    </tr>\n",
       "    <tr>\n",
       "      <th>1876-01-04</th>\n",
       "      <td>127488</td>\n",
       "      <td>-58</td>\n",
       "      <td>0</td>\n",
       "    </tr>\n",
       "    <tr>\n",
       "      <th>1876-01-05</th>\n",
       "      <td>127488</td>\n",
       "      <td>-98</td>\n",
       "      <td>0</td>\n",
       "    </tr>\n",
       "  </tbody>\n",
       "</table>\n",
       "</div>"
      ],
      "text/plain": [
       "             SOUID     TG   Q_TG\n",
       "    DATE                        \n",
       "1876-01-01  127488     22      0\n",
       "1876-01-02  127488     25      0\n",
       "1876-01-03  127488      3      0\n",
       "1876-01-04  127488    -58      0\n",
       "1876-01-05  127488    -98      0"
      ]
     },
     "execution_count": 59,
     "metadata": {},
     "output_type": "execute_result"
    }
   ],
   "source": [
    "temp.head(5)"
   ]
  },
  {
   "cell_type": "code",
   "execution_count": 60,
   "id": "c2abb9b7",
   "metadata": {},
   "outputs": [
    {
     "data": {
      "text/html": [
       "<div>\n",
       "<style scoped>\n",
       "    .dataframe tbody tr th:only-of-type {\n",
       "        vertical-align: middle;\n",
       "    }\n",
       "\n",
       "    .dataframe tbody tr th {\n",
       "        vertical-align: top;\n",
       "    }\n",
       "\n",
       "    .dataframe thead th {\n",
       "        text-align: right;\n",
       "    }\n",
       "</style>\n",
       "<table border=\"1\" class=\"dataframe\">\n",
       "  <thead>\n",
       "    <tr style=\"text-align: right;\">\n",
       "      <th></th>\n",
       "      <th>SOUID</th>\n",
       "      <th>TG</th>\n",
       "      <th>Q_TG</th>\n",
       "    </tr>\n",
       "    <tr>\n",
       "      <th>DATE</th>\n",
       "      <th></th>\n",
       "      <th></th>\n",
       "      <th></th>\n",
       "    </tr>\n",
       "  </thead>\n",
       "  <tbody>\n",
       "    <tr>\n",
       "      <th>1945-04-25</th>\n",
       "      <td>127488</td>\n",
       "      <td>-9999</td>\n",
       "      <td>9</td>\n",
       "    </tr>\n",
       "    <tr>\n",
       "      <th>1945-04-26</th>\n",
       "      <td>127488</td>\n",
       "      <td>-9999</td>\n",
       "      <td>9</td>\n",
       "    </tr>\n",
       "    <tr>\n",
       "      <th>1945-04-27</th>\n",
       "      <td>127488</td>\n",
       "      <td>-9999</td>\n",
       "      <td>9</td>\n",
       "    </tr>\n",
       "    <tr>\n",
       "      <th>1945-04-28</th>\n",
       "      <td>127488</td>\n",
       "      <td>-9999</td>\n",
       "      <td>9</td>\n",
       "    </tr>\n",
       "    <tr>\n",
       "      <th>1945-04-29</th>\n",
       "      <td>127488</td>\n",
       "      <td>-9999</td>\n",
       "      <td>9</td>\n",
       "    </tr>\n",
       "    <tr>\n",
       "      <th>...</th>\n",
       "      <td>...</td>\n",
       "      <td>...</td>\n",
       "      <td>...</td>\n",
       "    </tr>\n",
       "    <tr>\n",
       "      <th>1945-11-01</th>\n",
       "      <td>127488</td>\n",
       "      <td>-9999</td>\n",
       "      <td>9</td>\n",
       "    </tr>\n",
       "    <tr>\n",
       "      <th>1945-11-02</th>\n",
       "      <td>127488</td>\n",
       "      <td>-9999</td>\n",
       "      <td>9</td>\n",
       "    </tr>\n",
       "    <tr>\n",
       "      <th>1945-11-03</th>\n",
       "      <td>127488</td>\n",
       "      <td>-9999</td>\n",
       "      <td>9</td>\n",
       "    </tr>\n",
       "    <tr>\n",
       "      <th>1945-11-04</th>\n",
       "      <td>127488</td>\n",
       "      <td>-9999</td>\n",
       "      <td>9</td>\n",
       "    </tr>\n",
       "    <tr>\n",
       "      <th>1945-11-05</th>\n",
       "      <td>127488</td>\n",
       "      <td>-9999</td>\n",
       "      <td>9</td>\n",
       "    </tr>\n",
       "  </tbody>\n",
       "</table>\n",
       "<p>195 rows × 3 columns</p>\n",
       "</div>"
      ],
      "text/plain": [
       "             SOUID     TG   Q_TG\n",
       "    DATE                        \n",
       "1945-04-25  127488  -9999      9\n",
       "1945-04-26  127488  -9999      9\n",
       "1945-04-27  127488  -9999      9\n",
       "1945-04-28  127488  -9999      9\n",
       "1945-04-29  127488  -9999      9\n",
       "...            ...    ...    ...\n",
       "1945-11-01  127488  -9999      9\n",
       "1945-11-02  127488  -9999      9\n",
       "1945-11-03  127488  -9999      9\n",
       "1945-11-04  127488  -9999      9\n",
       "1945-11-05  127488  -9999      9\n",
       "\n",
       "[195 rows x 3 columns]"
      ]
     },
     "execution_count": 60,
     "metadata": {},
     "output_type": "execute_result"
    }
   ],
   "source": [
    "temp.loc[temp[' Q_TG'] == 9 ]"
   ]
  },
  {
   "cell_type": "code",
   "execution_count": 61,
   "id": "0915681e",
   "metadata": {},
   "outputs": [
    {
     "data": {
      "text/html": [
       "<div>\n",
       "<style scoped>\n",
       "    .dataframe tbody tr th:only-of-type {\n",
       "        vertical-align: middle;\n",
       "    }\n",
       "\n",
       "    .dataframe tbody tr th {\n",
       "        vertical-align: top;\n",
       "    }\n",
       "\n",
       "    .dataframe thead th {\n",
       "        text-align: right;\n",
       "    }\n",
       "</style>\n",
       "<table border=\"1\" class=\"dataframe\">\n",
       "  <thead>\n",
       "    <tr style=\"text-align: right;\">\n",
       "      <th></th>\n",
       "      <th>SOUID</th>\n",
       "      <th>TG</th>\n",
       "      <th>Q_TG</th>\n",
       "    </tr>\n",
       "    <tr>\n",
       "      <th>DATE</th>\n",
       "      <th></th>\n",
       "      <th></th>\n",
       "      <th></th>\n",
       "    </tr>\n",
       "  </thead>\n",
       "  <tbody>\n",
       "    <tr>\n",
       "      <th>1947-01-21</th>\n",
       "      <td>127488</td>\n",
       "      <td>-27</td>\n",
       "      <td>1</td>\n",
       "    </tr>\n",
       "  </tbody>\n",
       "</table>\n",
       "</div>"
      ],
      "text/plain": [
       "             SOUID     TG   Q_TG\n",
       "    DATE                        \n",
       "1947-01-21  127488    -27      1"
      ]
     },
     "execution_count": 61,
     "metadata": {},
     "output_type": "execute_result"
    }
   ],
   "source": [
    "temp.loc[temp[' Q_TG'] == 1 ]"
   ]
  },
  {
   "cell_type": "code",
   "execution_count": 62,
   "id": "a6bb3d4f",
   "metadata": {},
   "outputs": [
    {
     "data": {
      "text/html": [
       "<div>\n",
       "<style scoped>\n",
       "    .dataframe tbody tr th:only-of-type {\n",
       "        vertical-align: middle;\n",
       "    }\n",
       "\n",
       "    .dataframe tbody tr th {\n",
       "        vertical-align: top;\n",
       "    }\n",
       "\n",
       "    .dataframe thead th {\n",
       "        text-align: right;\n",
       "    }\n",
       "</style>\n",
       "<table border=\"1\" class=\"dataframe\">\n",
       "  <thead>\n",
       "    <tr style=\"text-align: right;\">\n",
       "      <th></th>\n",
       "      <th>SOUID</th>\n",
       "      <th>TG</th>\n",
       "      <th>Q_TG</th>\n",
       "    </tr>\n",
       "    <tr>\n",
       "      <th>DATE</th>\n",
       "      <th></th>\n",
       "      <th></th>\n",
       "      <th></th>\n",
       "    </tr>\n",
       "  </thead>\n",
       "  <tbody>\n",
       "    <tr>\n",
       "      <th>1947-01-19</th>\n",
       "      <td>128124</td>\n",
       "      <td>10</td>\n",
       "      <td>0</td>\n",
       "    </tr>\n",
       "    <tr>\n",
       "      <th>1947-01-20</th>\n",
       "      <td>128124</td>\n",
       "      <td>-13</td>\n",
       "      <td>0</td>\n",
       "    </tr>\n",
       "    <tr>\n",
       "      <th>1947-01-21</th>\n",
       "      <td>127488</td>\n",
       "      <td>-27</td>\n",
       "      <td>1</td>\n",
       "    </tr>\n",
       "    <tr>\n",
       "      <th>1947-01-22</th>\n",
       "      <td>128124</td>\n",
       "      <td>-28</td>\n",
       "      <td>0</td>\n",
       "    </tr>\n",
       "    <tr>\n",
       "      <th>1947-01-23</th>\n",
       "      <td>128124</td>\n",
       "      <td>-38</td>\n",
       "      <td>0</td>\n",
       "    </tr>\n",
       "  </tbody>\n",
       "</table>\n",
       "</div>"
      ],
      "text/plain": [
       "             SOUID     TG   Q_TG\n",
       "    DATE                        \n",
       "1947-01-19  128124     10      0\n",
       "1947-01-20  128124    -13      0\n",
       "1947-01-21  127488    -27      1\n",
       "1947-01-22  128124    -28      0\n",
       "1947-01-23  128124    -38      0"
      ]
     },
     "execution_count": 62,
     "metadata": {},
     "output_type": "execute_result"
    }
   ],
   "source": [
    "temp['1947-01-19':'1947-01-23']"
   ]
  },
  {
   "cell_type": "code",
   "execution_count": 63,
   "id": "805e9625",
   "metadata": {},
   "outputs": [
    {
     "data": {
      "text/plain": [
       "Index([' SOUID', '   TG', ' Q_TG'], dtype='object')"
      ]
     },
     "execution_count": 63,
     "metadata": {},
     "output_type": "execute_result"
    }
   ],
   "source": [
    "temp.columns"
   ]
  },
  {
   "cell_type": "code",
   "execution_count": 64,
   "id": "7066f73c",
   "metadata": {},
   "outputs": [],
   "source": [
    "temp.rename(columns={'   TG' : 'meantemperature'}, inplace=True)"
   ]
  },
  {
   "cell_type": "code",
   "execution_count": 65,
   "id": "03d78535",
   "metadata": {},
   "outputs": [],
   "source": [
    "temp.rename_axis('Date',inplace=True)"
   ]
  },
  {
   "cell_type": "code",
   "execution_count": 66,
   "id": "efec5493",
   "metadata": {
    "scrolled": true
   },
   "outputs": [
    {
     "data": {
      "text/plain": [
       "DatetimeIndex(['1880-01-30', '1880-01-31', '1880-02-01', '1880-02-02',\n",
       "               '1880-02-03', '1880-02-04', '1880-02-05', '1880-02-06',\n",
       "               '1880-02-07', '1880-02-08', '1880-02-09', '1880-02-10',\n",
       "               '1880-02-11', '1880-02-12', '1880-02-13', '1880-02-14',\n",
       "               '1880-02-15', '1880-02-16', '1880-02-17', '1880-02-18'],\n",
       "              dtype='datetime64[ns]', name='Date', freq=None)"
      ]
     },
     "execution_count": 66,
     "metadata": {},
     "output_type": "execute_result"
    }
   ],
   "source": [
    "temp.index[1490:1510]"
   ]
  },
  {
   "cell_type": "code",
   "execution_count": 67,
   "id": "525716be",
   "metadata": {},
   "outputs": [],
   "source": [
    "temp['meantemperature'] = temp['meantemperature'] *0.1"
   ]
  },
  {
   "cell_type": "code",
   "execution_count": 68,
   "id": "69faae4b",
   "metadata": {},
   "outputs": [
    {
     "data": {
      "text/html": [
       "<div>\n",
       "<style scoped>\n",
       "    .dataframe tbody tr th:only-of-type {\n",
       "        vertical-align: middle;\n",
       "    }\n",
       "\n",
       "    .dataframe tbody tr th {\n",
       "        vertical-align: top;\n",
       "    }\n",
       "\n",
       "    .dataframe thead th {\n",
       "        text-align: right;\n",
       "    }\n",
       "</style>\n",
       "<table border=\"1\" class=\"dataframe\">\n",
       "  <thead>\n",
       "    <tr style=\"text-align: right;\">\n",
       "      <th></th>\n",
       "      <th>SOUID</th>\n",
       "      <th>meantemperature</th>\n",
       "      <th>Q_TG</th>\n",
       "    </tr>\n",
       "    <tr>\n",
       "      <th>Date</th>\n",
       "      <th></th>\n",
       "      <th></th>\n",
       "      <th></th>\n",
       "    </tr>\n",
       "  </thead>\n",
       "  <tbody>\n",
       "    <tr>\n",
       "      <th>1945-04-25</th>\n",
       "      <td>127488</td>\n",
       "      <td>-999.9</td>\n",
       "      <td>9</td>\n",
       "    </tr>\n",
       "    <tr>\n",
       "      <th>1945-04-26</th>\n",
       "      <td>127488</td>\n",
       "      <td>-999.9</td>\n",
       "      <td>9</td>\n",
       "    </tr>\n",
       "    <tr>\n",
       "      <th>1945-04-27</th>\n",
       "      <td>127488</td>\n",
       "      <td>-999.9</td>\n",
       "      <td>9</td>\n",
       "    </tr>\n",
       "    <tr>\n",
       "      <th>1945-04-28</th>\n",
       "      <td>127488</td>\n",
       "      <td>-999.9</td>\n",
       "      <td>9</td>\n",
       "    </tr>\n",
       "    <tr>\n",
       "      <th>1945-04-29</th>\n",
       "      <td>127488</td>\n",
       "      <td>-999.9</td>\n",
       "      <td>9</td>\n",
       "    </tr>\n",
       "    <tr>\n",
       "      <th>...</th>\n",
       "      <td>...</td>\n",
       "      <td>...</td>\n",
       "      <td>...</td>\n",
       "    </tr>\n",
       "    <tr>\n",
       "      <th>1945-11-01</th>\n",
       "      <td>127488</td>\n",
       "      <td>-999.9</td>\n",
       "      <td>9</td>\n",
       "    </tr>\n",
       "    <tr>\n",
       "      <th>1945-11-02</th>\n",
       "      <td>127488</td>\n",
       "      <td>-999.9</td>\n",
       "      <td>9</td>\n",
       "    </tr>\n",
       "    <tr>\n",
       "      <th>1945-11-03</th>\n",
       "      <td>127488</td>\n",
       "      <td>-999.9</td>\n",
       "      <td>9</td>\n",
       "    </tr>\n",
       "    <tr>\n",
       "      <th>1945-11-04</th>\n",
       "      <td>127488</td>\n",
       "      <td>-999.9</td>\n",
       "      <td>9</td>\n",
       "    </tr>\n",
       "    <tr>\n",
       "      <th>1945-11-05</th>\n",
       "      <td>127488</td>\n",
       "      <td>-999.9</td>\n",
       "      <td>9</td>\n",
       "    </tr>\n",
       "  </tbody>\n",
       "</table>\n",
       "<p>195 rows × 3 columns</p>\n",
       "</div>"
      ],
      "text/plain": [
       "             SOUID  meantemperature   Q_TG\n",
       "Date                                      \n",
       "1945-04-25  127488           -999.9      9\n",
       "1945-04-26  127488           -999.9      9\n",
       "1945-04-27  127488           -999.9      9\n",
       "1945-04-28  127488           -999.9      9\n",
       "1945-04-29  127488           -999.9      9\n",
       "...            ...              ...    ...\n",
       "1945-11-01  127488           -999.9      9\n",
       "1945-11-02  127488           -999.9      9\n",
       "1945-11-03  127488           -999.9      9\n",
       "1945-11-04  127488           -999.9      9\n",
       "1945-11-05  127488           -999.9      9\n",
       "\n",
       "[195 rows x 3 columns]"
      ]
     },
     "execution_count": 68,
     "metadata": {},
     "output_type": "execute_result"
    }
   ],
   "source": [
    "temp.loc[temp['meantemperature'] < -100 ]"
   ]
  },
  {
   "cell_type": "code",
   "execution_count": 69,
   "id": "be32699c",
   "metadata": {},
   "outputs": [
    {
     "data": {
      "text/plain": [
       "[<matplotlib.lines.Line2D at 0x298a9408040>]"
      ]
     },
     "execution_count": 69,
     "metadata": {},
     "output_type": "execute_result"
    },
    {
     "data": {
      "image/png": "[encoded data removed]",
      "text/plain": [
       "<Figure size 864x432 with 1 Axes>"
      ]
     },
     "metadata": {},
     "output_type": "display_data"
    }
   ],
   "source": [
    "plt.title(\"Daily mean temperature over time\")\n",
    "plt.ylabel('Temperature in °C')\n",
    "#plt.ylim(-20,40)\n",
    "plt.plot(temp.index[10000:15000],temp['meantemperature'][10000:15000])"
   ]
  },
  {
   "cell_type": "code",
   "execution_count": 70,
   "id": "df39a251",
   "metadata": {},
   "outputs": [
    {
     "data": {
      "text/html": [
       "<div>\n",
       "<style scoped>\n",
       "    .dataframe tbody tr th:only-of-type {\n",
       "        vertical-align: middle;\n",
       "    }\n",
       "\n",
       "    .dataframe tbody tr th {\n",
       "        vertical-align: top;\n",
       "    }\n",
       "\n",
       "    .dataframe thead th {\n",
       "        text-align: right;\n",
       "    }\n",
       "</style>\n",
       "<table border=\"1\" class=\"dataframe\">\n",
       "  <thead>\n",
       "    <tr style=\"text-align: right;\">\n",
       "      <th></th>\n",
       "      <th>meantemperature</th>\n",
       "    </tr>\n",
       "    <tr>\n",
       "      <th>Date</th>\n",
       "      <th></th>\n",
       "    </tr>\n",
       "  </thead>\n",
       "  <tbody>\n",
       "    <tr>\n",
       "      <th>1876-01-01</th>\n",
       "      <td>2.2</td>\n",
       "    </tr>\n",
       "    <tr>\n",
       "      <th>1876-01-02</th>\n",
       "      <td>2.5</td>\n",
       "    </tr>\n",
       "    <tr>\n",
       "      <th>1876-01-03</th>\n",
       "      <td>0.3</td>\n",
       "    </tr>\n",
       "    <tr>\n",
       "      <th>1876-01-04</th>\n",
       "      <td>-5.8</td>\n",
       "    </tr>\n",
       "    <tr>\n",
       "      <th>1876-01-05</th>\n",
       "      <td>-9.8</td>\n",
       "    </tr>\n",
       "    <tr>\n",
       "      <th>...</th>\n",
       "      <td>...</td>\n",
       "    </tr>\n",
       "    <tr>\n",
       "      <th>2022-02-24</th>\n",
       "      <td>5.9</td>\n",
       "    </tr>\n",
       "    <tr>\n",
       "      <th>2022-02-25</th>\n",
       "      <td>4.4</td>\n",
       "    </tr>\n",
       "    <tr>\n",
       "      <th>2022-02-26</th>\n",
       "      <td>4.1</td>\n",
       "    </tr>\n",
       "    <tr>\n",
       "      <th>2022-02-27</th>\n",
       "      <td>0.5</td>\n",
       "    </tr>\n",
       "    <tr>\n",
       "      <th>2022-02-28</th>\n",
       "      <td>1.7</td>\n",
       "    </tr>\n",
       "  </tbody>\n",
       "</table>\n",
       "<p>53385 rows × 1 columns</p>\n",
       "</div>"
      ],
      "text/plain": [
       "            meantemperature\n",
       "Date                       \n",
       "1876-01-01              2.2\n",
       "1876-01-02              2.5\n",
       "1876-01-03              0.3\n",
       "1876-01-04             -5.8\n",
       "1876-01-05             -9.8\n",
       "...                     ...\n",
       "2022-02-24              5.9\n",
       "2022-02-25              4.4\n",
       "2022-02-26              4.1\n",
       "2022-02-27              0.5\n",
       "2022-02-28              1.7\n",
       "\n",
       "[53385 rows x 1 columns]"
      ]
     },
     "execution_count": 70,
     "metadata": {},
     "output_type": "execute_result"
    }
   ],
   "source": [
    "wtemp = temp.drop([' SOUID',' Q_TG'],axis=1)\n",
    "wtemp"
   ]
  },
  {
   "cell_type": "code",
   "execution_count": 71,
   "id": "cec324d6",
   "metadata": {},
   "outputs": [],
   "source": [
    "wtemp = wtemp.loc[wtemp['meantemperature'] > -100]"
   ]
  },
  {
   "cell_type": "code",
   "execution_count": 72,
   "id": "1b95bc14",
   "metadata": {},
   "outputs": [
    {
     "data": {
      "text/html": [
       "<div>\n",
       "<style scoped>\n",
       "    .dataframe tbody tr th:only-of-type {\n",
       "        vertical-align: middle;\n",
       "    }\n",
       "\n",
       "    .dataframe tbody tr th {\n",
       "        vertical-align: top;\n",
       "    }\n",
       "\n",
       "    .dataframe thead th {\n",
       "        text-align: right;\n",
       "    }\n",
       "</style>\n",
       "<table border=\"1\" class=\"dataframe\">\n",
       "  <thead>\n",
       "    <tr style=\"text-align: right;\">\n",
       "      <th></th>\n",
       "      <th>meantemperature</th>\n",
       "    </tr>\n",
       "    <tr>\n",
       "      <th>Date</th>\n",
       "      <th></th>\n",
       "    </tr>\n",
       "  </thead>\n",
       "  <tbody>\n",
       "    <tr>\n",
       "      <th>1876-01-01</th>\n",
       "      <td>2.2</td>\n",
       "    </tr>\n",
       "    <tr>\n",
       "      <th>1876-01-02</th>\n",
       "      <td>2.5</td>\n",
       "    </tr>\n",
       "    <tr>\n",
       "      <th>1876-01-03</th>\n",
       "      <td>0.3</td>\n",
       "    </tr>\n",
       "    <tr>\n",
       "      <th>1876-01-04</th>\n",
       "      <td>-5.8</td>\n",
       "    </tr>\n",
       "    <tr>\n",
       "      <th>1876-01-05</th>\n",
       "      <td>-9.8</td>\n",
       "    </tr>\n",
       "    <tr>\n",
       "      <th>...</th>\n",
       "      <td>...</td>\n",
       "    </tr>\n",
       "    <tr>\n",
       "      <th>2022-02-24</th>\n",
       "      <td>5.9</td>\n",
       "    </tr>\n",
       "    <tr>\n",
       "      <th>2022-02-25</th>\n",
       "      <td>4.4</td>\n",
       "    </tr>\n",
       "    <tr>\n",
       "      <th>2022-02-26</th>\n",
       "      <td>4.1</td>\n",
       "    </tr>\n",
       "    <tr>\n",
       "      <th>2022-02-27</th>\n",
       "      <td>0.5</td>\n",
       "    </tr>\n",
       "    <tr>\n",
       "      <th>2022-02-28</th>\n",
       "      <td>1.7</td>\n",
       "    </tr>\n",
       "  </tbody>\n",
       "</table>\n",
       "<p>53190 rows × 1 columns</p>\n",
       "</div>"
      ],
      "text/plain": [
       "            meantemperature\n",
       "Date                       \n",
       "1876-01-01              2.2\n",
       "1876-01-02              2.5\n",
       "1876-01-03              0.3\n",
       "1876-01-04             -5.8\n",
       "1876-01-05             -9.8\n",
       "...                     ...\n",
       "2022-02-24              5.9\n",
       "2022-02-25              4.4\n",
       "2022-02-26              4.1\n",
       "2022-02-27              0.5\n",
       "2022-02-28              1.7\n",
       "\n",
       "[53190 rows x 1 columns]"
      ]
     },
     "execution_count": 72,
     "metadata": {},
     "output_type": "execute_result"
    }
   ],
   "source": [
    "wtemp"
   ]
  },
  {
   "cell_type": "code",
   "execution_count": 73,
   "id": "a6e394a7",
   "metadata": {},
   "outputs": [
    {
     "data": {
      "text/plain": [
       "[<matplotlib.lines.Line2D at 0x298a9030220>]"
      ]
     },
     "execution_count": 73,
     "metadata": {},
     "output_type": "execute_result"
    },
    {
     "data": {
      "image/png": "[encoded data removed]",
      "text/plain": [
       "<Figure size 864x432 with 1 Axes>"
      ]
     },
     "metadata": {},
     "output_type": "display_data"
    }
   ],
   "source": [
    "plt.title(\"Daily mean temperature over time\")\n",
    "plt.ylabel('Temperature in °C')\n",
    "plt.xticks(rotation = 50)\n",
    "plt.plot(wtemp['2019-11-15':'2022-02-25'])"
   ]
  },
  {
   "cell_type": "code",
   "execution_count": 74,
   "id": "71e2d093",
   "metadata": {},
   "outputs": [
    {
     "data": {
      "text/plain": [
       "pandas.core.indexes.datetimes.DatetimeIndex"
      ]
     },
     "execution_count": 74,
     "metadata": {},
     "output_type": "execute_result"
    }
   ],
   "source": [
    "type(wtemp.index)"
   ]
  },
  {
   "cell_type": "code",
   "execution_count": 75,
   "id": "208e6de9",
   "metadata": {},
   "outputs": [
    {
     "data": {
      "text/plain": [
       "Int64Index([1, 1, 1, 1, 1, 1, 1, 1, 1, 1,\n",
       "            ...\n",
       "            2, 2, 2, 2, 2, 2, 2, 2, 2, 2],\n",
       "           dtype='int64', name='Date', length=53190)"
      ]
     },
     "execution_count": 75,
     "metadata": {},
     "output_type": "execute_result"
    }
   ],
   "source": [
    "wtemp.index.month"
   ]
  },
  {
   "cell_type": "code",
   "execution_count": 76,
   "id": "f1a537ab",
   "metadata": {},
   "outputs": [],
   "source": [
    "from sklearn.linear_model import LinearRegression"
   ]
  },
  {
   "cell_type": "code",
   "execution_count": 77,
   "id": "cf2a24f1",
   "metadata": {},
   "outputs": [
    {
     "name": "stderr",
     "output_type": "stream",
     "text": [
      "C:\\Users\\aoe\\AppData\\Local\\Temp/ipykernel_7348/2948537851.py:1: SettingWithCopyWarning: \n",
      "A value is trying to be set on a copy of a slice from a DataFrame.\n",
      "Try using .loc[row_indexer,col_indexer] = value instead\n",
      "\n",
      "See the caveats in the documentation: https://pandas.pydata.org/pandas-docs/stable/user_guide/indexing.html#returning-a-view-versus-a-copy\n",
      "  wtemp['timestep'] = range(len(wtemp))\n"
     ]
    }
   ],
   "source": [
    "wtemp['timestep'] = range(len(wtemp))"
   ]
  },
  {
   "cell_type": "code",
   "execution_count": 78,
   "id": "84782d1f",
   "metadata": {},
   "outputs": [],
   "source": [
    "X = wtemp[['timestep']] # matrix (or DataFrame)\n",
    "y = wtemp['meantemperature'] # vector (or Series)"
   ]
  },
  {
   "cell_type": "code",
   "execution_count": 79,
   "id": "78139cce",
   "metadata": {},
   "outputs": [],
   "source": [
    "m = LinearRegression()"
   ]
  },
  {
   "cell_type": "code",
   "execution_count": 80,
   "id": "039ada87",
   "metadata": {},
   "outputs": [
    {
     "data": {
      "text/plain": [
       "LinearRegression()"
      ]
     },
     "execution_count": 80,
     "metadata": {},
     "output_type": "execute_result"
    }
   ],
   "source": [
    "m.fit(X, y)"
   ]
  },
  {
   "cell_type": "code",
   "execution_count": 81,
   "id": "389be644",
   "metadata": {},
   "outputs": [
    {
     "name": "stderr",
     "output_type": "stream",
     "text": [
      "C:\\Users\\aoe\\AppData\\Local\\Temp/ipykernel_7348/4116631560.py:1: SettingWithCopyWarning: \n",
      "A value is trying to be set on a copy of a slice from a DataFrame.\n",
      "Try using .loc[row_indexer,col_indexer] = value instead\n",
      "\n",
      "See the caveats in the documentation: https://pandas.pydata.org/pandas-docs/stable/user_guide/indexing.html#returning-a-view-versus-a-copy\n",
      "  wtemp['trend'] = m.predict(X)\n"
     ]
    }
   ],
   "source": [
    "wtemp['trend'] = m.predict(X)"
   ]
  },
  {
   "cell_type": "code",
   "execution_count": 82,
   "id": "afe692b3",
   "metadata": {},
   "outputs": [
    {
     "data": {
      "text/plain": [
       "<AxesSubplot:xlabel='Date'>"
      ]
     },
     "execution_count": 82,
     "metadata": {},
     "output_type": "execute_result"
    },
    {
     "data": {
      "image/png": "[encoded data removed]",
      "text/plain": [
       "<Figure size 864x432 with 1 Axes>"
      ]
     },
     "metadata": {},
     "output_type": "display_data"
    }
   ],
   "source": [
    "wtemp[['meantemperature', 'trend']].plot()"
   ]
  },
  {
   "cell_type": "code",
   "execution_count": 83,
   "id": "18f8c1a0",
   "metadata": {},
   "outputs": [
    {
     "name": "stderr",
     "output_type": "stream",
     "text": [
      "C:\\Users\\aoe\\AppData\\Local\\Temp/ipykernel_7348/726575517.py:1: SettingWithCopyWarning: \n",
      "A value is trying to be set on a copy of a slice from a DataFrame.\n",
      "Try using .loc[row_indexer,col_indexer] = value instead\n",
      "\n",
      "See the caveats in the documentation: https://pandas.pydata.org/pandas-docs/stable/user_guide/indexing.html#returning-a-view-versus-a-copy\n",
      "  wtemp['wo_trend'] = wtemp['meantemperature'] - wtemp['trend']\n"
     ]
    },
    {
     "data": {
      "text/plain": [
       "<AxesSubplot:xlabel='Date'>"
      ]
     },
     "execution_count": 83,
     "metadata": {},
     "output_type": "execute_result"
    },
    {
     "data": {
      "image/png": "[encoded data removed]",
      "text/plain": [
       "<Figure size 864x432 with 1 Axes>"
      ]
     },
     "metadata": {},
     "output_type": "display_data"
    }
   ],
   "source": [
    "wtemp['wo_trend'] = wtemp['meantemperature'] - wtemp['trend']\n",
    "\n",
    "wtemp['wo_trend'].plot()"
   ]
  },
  {
   "cell_type": "code",
   "execution_count": 84,
   "id": "95c9ed35",
   "metadata": {},
   "outputs": [],
   "source": [
    "# One-Hot-Encoding the month\n",
    "seasonal_dummies = pd.get_dummies(wtemp.index.month,\n",
    "                                  prefix='month',\n",
    "                                  drop_first=True).set_index(wtemp.index)"
   ]
  },
  {
   "cell_type": "code",
   "execution_count": 85,
   "id": "30bf366c",
   "metadata": {},
   "outputs": [
    {
     "data": {
      "text/html": [
       "<div>\n",
       "<style scoped>\n",
       "    .dataframe tbody tr th:only-of-type {\n",
       "        vertical-align: middle;\n",
       "    }\n",
       "\n",
       "    .dataframe tbody tr th {\n",
       "        vertical-align: top;\n",
       "    }\n",
       "\n",
       "    .dataframe thead th {\n",
       "        text-align: right;\n",
       "    }\n",
       "</style>\n",
       "<table border=\"1\" class=\"dataframe\">\n",
       "  <thead>\n",
       "    <tr style=\"text-align: right;\">\n",
       "      <th></th>\n",
       "      <th>month_2</th>\n",
       "      <th>month_3</th>\n",
       "      <th>month_4</th>\n",
       "      <th>month_5</th>\n",
       "      <th>month_6</th>\n",
       "      <th>month_7</th>\n",
       "      <th>month_8</th>\n",
       "      <th>month_9</th>\n",
       "      <th>month_10</th>\n",
       "      <th>month_11</th>\n",
       "      <th>month_12</th>\n",
       "    </tr>\n",
       "    <tr>\n",
       "      <th>Date</th>\n",
       "      <th></th>\n",
       "      <th></th>\n",
       "      <th></th>\n",
       "      <th></th>\n",
       "      <th></th>\n",
       "      <th></th>\n",
       "      <th></th>\n",
       "      <th></th>\n",
       "      <th></th>\n",
       "      <th></th>\n",
       "      <th></th>\n",
       "    </tr>\n",
       "  </thead>\n",
       "  <tbody>\n",
       "    <tr>\n",
       "      <th>1876-01-01</th>\n",
       "      <td>0</td>\n",
       "      <td>0</td>\n",
       "      <td>0</td>\n",
       "      <td>0</td>\n",
       "      <td>0</td>\n",
       "      <td>0</td>\n",
       "      <td>0</td>\n",
       "      <td>0</td>\n",
       "      <td>0</td>\n",
       "      <td>0</td>\n",
       "      <td>0</td>\n",
       "    </tr>\n",
       "    <tr>\n",
       "      <th>1876-01-02</th>\n",
       "      <td>0</td>\n",
       "      <td>0</td>\n",
       "      <td>0</td>\n",
       "      <td>0</td>\n",
       "      <td>0</td>\n",
       "      <td>0</td>\n",
       "      <td>0</td>\n",
       "      <td>0</td>\n",
       "      <td>0</td>\n",
       "      <td>0</td>\n",
       "      <td>0</td>\n",
       "    </tr>\n",
       "    <tr>\n",
       "      <th>1876-01-03</th>\n",
       "      <td>0</td>\n",
       "      <td>0</td>\n",
       "      <td>0</td>\n",
       "      <td>0</td>\n",
       "      <td>0</td>\n",
       "      <td>0</td>\n",
       "      <td>0</td>\n",
       "      <td>0</td>\n",
       "      <td>0</td>\n",
       "      <td>0</td>\n",
       "      <td>0</td>\n",
       "    </tr>\n",
       "    <tr>\n",
       "      <th>1876-01-04</th>\n",
       "      <td>0</td>\n",
       "      <td>0</td>\n",
       "      <td>0</td>\n",
       "      <td>0</td>\n",
       "      <td>0</td>\n",
       "      <td>0</td>\n",
       "      <td>0</td>\n",
       "      <td>0</td>\n",
       "      <td>0</td>\n",
       "      <td>0</td>\n",
       "      <td>0</td>\n",
       "    </tr>\n",
       "    <tr>\n",
       "      <th>1876-01-05</th>\n",
       "      <td>0</td>\n",
       "      <td>0</td>\n",
       "      <td>0</td>\n",
       "      <td>0</td>\n",
       "      <td>0</td>\n",
       "      <td>0</td>\n",
       "      <td>0</td>\n",
       "      <td>0</td>\n",
       "      <td>0</td>\n",
       "      <td>0</td>\n",
       "      <td>0</td>\n",
       "    </tr>\n",
       "    <tr>\n",
       "      <th>...</th>\n",
       "      <td>...</td>\n",
       "      <td>...</td>\n",
       "      <td>...</td>\n",
       "      <td>...</td>\n",
       "      <td>...</td>\n",
       "      <td>...</td>\n",
       "      <td>...</td>\n",
       "      <td>...</td>\n",
       "      <td>...</td>\n",
       "      <td>...</td>\n",
       "      <td>...</td>\n",
       "    </tr>\n",
       "    <tr>\n",
       "      <th>2022-02-24</th>\n",
       "      <td>1</td>\n",
       "      <td>0</td>\n",
       "      <td>0</td>\n",
       "      <td>0</td>\n",
       "      <td>0</td>\n",
       "      <td>0</td>\n",
       "      <td>0</td>\n",
       "      <td>0</td>\n",
       "      <td>0</td>\n",
       "      <td>0</td>\n",
       "      <td>0</td>\n",
       "    </tr>\n",
       "    <tr>\n",
       "      <th>2022-02-25</th>\n",
       "      <td>1</td>\n",
       "      <td>0</td>\n",
       "      <td>0</td>\n",
       "      <td>0</td>\n",
       "      <td>0</td>\n",
       "      <td>0</td>\n",
       "      <td>0</td>\n",
       "      <td>0</td>\n",
       "      <td>0</td>\n",
       "      <td>0</td>\n",
       "      <td>0</td>\n",
       "    </tr>\n",
       "    <tr>\n",
       "      <th>2022-02-26</th>\n",
       "      <td>1</td>\n",
       "      <td>0</td>\n",
       "      <td>0</td>\n",
       "      <td>0</td>\n",
       "      <td>0</td>\n",
       "      <td>0</td>\n",
       "      <td>0</td>\n",
       "      <td>0</td>\n",
       "      <td>0</td>\n",
       "      <td>0</td>\n",
       "      <td>0</td>\n",
       "    </tr>\n",
       "    <tr>\n",
       "      <th>2022-02-27</th>\n",
       "      <td>1</td>\n",
       "      <td>0</td>\n",
       "      <td>0</td>\n",
       "      <td>0</td>\n",
       "      <td>0</td>\n",
       "      <td>0</td>\n",
       "      <td>0</td>\n",
       "      <td>0</td>\n",
       "      <td>0</td>\n",
       "      <td>0</td>\n",
       "      <td>0</td>\n",
       "    </tr>\n",
       "    <tr>\n",
       "      <th>2022-02-28</th>\n",
       "      <td>1</td>\n",
       "      <td>0</td>\n",
       "      <td>0</td>\n",
       "      <td>0</td>\n",
       "      <td>0</td>\n",
       "      <td>0</td>\n",
       "      <td>0</td>\n",
       "      <td>0</td>\n",
       "      <td>0</td>\n",
       "      <td>0</td>\n",
       "      <td>0</td>\n",
       "    </tr>\n",
       "  </tbody>\n",
       "</table>\n",
       "<p>53190 rows × 11 columns</p>\n",
       "</div>"
      ],
      "text/plain": [
       "            month_2  month_3  month_4  month_5  month_6  month_7  month_8  \\\n",
       "Date                                                                        \n",
       "1876-01-01        0        0        0        0        0        0        0   \n",
       "1876-01-02        0        0        0        0        0        0        0   \n",
       "1876-01-03        0        0        0        0        0        0        0   \n",
       "1876-01-04        0        0        0        0        0        0        0   \n",
       "1876-01-05        0        0        0        0        0        0        0   \n",
       "...             ...      ...      ...      ...      ...      ...      ...   \n",
       "2022-02-24        1        0        0        0        0        0        0   \n",
       "2022-02-25        1        0        0        0        0        0        0   \n",
       "2022-02-26        1        0        0        0        0        0        0   \n",
       "2022-02-27        1        0        0        0        0        0        0   \n",
       "2022-02-28        1        0        0        0        0        0        0   \n",
       "\n",
       "            month_9  month_10  month_11  month_12  \n",
       "Date                                               \n",
       "1876-01-01        0         0         0         0  \n",
       "1876-01-02        0         0         0         0  \n",
       "1876-01-03        0         0         0         0  \n",
       "1876-01-04        0         0         0         0  \n",
       "1876-01-05        0         0         0         0  \n",
       "...             ...       ...       ...       ...  \n",
       "2022-02-24        0         0         0         0  \n",
       "2022-02-25        0         0         0         0  \n",
       "2022-02-26        0         0         0         0  \n",
       "2022-02-27        0         0         0         0  \n",
       "2022-02-28        0         0         0         0  \n",
       "\n",
       "[53190 rows x 11 columns]"
      ]
     },
     "execution_count": 85,
     "metadata": {},
     "output_type": "execute_result"
    }
   ],
   "source": [
    "seasonal_dummies"
   ]
  },
  {
   "cell_type": "code",
   "execution_count": 86,
   "id": "c60a7f5b",
   "metadata": {},
   "outputs": [],
   "source": [
    "# join the dummies with the flights data frame\n",
    "wtemp = wtemp.join(seasonal_dummies)"
   ]
  },
  {
   "cell_type": "code",
   "execution_count": 87,
   "id": "e9edb3ec",
   "metadata": {},
   "outputs": [
    {
     "data": {
      "text/html": [
       "<div>\n",
       "<style scoped>\n",
       "    .dataframe tbody tr th:only-of-type {\n",
       "        vertical-align: middle;\n",
       "    }\n",
       "\n",
       "    .dataframe tbody tr th {\n",
       "        vertical-align: top;\n",
       "    }\n",
       "\n",
       "    .dataframe thead th {\n",
       "        text-align: right;\n",
       "    }\n",
       "</style>\n",
       "<table border=\"1\" class=\"dataframe\">\n",
       "  <thead>\n",
       "    <tr style=\"text-align: right;\">\n",
       "      <th></th>\n",
       "      <th>meantemperature</th>\n",
       "      <th>timestep</th>\n",
       "      <th>trend</th>\n",
       "      <th>wo_trend</th>\n",
       "      <th>month_2</th>\n",
       "      <th>month_3</th>\n",
       "      <th>month_4</th>\n",
       "      <th>month_5</th>\n",
       "      <th>month_6</th>\n",
       "      <th>month_7</th>\n",
       "      <th>month_8</th>\n",
       "      <th>month_9</th>\n",
       "      <th>month_10</th>\n",
       "      <th>month_11</th>\n",
       "      <th>month_12</th>\n",
       "    </tr>\n",
       "    <tr>\n",
       "      <th>Date</th>\n",
       "      <th></th>\n",
       "      <th></th>\n",
       "      <th></th>\n",
       "      <th></th>\n",
       "      <th></th>\n",
       "      <th></th>\n",
       "      <th></th>\n",
       "      <th></th>\n",
       "      <th></th>\n",
       "      <th></th>\n",
       "      <th></th>\n",
       "      <th></th>\n",
       "      <th></th>\n",
       "      <th></th>\n",
       "      <th></th>\n",
       "    </tr>\n",
       "  </thead>\n",
       "  <tbody>\n",
       "    <tr>\n",
       "      <th>1876-01-01</th>\n",
       "      <td>2.2</td>\n",
       "      <td>0</td>\n",
       "      <td>8.511867</td>\n",
       "      <td>-6.311867</td>\n",
       "      <td>0</td>\n",
       "      <td>0</td>\n",
       "      <td>0</td>\n",
       "      <td>0</td>\n",
       "      <td>0</td>\n",
       "      <td>0</td>\n",
       "      <td>0</td>\n",
       "      <td>0</td>\n",
       "      <td>0</td>\n",
       "      <td>0</td>\n",
       "      <td>0</td>\n",
       "    </tr>\n",
       "    <tr>\n",
       "      <th>1876-01-02</th>\n",
       "      <td>2.5</td>\n",
       "      <td>1</td>\n",
       "      <td>8.511900</td>\n",
       "      <td>-6.011900</td>\n",
       "      <td>0</td>\n",
       "      <td>0</td>\n",
       "      <td>0</td>\n",
       "      <td>0</td>\n",
       "      <td>0</td>\n",
       "      <td>0</td>\n",
       "      <td>0</td>\n",
       "      <td>0</td>\n",
       "      <td>0</td>\n",
       "      <td>0</td>\n",
       "      <td>0</td>\n",
       "    </tr>\n",
       "    <tr>\n",
       "      <th>1876-01-03</th>\n",
       "      <td>0.3</td>\n",
       "      <td>2</td>\n",
       "      <td>8.511934</td>\n",
       "      <td>-8.211934</td>\n",
       "      <td>0</td>\n",
       "      <td>0</td>\n",
       "      <td>0</td>\n",
       "      <td>0</td>\n",
       "      <td>0</td>\n",
       "      <td>0</td>\n",
       "      <td>0</td>\n",
       "      <td>0</td>\n",
       "      <td>0</td>\n",
       "      <td>0</td>\n",
       "      <td>0</td>\n",
       "    </tr>\n",
       "    <tr>\n",
       "      <th>1876-01-04</th>\n",
       "      <td>-5.8</td>\n",
       "      <td>3</td>\n",
       "      <td>8.511967</td>\n",
       "      <td>-14.311967</td>\n",
       "      <td>0</td>\n",
       "      <td>0</td>\n",
       "      <td>0</td>\n",
       "      <td>0</td>\n",
       "      <td>0</td>\n",
       "      <td>0</td>\n",
       "      <td>0</td>\n",
       "      <td>0</td>\n",
       "      <td>0</td>\n",
       "      <td>0</td>\n",
       "      <td>0</td>\n",
       "    </tr>\n",
       "    <tr>\n",
       "      <th>1876-01-05</th>\n",
       "      <td>-9.8</td>\n",
       "      <td>4</td>\n",
       "      <td>8.512000</td>\n",
       "      <td>-18.312000</td>\n",
       "      <td>0</td>\n",
       "      <td>0</td>\n",
       "      <td>0</td>\n",
       "      <td>0</td>\n",
       "      <td>0</td>\n",
       "      <td>0</td>\n",
       "      <td>0</td>\n",
       "      <td>0</td>\n",
       "      <td>0</td>\n",
       "      <td>0</td>\n",
       "      <td>0</td>\n",
       "    </tr>\n",
       "  </tbody>\n",
       "</table>\n",
       "</div>"
      ],
      "text/plain": [
       "            meantemperature  timestep     trend   wo_trend  month_2  month_3  \\\n",
       "Date                                                                           \n",
       "1876-01-01              2.2         0  8.511867  -6.311867        0        0   \n",
       "1876-01-02              2.5         1  8.511900  -6.011900        0        0   \n",
       "1876-01-03              0.3         2  8.511934  -8.211934        0        0   \n",
       "1876-01-04             -5.8         3  8.511967 -14.311967        0        0   \n",
       "1876-01-05             -9.8         4  8.512000 -18.312000        0        0   \n",
       "\n",
       "            month_4  month_5  month_6  month_7  month_8  month_9  month_10  \\\n",
       "Date                                                                         \n",
       "1876-01-01        0        0        0        0        0        0         0   \n",
       "1876-01-02        0        0        0        0        0        0         0   \n",
       "1876-01-03        0        0        0        0        0        0         0   \n",
       "1876-01-04        0        0        0        0        0        0         0   \n",
       "1876-01-05        0        0        0        0        0        0         0   \n",
       "\n",
       "            month_11  month_12  \n",
       "Date                            \n",
       "1876-01-01         0         0  \n",
       "1876-01-02         0         0  \n",
       "1876-01-03         0         0  \n",
       "1876-01-04         0         0  \n",
       "1876-01-05         0         0  "
      ]
     },
     "execution_count": 87,
     "metadata": {},
     "output_type": "execute_result"
    }
   ],
   "source": [
    "wtemp.head()"
   ]
  },
  {
   "cell_type": "code",
   "execution_count": 88,
   "id": "458951e1",
   "metadata": {},
   "outputs": [],
   "source": [
    "# Define X and y\n",
    "X = wtemp.drop(columns=['meantemperature', 'trend', 'wo_trend'])  # thus keeping timestep and months' dummies\n",
    "\n",
    "# y is already defined (the meantemperature)"
   ]
  },
  {
   "cell_type": "code",
   "execution_count": 89,
   "id": "6d6bfcd2",
   "metadata": {},
   "outputs": [
    {
     "data": {
      "text/html": [
       "<div>\n",
       "<style scoped>\n",
       "    .dataframe tbody tr th:only-of-type {\n",
       "        vertical-align: middle;\n",
       "    }\n",
       "\n",
       "    .dataframe tbody tr th {\n",
       "        vertical-align: top;\n",
       "    }\n",
       "\n",
       "    .dataframe thead th {\n",
       "        text-align: right;\n",
       "    }\n",
       "</style>\n",
       "<table border=\"1\" class=\"dataframe\">\n",
       "  <thead>\n",
       "    <tr style=\"text-align: right;\">\n",
       "      <th></th>\n",
       "      <th>meantemperature</th>\n",
       "      <th>timestep</th>\n",
       "      <th>trend</th>\n",
       "      <th>wo_trend</th>\n",
       "      <th>month_2</th>\n",
       "      <th>month_3</th>\n",
       "      <th>month_4</th>\n",
       "      <th>month_5</th>\n",
       "      <th>month_6</th>\n",
       "      <th>month_7</th>\n",
       "      <th>month_8</th>\n",
       "      <th>month_9</th>\n",
       "      <th>month_10</th>\n",
       "      <th>month_11</th>\n",
       "      <th>month_12</th>\n",
       "      <th>trend + seasonal</th>\n",
       "    </tr>\n",
       "    <tr>\n",
       "      <th>Date</th>\n",
       "      <th></th>\n",
       "      <th></th>\n",
       "      <th></th>\n",
       "      <th></th>\n",
       "      <th></th>\n",
       "      <th></th>\n",
       "      <th></th>\n",
       "      <th></th>\n",
       "      <th></th>\n",
       "      <th></th>\n",
       "      <th></th>\n",
       "      <th></th>\n",
       "      <th></th>\n",
       "      <th></th>\n",
       "      <th></th>\n",
       "      <th></th>\n",
       "    </tr>\n",
       "  </thead>\n",
       "  <tbody>\n",
       "    <tr>\n",
       "      <th>1876-01-01</th>\n",
       "      <td>2.2</td>\n",
       "      <td>0</td>\n",
       "      <td>8.511867</td>\n",
       "      <td>-6.311867</td>\n",
       "      <td>0</td>\n",
       "      <td>0</td>\n",
       "      <td>0</td>\n",
       "      <td>0</td>\n",
       "      <td>0</td>\n",
       "      <td>0</td>\n",
       "      <td>0</td>\n",
       "      <td>0</td>\n",
       "      <td>0</td>\n",
       "      <td>0</td>\n",
       "      <td>0</td>\n",
       "      <td>-0.868683</td>\n",
       "    </tr>\n",
       "    <tr>\n",
       "      <th>1876-01-02</th>\n",
       "      <td>2.5</td>\n",
       "      <td>1</td>\n",
       "      <td>8.511900</td>\n",
       "      <td>-6.011900</td>\n",
       "      <td>0</td>\n",
       "      <td>0</td>\n",
       "      <td>0</td>\n",
       "      <td>0</td>\n",
       "      <td>0</td>\n",
       "      <td>0</td>\n",
       "      <td>0</td>\n",
       "      <td>0</td>\n",
       "      <td>0</td>\n",
       "      <td>0</td>\n",
       "      <td>0</td>\n",
       "      <td>-0.868649</td>\n",
       "    </tr>\n",
       "    <tr>\n",
       "      <th>1876-01-03</th>\n",
       "      <td>0.3</td>\n",
       "      <td>2</td>\n",
       "      <td>8.511934</td>\n",
       "      <td>-8.211934</td>\n",
       "      <td>0</td>\n",
       "      <td>0</td>\n",
       "      <td>0</td>\n",
       "      <td>0</td>\n",
       "      <td>0</td>\n",
       "      <td>0</td>\n",
       "      <td>0</td>\n",
       "      <td>0</td>\n",
       "      <td>0</td>\n",
       "      <td>0</td>\n",
       "      <td>0</td>\n",
       "      <td>-0.868616</td>\n",
       "    </tr>\n",
       "    <tr>\n",
       "      <th>1876-01-04</th>\n",
       "      <td>-5.8</td>\n",
       "      <td>3</td>\n",
       "      <td>8.511967</td>\n",
       "      <td>-14.311967</td>\n",
       "      <td>0</td>\n",
       "      <td>0</td>\n",
       "      <td>0</td>\n",
       "      <td>0</td>\n",
       "      <td>0</td>\n",
       "      <td>0</td>\n",
       "      <td>0</td>\n",
       "      <td>0</td>\n",
       "      <td>0</td>\n",
       "      <td>0</td>\n",
       "      <td>0</td>\n",
       "      <td>-0.868582</td>\n",
       "    </tr>\n",
       "    <tr>\n",
       "      <th>1876-01-05</th>\n",
       "      <td>-9.8</td>\n",
       "      <td>4</td>\n",
       "      <td>8.512000</td>\n",
       "      <td>-18.312000</td>\n",
       "      <td>0</td>\n",
       "      <td>0</td>\n",
       "      <td>0</td>\n",
       "      <td>0</td>\n",
       "      <td>0</td>\n",
       "      <td>0</td>\n",
       "      <td>0</td>\n",
       "      <td>0</td>\n",
       "      <td>0</td>\n",
       "      <td>0</td>\n",
       "      <td>0</td>\n",
       "      <td>-0.868549</td>\n",
       "    </tr>\n",
       "  </tbody>\n",
       "</table>\n",
       "</div>"
      ],
      "text/plain": [
       "            meantemperature  timestep     trend   wo_trend  month_2  month_3  \\\n",
       "Date                                                                           \n",
       "1876-01-01              2.2         0  8.511867  -6.311867        0        0   \n",
       "1876-01-02              2.5         1  8.511900  -6.011900        0        0   \n",
       "1876-01-03              0.3         2  8.511934  -8.211934        0        0   \n",
       "1876-01-04             -5.8         3  8.511967 -14.311967        0        0   \n",
       "1876-01-05             -9.8         4  8.512000 -18.312000        0        0   \n",
       "\n",
       "            month_4  month_5  month_6  month_7  month_8  month_9  month_10  \\\n",
       "Date                                                                         \n",
       "1876-01-01        0        0        0        0        0        0         0   \n",
       "1876-01-02        0        0        0        0        0        0         0   \n",
       "1876-01-03        0        0        0        0        0        0         0   \n",
       "1876-01-04        0        0        0        0        0        0         0   \n",
       "1876-01-05        0        0        0        0        0        0         0   \n",
       "\n",
       "            month_11  month_12  trend + seasonal  \n",
       "Date                                              \n",
       "1876-01-01         0         0         -0.868683  \n",
       "1876-01-02         0         0         -0.868649  \n",
       "1876-01-03         0         0         -0.868616  \n",
       "1876-01-04         0         0         -0.868582  \n",
       "1876-01-05         0         0         -0.868549  "
      ]
     },
     "execution_count": 89,
     "metadata": {},
     "output_type": "execute_result"
    }
   ],
   "source": [
    "m.fit(X, y)\n",
    "# Create a model with trend and seasonality\n",
    "wtemp['trend + seasonal'] = m.predict(X)\n",
    "wtemp.head()"
   ]
  },
  {
   "cell_type": "code",
   "execution_count": 90,
   "id": "a44f1055",
   "metadata": {},
   "outputs": [
    {
     "data": {
      "text/plain": [
       "<AxesSubplot:xlabel='Date'>"
      ]
     },
     "execution_count": 90,
     "metadata": {},
     "output_type": "execute_result"
    },
    {
     "data": {
      "image/png": "[encoded data removed]",
      "text/plain": [
       "<Figure size 864x432 with 1 Axes>"
      ]
     },
     "metadata": {},
     "output_type": "display_data"
    }
   ],
   "source": [
    "wtemp['1910-11-15':'1922-02-25'][['meantemperature', 'trend + seasonal']].plot()"
   ]
  },
  {
   "cell_type": "code",
   "execution_count": 91,
   "id": "ced20f11",
   "metadata": {},
   "outputs": [],
   "source": [
    "wtemp['remainder'] = wtemp['meantemperature'] - wtemp['trend + seasonal']"
   ]
  },
  {
   "cell_type": "code",
   "execution_count": 92,
   "id": "b041b313",
   "metadata": {},
   "outputs": [
    {
     "data": {
      "text/plain": [
       "<AxesSubplot:xlabel='Date'>"
      ]
     },
     "execution_count": 92,
     "metadata": {},
     "output_type": "execute_result"
    },
    {
     "data": {
      "image/png": "[encoded data removed]",
      "text/plain": [
       "<Figure size 864x432 with 1 Axes>"
      ]
     },
     "metadata": {},
     "output_type": "display_data"
    }
   ],
   "source": [
    "wtemp['1910-11-15':'1922-02-25']['remainder'].plot(style='o')"
   ]
  },
  {
   "cell_type": "code",
   "execution_count": 93,
   "id": "a7195a48",
   "metadata": {},
   "outputs": [],
   "source": [
    "wtemp['remainder'].to_csv('wtemp_remainder_month.csv')"
   ]
  },
  {
   "cell_type": "code",
   "execution_count": 94,
   "id": "75a3119d",
   "metadata": {},
   "outputs": [
    {
     "data": {
      "text/plain": [
       "Index(['meantemperature', 'timestep', 'trend', 'wo_trend', 'month_2',\n",
       "       'month_3', 'month_4', 'month_5', 'month_6', 'month_7', 'month_8',\n",
       "       'month_9', 'month_10', 'month_11', 'month_12', 'trend + seasonal',\n",
       "       'remainder'],\n",
       "      dtype='object')"
      ]
     },
     "execution_count": 94,
     "metadata": {},
     "output_type": "execute_result"
    }
   ],
   "source": [
    "wtemp.columns"
   ]
  },
  {
   "cell_type": "code",
   "execution_count": 95,
   "id": "4449ae45",
   "metadata": {},
   "outputs": [],
   "source": [
    "rtemp = wtemp.drop(columns=['meantemperature','timestep' ,'trend', 'wo_trend','month_2','month_3','month_4','month_5','month_6','month_7','month_8','month_9','month_10','month_11','month_12','trend + seasonal'])"
   ]
  },
  {
   "cell_type": "code",
   "execution_count": 96,
   "id": "d79ace45",
   "metadata": {},
   "outputs": [
    {
     "data": {
      "text/html": [
       "<div>\n",
       "<style scoped>\n",
       "    .dataframe tbody tr th:only-of-type {\n",
       "        vertical-align: middle;\n",
       "    }\n",
       "\n",
       "    .dataframe tbody tr th {\n",
       "        vertical-align: top;\n",
       "    }\n",
       "\n",
       "    .dataframe thead th {\n",
       "        text-align: right;\n",
       "    }\n",
       "</style>\n",
       "<table border=\"1\" class=\"dataframe\">\n",
       "  <thead>\n",
       "    <tr style=\"text-align: right;\">\n",
       "      <th></th>\n",
       "      <th>remainder</th>\n",
       "      <th>lag1</th>\n",
       "    </tr>\n",
       "    <tr>\n",
       "      <th>Date</th>\n",
       "      <th></th>\n",
       "      <th></th>\n",
       "    </tr>\n",
       "  </thead>\n",
       "  <tbody>\n",
       "    <tr>\n",
       "      <th>1876-01-01</th>\n",
       "      <td>3.068683</td>\n",
       "      <td>NaN</td>\n",
       "    </tr>\n",
       "    <tr>\n",
       "      <th>1876-01-02</th>\n",
       "      <td>3.368649</td>\n",
       "      <td>3.068683</td>\n",
       "    </tr>\n",
       "    <tr>\n",
       "      <th>1876-01-03</th>\n",
       "      <td>1.168616</td>\n",
       "      <td>3.368649</td>\n",
       "    </tr>\n",
       "    <tr>\n",
       "      <th>1876-01-04</th>\n",
       "      <td>-4.931418</td>\n",
       "      <td>1.168616</td>\n",
       "    </tr>\n",
       "    <tr>\n",
       "      <th>1876-01-05</th>\n",
       "      <td>-8.931451</td>\n",
       "      <td>-4.931418</td>\n",
       "    </tr>\n",
       "  </tbody>\n",
       "</table>\n",
       "</div>"
      ],
      "text/plain": [
       "            remainder      lag1\n",
       "Date                           \n",
       "1876-01-01   3.068683       NaN\n",
       "1876-01-02   3.368649  3.068683\n",
       "1876-01-03   1.168616  3.368649\n",
       "1876-01-04  -4.931418  1.168616\n",
       "1876-01-05  -8.931451 -4.931418"
      ]
     },
     "execution_count": 96,
     "metadata": {},
     "output_type": "execute_result"
    }
   ],
   "source": [
    "rtemp['lag1'] = rtemp['remainder'].shift(1)\n",
    "\n",
    "rtemp.head()"
   ]
  },
  {
   "cell_type": "code",
   "execution_count": null,
   "id": "2eec0658",
   "metadata": {},
   "outputs": [],
   "source": [
    "rtemp.corr()"
   ]
  },
  {
   "cell_type": "code",
   "execution_count": null,
   "id": "ce73f0ca",
   "metadata": {},
   "outputs": [],
   "source": [
    "sns.scatterplot(x='lag1', y='remainder', data=rtemp);"
   ]
  },
  {
   "cell_type": "code",
   "execution_count": null,
   "id": "86e4fd66",
   "metadata": {},
   "outputs": [],
   "source": [
    "sns.regplot(data = rtemp, x = 'lag1', y = 'remainder')"
   ]
  },
  {
   "cell_type": "code",
   "execution_count": null,
   "id": "1a78b304",
   "metadata": {},
   "outputs": [],
   "source": [
    "rtemp.dropna(inplace=True)"
   ]
  },
  {
   "cell_type": "code",
   "execution_count": null,
   "id": "99e90d20",
   "metadata": {},
   "outputs": [],
   "source": [
    "rtemp.head()"
   ]
  },
  {
   "cell_type": "code",
   "execution_count": null,
   "id": "075d9921",
   "metadata": {},
   "outputs": [],
   "source": [
    "X = rtemp[['lag1']]\n",
    "y = rtemp['remainder']"
   ]
  },
  {
   "cell_type": "code",
   "execution_count": null,
   "id": "f56e3d89",
   "metadata": {},
   "outputs": [],
   "source": [
    "# Create and fit the model\n",
    "m = LinearRegression()\n",
    "m.fit(X, y)"
   ]
  },
  {
   "cell_type": "code",
   "execution_count": null,
   "id": "d489a9c4",
   "metadata": {},
   "outputs": [],
   "source": [
    "# Create predictions\n",
    "rtemp['predictions_ar1'] = m.predict(X)\n",
    "rtemp.head()"
   ]
  },
  {
   "cell_type": "code",
   "execution_count": null,
   "id": "f23e6e2b",
   "metadata": {},
   "outputs": [],
   "source": [
    "m.coef_"
   ]
  },
  {
   "cell_type": "code",
   "execution_count": null,
   "id": "b36d2e57",
   "metadata": {},
   "outputs": [],
   "source": [
    "# Plot the data\n",
    "def plot_remainder(df, \n",
    "                   title='meantemperature by day over time'):\n",
    "    '''\n",
    "    Custom plotting function for plotting the flights dataset\n",
    "    \n",
    "    Parameters\n",
    "    ----------\n",
    "    df : pd.DataFrame\n",
    "        The data to plot.\n",
    "    title : str\n",
    "        The title of the plot\n",
    "    ylim : bool\n",
    "        Whether to fix the minimum value of y; defalut is True\n",
    "    \n",
    "    Returns\n",
    "    -------\n",
    "    Plots the data\n",
    "    '''\n",
    "    df.plot()\n",
    "    plt.title(title)\n",
    "    plt.ylabel('# of Passengers in 1000')\n",
    "    plt.show()"
   ]
  },
  {
   "cell_type": "code",
   "execution_count": null,
   "id": "bb0ae656",
   "metadata": {},
   "outputs": [],
   "source": [
    "# Plot the original remainder and the prediction\n",
    "plot_remainder(rtemp['1915-11-15':'1917-02-25'][['remainder', 'predictions_ar1']])"
   ]
  },
  {
   "cell_type": "code",
   "execution_count": null,
   "id": "2934f75f",
   "metadata": {},
   "outputs": [],
   "source": [
    "rtemp['lag2'] = rtemp['remainder'].shift(2)\n"
   ]
  },
  {
   "cell_type": "code",
   "execution_count": null,
   "id": "090bdb2b",
   "metadata": {},
   "outputs": [],
   "source": [
    "rtemp.head()"
   ]
  },
  {
   "cell_type": "code",
   "execution_count": null,
   "id": "2d418e49",
   "metadata": {},
   "outputs": [],
   "source": [
    "sns.scatterplot(x='lag2', y='remainder', data=rtemp);"
   ]
  },
  {
   "cell_type": "code",
   "execution_count": 81,
   "id": "2174fd22",
   "metadata": {},
   "outputs": [
    {
     "data": {
      "text/html": [
       "<div>\n",
       "<style scoped>\n",
       "    .dataframe tbody tr th:only-of-type {\n",
       "        vertical-align: middle;\n",
       "    }\n",
       "\n",
       "    .dataframe tbody tr th {\n",
       "        vertical-align: top;\n",
       "    }\n",
       "\n",
       "    .dataframe thead th {\n",
       "        text-align: right;\n",
       "    }\n",
       "</style>\n",
       "<table border=\"1\" class=\"dataframe\">\n",
       "  <thead>\n",
       "    <tr style=\"text-align: right;\">\n",
       "      <th></th>\n",
       "      <th>remainder</th>\n",
       "      <th>lag1</th>\n",
       "      <th>lag2</th>\n",
       "    </tr>\n",
       "  </thead>\n",
       "  <tbody>\n",
       "    <tr>\n",
       "      <th>remainder</th>\n",
       "      <td>1.0</td>\n",
       "      <td>0.8</td>\n",
       "      <td>0.6</td>\n",
       "    </tr>\n",
       "    <tr>\n",
       "      <th>lag1</th>\n",
       "      <td>0.8</td>\n",
       "      <td>1.0</td>\n",
       "      <td>0.8</td>\n",
       "    </tr>\n",
       "    <tr>\n",
       "      <th>lag2</th>\n",
       "      <td>0.6</td>\n",
       "      <td>0.8</td>\n",
       "      <td>1.0</td>\n",
       "    </tr>\n",
       "  </tbody>\n",
       "</table>\n",
       "</div>"
      ],
      "text/plain": [
       "           remainder  lag1  lag2\n",
       "remainder        1.0   0.8   0.6\n",
       "lag1             0.8   1.0   0.8\n",
       "lag2             0.6   0.8   1.0"
      ]
     },
     "execution_count": 81,
     "metadata": {},
     "output_type": "execute_result"
    }
   ],
   "source": [
    "round(rtemp[['remainder', 'lag1', 'lag2']].corr(), 2)"
   ]
  },
  {
   "cell_type": "code",
   "execution_count": 99,
   "id": "7edfdf23",
   "metadata": {},
   "outputs": [
    {
     "data": {
      "image/png": "[encoded data removed]",
      "text/plain": [
       "<Figure size 864x432 with 1 Axes>"
      ]
     },
     "metadata": {},
     "output_type": "display_data"
    }
   ],
   "source": [
    "from statsmodels.graphics.tsaplots import plot_acf\n",
    "plot_acf(rtemp['remainder'])\n",
    "plt.xlabel('lags');"
   ]
  },
  {
   "cell_type": "code",
   "execution_count": 100,
   "id": "441acaab",
   "metadata": {},
   "outputs": [
    {
     "data": {
      "image/png": "[encoded data removed]",
      "text/plain": [
       "<Figure size 864x432 with 1 Axes>"
      ]
     },
     "metadata": {},
     "output_type": "display_data"
    }
   ],
   "source": [
    "# Statsmodels provides a function called plot_pacf\n",
    "# plot partial autocorrelation function\n",
    "from statsmodels.graphics.tsaplots import plot_pacf\n",
    "plot_pacf(rtemp['remainder'])\n",
    "plt.xlabel('lags');"
   ]
  },
  {
   "cell_type": "code",
   "execution_count": 101,
   "id": "d5c7c401",
   "metadata": {},
   "outputs": [
    {
     "name": "stderr",
     "output_type": "stream",
     "text": [
      "C:\\Users\\aoe\\anaconda3\\lib\\site-packages\\statsmodels\\tsa\\base\\tsa_model.py:581: ValueWarning: A date index has been provided, but it has no associated frequency information and so will be ignored when e.g. forecasting.\n",
      "  warnings.warn('A date index has been provided, but it has no'\n",
      "C:\\Users\\aoe\\anaconda3\\lib\\site-packages\\statsmodels\\tsa\\ar_model.py:248: FutureWarning: The parameter names will change after 0.12 is released. Set old_names to False to use the new names now. Set old_names to True to use the old names. \n",
      "  warnings.warn(\n",
      "C:\\Users\\aoe\\anaconda3\\lib\\site-packages\\statsmodels\\tsa\\base\\tsa_model.py:581: ValueWarning: A date index has been provided, but it has no associated frequency information and so will be ignored when e.g. forecasting.\n",
      "  warnings.warn('A date index has been provided, but it has no'\n"
     ]
    }
   ],
   "source": [
    "from statsmodels.tsa.ar_model import AutoReg, ar_select_order\n",
    "selected_order = ar_select_order(rtemp['remainder'], maxlag = 12)"
   ]
  },
  {
   "cell_type": "code",
   "execution_count": 102,
   "id": "676e3f2e",
   "metadata": {},
   "outputs": [
    {
     "data": {
      "text/plain": [
       "array([1, 2, 3, 4])"
      ]
     },
     "execution_count": 102,
     "metadata": {},
     "output_type": "execute_result"
    }
   ],
   "source": [
    "selected_order.ar_lags"
   ]
  },
  {
   "cell_type": "code",
   "execution_count": 103,
   "id": "c24f7fd0",
   "metadata": {
    "scrolled": true
   },
   "outputs": [
    {
     "data": {
      "text/plain": [
       "Index(['meantemperature', 'timestep', 'trend', 'wo_trend', 'month_2',\n",
       "       'month_3', 'month_4', 'month_5', 'month_6', 'month_7', 'month_8',\n",
       "       'month_9', 'month_10', 'month_11', 'month_12', 'trend + seasonal',\n",
       "       'remainder'],\n",
       "      dtype='object')"
      ]
     },
     "execution_count": 103,
     "metadata": {},
     "output_type": "execute_result"
    }
   ],
   "source": [
    "wtemp.columns"
   ]
  },
  {
   "cell_type": "code",
   "execution_count": 104,
   "id": "5d9fc8a6",
   "metadata": {},
   "outputs": [],
   "source": [
    "Ntemp = wtemp.drop(columns=['trend', 'wo_trend','trend + seasonal'])"
   ]
  },
  {
   "cell_type": "code",
   "execution_count": 105,
   "id": "5dd37a9b",
   "metadata": {},
   "outputs": [],
   "source": [
    "Ntemp['lag1'] = Ntemp['remainder'].shift(1)\n",
    "Ntemp['lag2'] = Ntemp['remainder'].shift(2)"
   ]
  },
  {
   "cell_type": "code",
   "execution_count": 106,
   "id": "f98c5a4e",
   "metadata": {},
   "outputs": [],
   "source": [
    "Ntemp['lag3'] = Ntemp['remainder'].shift(3)\n",
    "Ntemp['lag4'] = Ntemp['remainder'].shift(4)"
   ]
  },
  {
   "cell_type": "code",
   "execution_count": 107,
   "id": "ea802fcf",
   "metadata": {},
   "outputs": [
    {
     "data": {
      "text/html": [
       "<div>\n",
       "<style scoped>\n",
       "    .dataframe tbody tr th:only-of-type {\n",
       "        vertical-align: middle;\n",
       "    }\n",
       "\n",
       "    .dataframe tbody tr th {\n",
       "        vertical-align: top;\n",
       "    }\n",
       "\n",
       "    .dataframe thead th {\n",
       "        text-align: right;\n",
       "    }\n",
       "</style>\n",
       "<table border=\"1\" class=\"dataframe\">\n",
       "  <thead>\n",
       "    <tr style=\"text-align: right;\">\n",
       "      <th></th>\n",
       "      <th>meantemperature</th>\n",
       "      <th>timestep</th>\n",
       "      <th>month_2</th>\n",
       "      <th>month_3</th>\n",
       "      <th>month_4</th>\n",
       "      <th>month_5</th>\n",
       "      <th>month_6</th>\n",
       "      <th>month_7</th>\n",
       "      <th>month_8</th>\n",
       "      <th>month_9</th>\n",
       "      <th>month_10</th>\n",
       "      <th>month_11</th>\n",
       "      <th>month_12</th>\n",
       "      <th>remainder</th>\n",
       "      <th>lag1</th>\n",
       "      <th>lag2</th>\n",
       "      <th>lag3</th>\n",
       "      <th>lag4</th>\n",
       "    </tr>\n",
       "    <tr>\n",
       "      <th>Date</th>\n",
       "      <th></th>\n",
       "      <th></th>\n",
       "      <th></th>\n",
       "      <th></th>\n",
       "      <th></th>\n",
       "      <th></th>\n",
       "      <th></th>\n",
       "      <th></th>\n",
       "      <th></th>\n",
       "      <th></th>\n",
       "      <th></th>\n",
       "      <th></th>\n",
       "      <th></th>\n",
       "      <th></th>\n",
       "      <th></th>\n",
       "      <th></th>\n",
       "      <th></th>\n",
       "      <th></th>\n",
       "    </tr>\n",
       "  </thead>\n",
       "  <tbody>\n",
       "    <tr>\n",
       "      <th>1876-01-01</th>\n",
       "      <td>2.2</td>\n",
       "      <td>0</td>\n",
       "      <td>0</td>\n",
       "      <td>0</td>\n",
       "      <td>0</td>\n",
       "      <td>0</td>\n",
       "      <td>0</td>\n",
       "      <td>0</td>\n",
       "      <td>0</td>\n",
       "      <td>0</td>\n",
       "      <td>0</td>\n",
       "      <td>0</td>\n",
       "      <td>0</td>\n",
       "      <td>3.068683</td>\n",
       "      <td>NaN</td>\n",
       "      <td>NaN</td>\n",
       "      <td>NaN</td>\n",
       "      <td>NaN</td>\n",
       "    </tr>\n",
       "    <tr>\n",
       "      <th>1876-01-02</th>\n",
       "      <td>2.5</td>\n",
       "      <td>1</td>\n",
       "      <td>0</td>\n",
       "      <td>0</td>\n",
       "      <td>0</td>\n",
       "      <td>0</td>\n",
       "      <td>0</td>\n",
       "      <td>0</td>\n",
       "      <td>0</td>\n",
       "      <td>0</td>\n",
       "      <td>0</td>\n",
       "      <td>0</td>\n",
       "      <td>0</td>\n",
       "      <td>3.368649</td>\n",
       "      <td>3.068683</td>\n",
       "      <td>NaN</td>\n",
       "      <td>NaN</td>\n",
       "      <td>NaN</td>\n",
       "    </tr>\n",
       "    <tr>\n",
       "      <th>1876-01-03</th>\n",
       "      <td>0.3</td>\n",
       "      <td>2</td>\n",
       "      <td>0</td>\n",
       "      <td>0</td>\n",
       "      <td>0</td>\n",
       "      <td>0</td>\n",
       "      <td>0</td>\n",
       "      <td>0</td>\n",
       "      <td>0</td>\n",
       "      <td>0</td>\n",
       "      <td>0</td>\n",
       "      <td>0</td>\n",
       "      <td>0</td>\n",
       "      <td>1.168616</td>\n",
       "      <td>3.368649</td>\n",
       "      <td>3.068683</td>\n",
       "      <td>NaN</td>\n",
       "      <td>NaN</td>\n",
       "    </tr>\n",
       "    <tr>\n",
       "      <th>1876-01-04</th>\n",
       "      <td>-5.8</td>\n",
       "      <td>3</td>\n",
       "      <td>0</td>\n",
       "      <td>0</td>\n",
       "      <td>0</td>\n",
       "      <td>0</td>\n",
       "      <td>0</td>\n",
       "      <td>0</td>\n",
       "      <td>0</td>\n",
       "      <td>0</td>\n",
       "      <td>0</td>\n",
       "      <td>0</td>\n",
       "      <td>0</td>\n",
       "      <td>-4.931418</td>\n",
       "      <td>1.168616</td>\n",
       "      <td>3.368649</td>\n",
       "      <td>3.068683</td>\n",
       "      <td>NaN</td>\n",
       "    </tr>\n",
       "    <tr>\n",
       "      <th>1876-01-05</th>\n",
       "      <td>-9.8</td>\n",
       "      <td>4</td>\n",
       "      <td>0</td>\n",
       "      <td>0</td>\n",
       "      <td>0</td>\n",
       "      <td>0</td>\n",
       "      <td>0</td>\n",
       "      <td>0</td>\n",
       "      <td>0</td>\n",
       "      <td>0</td>\n",
       "      <td>0</td>\n",
       "      <td>0</td>\n",
       "      <td>0</td>\n",
       "      <td>-8.931451</td>\n",
       "      <td>-4.931418</td>\n",
       "      <td>1.168616</td>\n",
       "      <td>3.368649</td>\n",
       "      <td>3.068683</td>\n",
       "    </tr>\n",
       "  </tbody>\n",
       "</table>\n",
       "</div>"
      ],
      "text/plain": [
       "            meantemperature  timestep  month_2  month_3  month_4  month_5  \\\n",
       "Date                                                                        \n",
       "1876-01-01              2.2         0        0        0        0        0   \n",
       "1876-01-02              2.5         1        0        0        0        0   \n",
       "1876-01-03              0.3         2        0        0        0        0   \n",
       "1876-01-04             -5.8         3        0        0        0        0   \n",
       "1876-01-05             -9.8         4        0        0        0        0   \n",
       "\n",
       "            month_6  month_7  month_8  month_9  month_10  month_11  month_12  \\\n",
       "Date                                                                           \n",
       "1876-01-01        0        0        0        0         0         0         0   \n",
       "1876-01-02        0        0        0        0         0         0         0   \n",
       "1876-01-03        0        0        0        0         0         0         0   \n",
       "1876-01-04        0        0        0        0         0         0         0   \n",
       "1876-01-05        0        0        0        0         0         0         0   \n",
       "\n",
       "            remainder      lag1      lag2      lag3      lag4  \n",
       "Date                                                           \n",
       "1876-01-01   3.068683       NaN       NaN       NaN       NaN  \n",
       "1876-01-02   3.368649  3.068683       NaN       NaN       NaN  \n",
       "1876-01-03   1.168616  3.368649  3.068683       NaN       NaN  \n",
       "1876-01-04  -4.931418  1.168616  3.368649  3.068683       NaN  \n",
       "1876-01-05  -8.931451 -4.931418  1.168616  3.368649  3.068683  "
      ]
     },
     "execution_count": 107,
     "metadata": {},
     "output_type": "execute_result"
    }
   ],
   "source": [
    "Ntemp.head(5)"
   ]
  },
  {
   "cell_type": "code",
   "execution_count": null,
   "id": "52930784",
   "metadata": {},
   "outputs": [],
   "source": []
  },
  {
   "cell_type": "code",
   "execution_count": 108,
   "id": "1b8189df",
   "metadata": {},
   "outputs": [],
   "source": [
    "Ntemp.dropna(inplace = True)"
   ]
  },
  {
   "cell_type": "code",
   "execution_count": null,
   "id": "9e3c1a17",
   "metadata": {},
   "outputs": [],
   "source": [
    "Ntemp.head(3)"
   ]
  },
  {
   "cell_type": "code",
   "execution_count": 109,
   "id": "6a0bf1e6",
   "metadata": {},
   "outputs": [],
   "source": [
    "X = Ntemp.drop(columns=['meantemperature','remainder']) # matrix (or DataFrame)\n",
    "y = Ntemp['meantemperature'] # vector (or Series)"
   ]
  },
  {
   "cell_type": "code",
   "execution_count": 110,
   "id": "a2855613",
   "metadata": {},
   "outputs": [
    {
     "data": {
      "text/plain": [
       "LinearRegression()"
      ]
     },
     "execution_count": 110,
     "metadata": {},
     "output_type": "execute_result"
    }
   ],
   "source": [
    "mN = LinearRegression()\n",
    "mN.fit(X, y)"
   ]
  },
  {
   "cell_type": "code",
   "execution_count": 111,
   "id": "69f238e9",
   "metadata": {},
   "outputs": [],
   "source": [
    "Ntemp['remainder_predict'] = mN.predict(X)"
   ]
  },
  {
   "cell_type": "code",
   "execution_count": 112,
   "id": "5664645e",
   "metadata": {},
   "outputs": [
    {
     "data": {
      "text/plain": [
       "<AxesSubplot:xlabel='Date'>"
      ]
     },
     "execution_count": 112,
     "metadata": {},
     "output_type": "execute_result"
    },
    {
     "data": {
      "image/png": "[encoded data removed]",
      "text/plain": [
       "<Figure size 864x432 with 1 Axes>"
      ]
     },
     "metadata": {},
     "output_type": "display_data"
    }
   ],
   "source": [
    "Ntemp['2022-01-01':'2022-02-20'][['meantemperature', 'remainder_predict']].plot()"
   ]
  },
  {
   "cell_type": "markdown",
   "id": "0efeb967",
   "metadata": {},
   "source": [
    "**Evaluate model**"
   ]
  },
  {
   "cell_type": "code",
   "execution_count": 117,
   "id": "088e099d",
   "metadata": {
    "scrolled": true
   },
   "outputs": [
    {
     "data": {
      "text/html": [
       "<div>\n",
       "<style scoped>\n",
       "    .dataframe tbody tr th:only-of-type {\n",
       "        vertical-align: middle;\n",
       "    }\n",
       "\n",
       "    .dataframe tbody tr th {\n",
       "        vertical-align: top;\n",
       "    }\n",
       "\n",
       "    .dataframe thead th {\n",
       "        text-align: right;\n",
       "    }\n",
       "</style>\n",
       "<table border=\"1\" class=\"dataframe\">\n",
       "  <thead>\n",
       "    <tr style=\"text-align: right;\">\n",
       "      <th></th>\n",
       "      <th>timestep</th>\n",
       "      <th>month_2</th>\n",
       "      <th>month_3</th>\n",
       "      <th>month_4</th>\n",
       "      <th>month_5</th>\n",
       "      <th>month_6</th>\n",
       "      <th>month_7</th>\n",
       "      <th>month_8</th>\n",
       "      <th>month_9</th>\n",
       "      <th>month_10</th>\n",
       "      <th>month_11</th>\n",
       "      <th>month_12</th>\n",
       "      <th>lag1</th>\n",
       "      <th>lag2</th>\n",
       "      <th>lag3</th>\n",
       "      <th>lag4</th>\n",
       "    </tr>\n",
       "    <tr>\n",
       "      <th>Date</th>\n",
       "      <th></th>\n",
       "      <th></th>\n",
       "      <th></th>\n",
       "      <th></th>\n",
       "      <th></th>\n",
       "      <th></th>\n",
       "      <th></th>\n",
       "      <th></th>\n",
       "      <th></th>\n",
       "      <th></th>\n",
       "      <th></th>\n",
       "      <th></th>\n",
       "      <th></th>\n",
       "      <th></th>\n",
       "      <th></th>\n",
       "      <th></th>\n",
       "    </tr>\n",
       "  </thead>\n",
       "  <tbody>\n",
       "    <tr>\n",
       "      <th>2022-02-24</th>\n",
       "      <td>53185</td>\n",
       "      <td>1</td>\n",
       "      <td>0</td>\n",
       "      <td>0</td>\n",
       "      <td>0</td>\n",
       "      <td>0</td>\n",
       "      <td>0</td>\n",
       "      <td>0</td>\n",
       "      <td>0</td>\n",
       "      <td>0</td>\n",
       "      <td>0</td>\n",
       "      <td>0</td>\n",
       "      <td>4.636217</td>\n",
       "      <td>3.936251</td>\n",
       "      <td>3.836284</td>\n",
       "      <td>3.636318</td>\n",
       "    </tr>\n",
       "    <tr>\n",
       "      <th>2022-02-25</th>\n",
       "      <td>53186</td>\n",
       "      <td>1</td>\n",
       "      <td>0</td>\n",
       "      <td>0</td>\n",
       "      <td>0</td>\n",
       "      <td>0</td>\n",
       "      <td>0</td>\n",
       "      <td>0</td>\n",
       "      <td>0</td>\n",
       "      <td>0</td>\n",
       "      <td>0</td>\n",
       "      <td>0</td>\n",
       "      <td>4.036184</td>\n",
       "      <td>4.636217</td>\n",
       "      <td>3.936251</td>\n",
       "      <td>3.836284</td>\n",
       "    </tr>\n",
       "    <tr>\n",
       "      <th>2022-02-26</th>\n",
       "      <td>53187</td>\n",
       "      <td>1</td>\n",
       "      <td>0</td>\n",
       "      <td>0</td>\n",
       "      <td>0</td>\n",
       "      <td>0</td>\n",
       "      <td>0</td>\n",
       "      <td>0</td>\n",
       "      <td>0</td>\n",
       "      <td>0</td>\n",
       "      <td>0</td>\n",
       "      <td>0</td>\n",
       "      <td>2.536150</td>\n",
       "      <td>4.036184</td>\n",
       "      <td>4.636217</td>\n",
       "      <td>3.936251</td>\n",
       "    </tr>\n",
       "    <tr>\n",
       "      <th>2022-02-27</th>\n",
       "      <td>53188</td>\n",
       "      <td>1</td>\n",
       "      <td>0</td>\n",
       "      <td>0</td>\n",
       "      <td>0</td>\n",
       "      <td>0</td>\n",
       "      <td>0</td>\n",
       "      <td>0</td>\n",
       "      <td>0</td>\n",
       "      <td>0</td>\n",
       "      <td>0</td>\n",
       "      <td>0</td>\n",
       "      <td>2.236117</td>\n",
       "      <td>2.536150</td>\n",
       "      <td>4.036184</td>\n",
       "      <td>4.636217</td>\n",
       "    </tr>\n",
       "    <tr>\n",
       "      <th>2022-02-28</th>\n",
       "      <td>53189</td>\n",
       "      <td>1</td>\n",
       "      <td>0</td>\n",
       "      <td>0</td>\n",
       "      <td>0</td>\n",
       "      <td>0</td>\n",
       "      <td>0</td>\n",
       "      <td>0</td>\n",
       "      <td>0</td>\n",
       "      <td>0</td>\n",
       "      <td>0</td>\n",
       "      <td>0</td>\n",
       "      <td>-1.363916</td>\n",
       "      <td>2.236117</td>\n",
       "      <td>2.536150</td>\n",
       "      <td>4.036184</td>\n",
       "    </tr>\n",
       "  </tbody>\n",
       "</table>\n",
       "</div>"
      ],
      "text/plain": [
       "            timestep  month_2  month_3  month_4  month_5  month_6  month_7  \\\n",
       "Date                                                                         \n",
       "2022-02-24     53185        1        0        0        0        0        0   \n",
       "2022-02-25     53186        1        0        0        0        0        0   \n",
       "2022-02-26     53187        1        0        0        0        0        0   \n",
       "2022-02-27     53188        1        0        0        0        0        0   \n",
       "2022-02-28     53189        1        0        0        0        0        0   \n",
       "\n",
       "            month_8  month_9  month_10  month_11  month_12      lag1  \\\n",
       "Date                                                                   \n",
       "2022-02-24        0        0         0         0         0  4.636217   \n",
       "2022-02-25        0        0         0         0         0  4.036184   \n",
       "2022-02-26        0        0         0         0         0  2.536150   \n",
       "2022-02-27        0        0         0         0         0  2.236117   \n",
       "2022-02-28        0        0         0         0         0 -1.363916   \n",
       "\n",
       "                lag2      lag3      lag4  \n",
       "Date                                      \n",
       "2022-02-24  3.936251  3.836284  3.636318  \n",
       "2022-02-25  4.636217  3.936251  3.836284  \n",
       "2022-02-26  4.036184  4.636217  3.936251  \n",
       "2022-02-27  2.536150  4.036184  4.636217  \n",
       "2022-02-28  2.236117  2.536150  4.036184  "
      ]
     },
     "execution_count": 117,
     "metadata": {},
     "output_type": "execute_result"
    }
   ],
   "source": [
    "X.tail(5)"
   ]
  },
  {
   "cell_type": "code",
   "execution_count": 119,
   "id": "f205825e",
   "metadata": {},
   "outputs": [],
   "source": [
    "from sklearn.model_selection import TimeSeriesSplit, cross_val_score\n",
    "# Create a TimeSeriesSplit object\n",
    "ts_split = TimeSeriesSplit(n_splits=100)"
   ]
  },
  {
   "cell_type": "code",
   "execution_count": 120,
   "id": "1eface5f",
   "metadata": {},
   "outputs": [
    {
     "name": "stdout",
     "output_type": "stream",
     "text": [
      "The training data for the 1th iteration are the observations steps \n",
      "    [   0    1    2 ... 4833 4834 4835]\n",
      "The validation data for the 1th iteration are the observations steps\n",
      "    [4836 4837 4838 ... 9668 9669 9670]\n",
      "\n",
      "\n",
      "The training data for the 2th iteration are the observations steps \n",
      "    [   0    1    2 ... 9668 9669 9670]\n",
      "The validation data for the 2th iteration are the observations steps\n",
      "    [ 9671  9672  9673 ... 14503 14504 14505]\n",
      "\n",
      "\n",
      "The training data for the 3th iteration are the observations steps \n",
      "    [    0     1     2 ... 14503 14504 14505]\n",
      "The validation data for the 3th iteration are the observations steps\n",
      "    [14506 14507 14508 ... 19338 19339 19340]\n",
      "\n",
      "\n",
      "The training data for the 4th iteration are the observations steps \n",
      "    [    0     1     2 ... 19338 19339 19340]\n",
      "The validation data for the 4th iteration are the observations steps\n",
      "    [19341 19342 19343 ... 24173 24174 24175]\n",
      "\n",
      "\n",
      "The training data for the 5th iteration are the observations steps \n",
      "    [    0     1     2 ... 24173 24174 24175]\n",
      "The validation data for the 5th iteration are the observations steps\n",
      "    [24176 24177 24178 ... 29008 29009 29010]\n",
      "\n",
      "\n",
      "The training data for the 6th iteration are the observations steps \n",
      "    [    0     1     2 ... 29008 29009 29010]\n",
      "The validation data for the 6th iteration are the observations steps\n",
      "    [29011 29012 29013 ... 33843 33844 33845]\n",
      "\n",
      "\n",
      "The training data for the 7th iteration are the observations steps \n",
      "    [    0     1     2 ... 33843 33844 33845]\n",
      "The validation data for the 7th iteration are the observations steps\n",
      "    [33846 33847 33848 ... 38678 38679 38680]\n",
      "\n",
      "\n",
      "The training data for the 8th iteration are the observations steps \n",
      "    [    0     1     2 ... 38678 38679 38680]\n",
      "The validation data for the 8th iteration are the observations steps\n",
      "    [38681 38682 38683 ... 43513 43514 43515]\n",
      "\n",
      "\n",
      "The training data for the 9th iteration are the observations steps \n",
      "    [    0     1     2 ... 43513 43514 43515]\n",
      "The validation data for the 9th iteration are the observations steps\n",
      "    [43516 43517 43518 ... 48348 48349 48350]\n",
      "\n",
      "\n",
      "The training data for the 10th iteration are the observations steps \n",
      "    [    0     1     2 ... 48348 48349 48350]\n",
      "The validation data for the 10th iteration are the observations steps\n",
      "    [48351 48352 48353 ... 53183 53184 53185]\n",
      "\n",
      "\n"
     ]
    }
   ],
   "source": [
    "# Split the training data into folds\n",
    "for i, (train_index, validation_index) in enumerate(ts_split.split(X, y)):\n",
    "    print(f\"\"\"The training data for the {i+1}th iteration are the observations steps \n",
    "    {train_index}\"\"\")\n",
    "    print(f\"\"\"The validation data for the {i+1}th iteration are the observations steps\n",
    "    {validation_index}\"\"\")\n",
    "    print('\\n')"
   ]
  },
  {
   "cell_type": "code",
   "execution_count": 121,
   "id": "a3ff8a29",
   "metadata": {},
   "outputs": [],
   "source": [
    "# Create the time series split\n",
    "time_series_split = ts_split.split(X, y) "
   ]
  },
  {
   "cell_type": "code",
   "execution_count": 123,
   "id": "78c73366",
   "metadata": {},
   "outputs": [
    {
     "data": {
      "text/plain": [
       "array([0.91959526, 0.90706287, 0.89410998, 0.91589046, 0.91525321,\n",
       "       0.91222875, 0.91272899, 0.9041896 , 0.91775548, 0.92084727])"
      ]
     },
     "execution_count": 123,
     "metadata": {},
     "output_type": "execute_result"
    }
   ],
   "source": [
    "# Do the cross validation: Remember these are the 'test scores' in the training data.\n",
    "result = cross_val_score(estimator=mN, \n",
    "                         X=X, y=y,\n",
    "                         cv=time_series_split)\n",
    "result"
   ]
  },
  {
   "cell_type": "code",
   "execution_count": 124,
   "id": "8172c05a",
   "metadata": {},
   "outputs": [
    {
     "data": {
      "text/plain": [
       "0.9119661869941209"
      ]
     },
     "execution_count": 124,
     "metadata": {},
     "output_type": "execute_result"
    }
   ],
   "source": [
    "result.mean()"
   ]
  },
  {
   "cell_type": "code",
   "execution_count": null,
   "id": "5cab8e59",
   "metadata": {},
   "outputs": [],
   "source": []
  }
 ],
 "metadata": {
  "kernelspec": {
   "display_name": "Python 3 (ipykernel)",
   "language": "python",
   "name": "python3"
  },
  "language_info": {
   "codemirror_mode": {
    "name": "ipython",
    "version": 3
   },
   "file_extension": ".py",
   "mimetype": "text/x-python",
   "name": "python",
   "nbconvert_exporter": "python",
   "pygments_lexer": "ipython3",
   "version": "3.9.7"
  }
 },
 "nbformat": 4,
 "nbformat_minor": 5
}
