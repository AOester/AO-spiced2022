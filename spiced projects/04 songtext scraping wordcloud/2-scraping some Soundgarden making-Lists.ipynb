{
 "cells": [
  {
   "cell_type": "code",
   "execution_count": 1,
   "id": "51a18480",
   "metadata": {},
   "outputs": [],
   "source": [
    "import re\n",
    "import requests\n",
    "from bs4 import BeautifulSoup"
   ]
  },
  {
   "cell_type": "code",
   "execution_count": 2,
   "id": "6bde2c08",
   "metadata": {},
   "outputs": [],
   "source": [
    "url = 'https://www.lyrics.com/artist/Soundgarden/5483'"
   ]
  },
  {
   "cell_type": "code",
   "execution_count": 3,
   "id": "7f082f93",
   "metadata": {},
   "outputs": [
    {
     "data": {
      "text/plain": [
       "<Response [200]>"
      ]
     },
     "execution_count": 3,
     "metadata": {},
     "output_type": "execute_result"
    }
   ],
   "source": [
    "response = requests.get(url)\n",
    "response"
   ]
  },
  {
   "cell_type": "code",
   "execution_count": 4,
   "id": "899f18f6",
   "metadata": {},
   "outputs": [],
   "source": [
    "song_list = response.text"
   ]
  },
  {
   "cell_type": "code",
   "execution_count": 5,
   "id": "b825a59e",
   "metadata": {},
   "outputs": [],
   "source": [
    "soup = BeautifulSoup(song_list, 'lxml') #lxml"
   ]
  },
  {
   "cell_type": "code",
   "execution_count": null,
   "id": "aaee4c6e",
   "metadata": {},
   "outputs": [],
   "source": [
    "soup.find_all('a')"
   ]
  },
  {
   "cell_type": "code",
   "execution_count": 6,
   "id": "ce491048",
   "metadata": {},
   "outputs": [],
   "source": [
    "\n",
    "url_list = []\n",
    "\n",
    "for a in soup.find_all('a', href=True):\n",
    "    url_list.append(str(a))\n"
   ]
  },
  {
   "cell_type": "code",
   "execution_count": 7,
   "id": "10e8e08e",
   "metadata": {},
   "outputs": [
    {
     "name": "stdout",
     "output_type": "stream",
     "text": [
      "1524\n",
      "[['/lyric/32818827/Soundgarden/Hands+All+Over'], ['/lyric/32818826/Soundgarden/Gun'], ['/lyric/32818825/Soundgarden/Loud+Love'], ['/lyric/32818834/Soundgarden/Get+on+the+Snake'], ['/lyric/32818833/Soundgarden/Big+Dumb+Sex'], ['/lyric/32818829/Soundgarden/Full+On+Kevin%27s+Mom']]\n"
     ]
    }
   ],
   "source": [
    "url_list2 = []\n",
    "x=0\n",
    "for l in url_list:\n",
    "    #print(l,'0')\n",
    "    nam = re.findall(\n",
    "        '(/lyric/\\d+/Soundgarden/\\w+\\S+)\">'\n",
    "        ,l)\n",
    "    x=x+1\n",
    "    url_list2.append(nam)\n",
    "        \n",
    "#print(url_list2[56:61])\n",
    "print(x)\n",
    "url_list3 = list(filter(None, url_list2))\n",
    "#url_list3 = filter(None, url_list2)\n",
    "print(url_list3[56:62])"
   ]
  },
  {
   "cell_type": "code",
   "execution_count": 8,
   "id": "ce3b0acc",
   "metadata": {},
   "outputs": [
    {
     "name": "stdout",
     "output_type": "stream",
     "text": [
      "1166 \n",
      " ['/lyric/32818833/Soundgarden/Big+Dumb+Sex']\n"
     ]
    }
   ],
   "source": [
    "len(url_list3)\n",
    "\n",
    "print(len(url_list3) , '\\n', url_list3[60])"
   ]
  },
  {
   "cell_type": "raw",
   "id": "ea7ecea9",
   "metadata": {},
   "source": [
    "/lyric/36104166/Genesis/Over+My+Shoulder\n",
    "\n",
    "https://www.lyrics.com/lyric/36104166/Genesis/Over+My+Shoulder"
   ]
  },
  {
   "cell_type": "code",
   "execution_count": 9,
   "id": "f4b68779",
   "metadata": {},
   "outputs": [],
   "source": [
    "string = 'http://www.lyrics.com'\n",
    "url_list4 = []\n",
    "\n",
    "replaced = [\"[\",\"'\",\"]\"]\n",
    "for i in range(len(url_list3)) :\n",
    "    temp1 = str(url_list3[i])\n",
    "    for k in range(len(replaced)):\n",
    "        temp1 = temp1.replace(str(replaced[k]),'')\n",
    "        \n",
    "    url_list4.append(string + temp1)\n",
    "\n",
    "#print(len(url_list4),x)"
   ]
  },
  {
   "cell_type": "code",
   "execution_count": 10,
   "id": "a60f340c",
   "metadata": {
    "scrolled": true
   },
   "outputs": [
    {
     "name": "stdout",
     "output_type": "stream",
     "text": [
      "http://www.lyrics.com/lyric/32818833/Soundgarden/Big+Dumb+Sex\n"
     ]
    }
   ],
   "source": [
    "print(url_list4[60])"
   ]
  },
  {
   "cell_type": "code",
   "execution_count": null,
   "id": "f200a39d",
   "metadata": {},
   "outputs": [],
   "source": []
  },
  {
   "cell_type": "code",
   "execution_count": 11,
   "id": "4b1cfe1c",
   "metadata": {},
   "outputs": [],
   "source": [
    "# saved the song list to file 1 url per row\n",
    "\n",
    "save=\"\\n\".join(url_list4)\n",
    "\n",
    "with open ('web_scraping_cf/DataMusic/Soundgarden_list_long.txt','w') as g:\n",
    "    g.write(save)"
   ]
  },
  {
   "cell_type": "code",
   "execution_count": null,
   "id": "b753088d",
   "metadata": {},
   "outputs": [],
   "source": []
  },
  {
   "cell_type": "code",
   "execution_count": 34,
   "id": "853925aa",
   "metadata": {
    "scrolled": true
   },
   "outputs": [],
   "source": [
    "song_list = url_list4[18:25] + url_list4[26:70]"
   ]
  },
  {
   "cell_type": "code",
   "execution_count": 16,
   "id": "686a309a",
   "metadata": {},
   "outputs": [
    {
     "data": {
      "text/plain": [
       "['http://www.lyrics.com/lyric/35699469/Soundgarden/Been+Away+Too+Long',\n",
       " 'http://www.lyrics.com/lyric/35699493/Soundgarden/Spoonman']"
      ]
     },
     "execution_count": 16,
     "metadata": {},
     "output_type": "execute_result"
    }
   ],
   "source": [
    "url_list4[25:27]"
   ]
  },
  {
   "cell_type": "code",
   "execution_count": 35,
   "id": "b1f6030d",
   "metadata": {},
   "outputs": [
    {
     "name": "stdout",
     "output_type": "stream",
     "text": [
      "['Outshined']\n",
      "['Kingdom+Of+Come']\n",
      "['Flower']\n",
      "['All+Your+Lies']\n",
      "['Black+Hole+Sun']\n",
      "['Hands+All+Over']\n",
      "['Rusty+Cage']\n",
      "['Spoonman']\n",
      "['Dusty']\n",
      "['Burden+In+My+Hand']\n",
      "['Live+to+Rise']\n",
      "['Into+The+Void+%5BSealth%5D']\n",
      "['Nothing+To+Say']\n",
      "['Jesus+Christ+Pose']\n",
      "['Hunger+Strike']\n",
      "['Call+Me+a+Dog']\n",
      "['Spoonman']\n",
      "['Black+Hole+Sun']\n",
      "['Black+Hole+Sun']\n",
      "['Pretty+Noose']\n",
      "['Burden+in+My+Hand']\n",
      "['Black+Hole+Sun']\n",
      "['Mailman']\n",
      "['Jesus+Christ+Pose']\n",
      "['Superunknown']\n",
      "['Spoonman']\n",
      "['Fell+on+Black+Days']\n",
      "['Outshined']\n",
      "['Slaves+%26+Bulldozers']\n",
      "['Rusty+Cage']\n",
      "['Into+the+Void+%28Sealth%29']\n",
      "['Room+a+Thousand+Years+Wide']\n",
      "['Gun']\n",
      "['Black+Hole+Sun']\n",
      "['Black+Hole+Sun']\n",
      "['Birth+Ritual+%5BStudio+Outtake%5D']\n",
      "['Flower']\n",
      "['Hands+All+Over']\n",
      "['Gun']\n",
      "['Loud+Love']\n",
      "['Get+on+the+Snake']\n",
      "['Big+Dumb+Sex']\n",
      "['Full+On+Kevin%27s+Mom']\n",
      "['I+Awake']\n",
      "['Beyond+the+Wheel']\n",
      "['Gun']\n",
      "['Jesus+Christ+Pose']\n",
      "['Outshined']\n",
      "['Big+Dumb+Sex']\n",
      "['Rusty+Cage']\n",
      "['Slaves+%26+Bulldozers']\n"
     ]
    },
    {
     "data": {
      "text/plain": [
       "['Outshined',\n",
       " 'Kingdom+Of+Come',\n",
       " 'Flower',\n",
       " 'All+Your+Lies',\n",
       " 'Black+Hole+Sun',\n",
       " 'Hands+All+Over',\n",
       " 'Rusty+Cage',\n",
       " 'Spoonman',\n",
       " 'Dusty',\n",
       " 'Burden+In+My+Hand',\n",
       " 'Live+to+Rise',\n",
       " 'Into+The+Void+%5BSealth%5D',\n",
       " 'Nothing+To+Say',\n",
       " 'Jesus+Christ+Pose',\n",
       " 'Hunger+Strike',\n",
       " 'Call+Me+a+Dog',\n",
       " 'Spoonman',\n",
       " 'Black+Hole+Sun',\n",
       " 'Black+Hole+Sun',\n",
       " 'Pretty+Noose',\n",
       " 'Burden+in+My+Hand',\n",
       " 'Black+Hole+Sun',\n",
       " 'Mailman',\n",
       " 'Jesus+Christ+Pose',\n",
       " 'Superunknown',\n",
       " 'Spoonman',\n",
       " 'Fell+on+Black+Days',\n",
       " 'Outshined',\n",
       " 'Slaves+%26+Bulldozers',\n",
       " 'Rusty+Cage',\n",
       " 'Into+the+Void+%28Sealth%29',\n",
       " 'Room+a+Thousand+Years+Wide',\n",
       " 'Gun',\n",
       " 'Black+Hole+Sun',\n",
       " 'Black+Hole+Sun',\n",
       " 'Birth+Ritual+%5BStudio+Outtake%5D',\n",
       " 'Flower',\n",
       " 'Hands+All+Over',\n",
       " 'Gun',\n",
       " 'Loud+Love',\n",
       " 'Get+on+the+Snake',\n",
       " 'Big+Dumb+Sex',\n",
       " 'Full+On+Kevin%27s+Mom',\n",
       " 'I+Awake',\n",
       " 'Beyond+the+Wheel',\n",
       " 'Gun',\n",
       " 'Jesus+Christ+Pose',\n",
       " 'Outshined',\n",
       " 'Big+Dumb+Sex',\n",
       " 'Rusty+Cage',\n",
       " 'Slaves+%26+Bulldozers']"
      ]
     },
     "execution_count": 35,
     "metadata": {},
     "output_type": "execute_result"
    }
   ],
   "source": [
    "file = []\n",
    "for url in song_list:\n",
    "    response = requests.get(url)\n",
    "    content = response.text\n",
    "    names = re.findall('\\d+\\W\\w+\\W(.+)',url)\n",
    "    print(names)\n",
    "    soup = BeautifulSoup(content, 'lxml') #lxml\n",
    "    body_text = soup.find(id=\"lyric-body-text\")\n",
    "    names\n",
    "    body_text_clean = body_text.text\n",
    "    with open(f\"web_scraping_cf/DataMusic/{names[0]}.txt\", \"w\") as f:\n",
    "        f.write(body_text_clean)\n",
    "    file.append(names[0])\n",
    "file"
   ]
  },
  {
   "cell_type": "code",
   "execution_count": 36,
   "id": "1da3590e",
   "metadata": {},
   "outputs": [
    {
     "data": {
      "text/plain": [
       "['Loud+Love',\n",
       " 'I+Awake',\n",
       " 'Live+to+Rise',\n",
       " 'Jesus+Christ+Pose',\n",
       " 'Dusty',\n",
       " 'Call+Me+a+Dog',\n",
       " 'Mailman',\n",
       " 'Superunknown',\n",
       " 'Slaves+%26+Bulldozers',\n",
       " 'Room+a+Thousand+Years+Wide',\n",
       " 'Spoonman',\n",
       " 'Hands+All+Over',\n",
       " 'Fell+on+Black+Days',\n",
       " 'Flower',\n",
       " 'All+Your+Lies',\n",
       " 'Nothing+To+Say',\n",
       " 'Full+On+Kevin%27s+Mom',\n",
       " 'Rusty+Cage',\n",
       " 'Get+on+the+Snake',\n",
       " 'Outshined',\n",
       " 'Hunger+Strike',\n",
       " 'Pretty+Noose',\n",
       " 'Birth+Ritual+%5BStudio+Outtake%5D',\n",
       " 'Into+The+Void+%5BSealth%5D',\n",
       " 'Kingdom+Of+Come',\n",
       " 'Burden+In+My+Hand',\n",
       " 'Gun',\n",
       " 'Burden+in+My+Hand',\n",
       " 'Into+the+Void+%28Sealth%29',\n",
       " 'Black+Hole+Sun',\n",
       " 'Beyond+the+Wheel',\n",
       " 'Big+Dumb+Sex']"
      ]
     },
     "execution_count": 36,
     "metadata": {},
     "output_type": "execute_result"
    }
   ],
   "source": [
    "file = list(set(file)) # removes doubles casesensitive\n",
    "file"
   ]
  },
  {
   "cell_type": "code",
   "execution_count": 37,
   "id": "84fdd038",
   "metadata": {},
   "outputs": [
    {
     "data": {
      "text/plain": [
       "['Loud+Love',\n",
       " 'I+Awake',\n",
       " 'Live+to+Rise',\n",
       " 'Jesus+Christ+Pose',\n",
       " 'Dusty',\n",
       " 'Call+Me+a+Dog',\n",
       " 'Mailman',\n",
       " 'Superunknown',\n",
       " 'Slaves+%26+Bulldozers',\n",
       " 'Room+a+Thousand+Years+Wide',\n",
       " 'Spoonman',\n",
       " 'Hands+All+Over',\n",
       " 'Fell+on+Black+Days',\n",
       " 'Flower',\n",
       " 'All+Your+Lies',\n",
       " 'Nothing+To+Say',\n",
       " 'Full+On+Kevin%27s+Mom',\n",
       " 'Rusty+Cage',\n",
       " 'Get+on+the+Snake',\n",
       " 'Outshined',\n",
       " 'Hunger+Strike',\n",
       " 'Pretty+Noose',\n",
       " 'Birth+Ritual+%5BStudio+Outtake%5D',\n",
       " 'Into+The+Void+%5BSealth%5D',\n",
       " 'Kingdom+Of+Come',\n",
       " 'Burden+In+My+Hand',\n",
       " 'Gun',\n",
       " 'Black+Hole+Sun',\n",
       " 'Beyond+the+Wheel',\n",
       " 'Big+Dumb+Sex']"
      ]
     },
     "execution_count": 37,
     "metadata": {},
     "output_type": "execute_result"
    }
   ],
   "source": [
    "#31\n",
    "file.pop(28)\n",
    "file.pop(27)\n",
    "#file.pop(27)\n",
    "file"
   ]
  },
  {
   "cell_type": "code",
   "execution_count": 38,
   "id": "3aab8581",
   "metadata": {},
   "outputs": [
    {
     "name": "stdout",
     "output_type": "stream",
     "text": [
      "Loud+Love\n",
      "I+Awake\n",
      "Live+to+Rise\n",
      "Jesus+Christ+Pose\n",
      "Dusty\n",
      "Call+Me+a+Dog\n",
      "Mailman\n",
      "Superunknown\n",
      "Slaves+%26+Bulldozers\n",
      "Room+a+Thousand+Years+Wide\n",
      "Spoonman\n",
      "Hands+All+Over\n",
      "Fell+on+Black+Days\n",
      "Flower\n",
      "All+Your+Lies\n",
      "Nothing+To+Say\n",
      "Full+On+Kevin%27s+Mom\n",
      "Rusty+Cage\n",
      "Get+on+the+Snake\n",
      "Outshined\n",
      "Hunger+Strike\n",
      "Pretty+Noose\n",
      "Birth+Ritual+%5BStudio+Outtake%5D\n",
      "Into+The+Void+%5BSealth%5D\n",
      "Kingdom+Of+Come\n",
      "Burden+In+My+Hand\n",
      "Gun\n",
      "Black+Hole+Sun\n",
      "Beyond+the+Wheel\n",
      "Big+Dumb+Sex\n"
     ]
    }
   ],
   "source": [
    "with open(f\"web_scraping_cf/DataMusic/Soundgarden_list.txt\", \"w\") as h:\n",
    "        h.write('')\n",
    "\n",
    "for songname in file:\n",
    "    print(songname)\n",
    "    b = songname +'\\n'\n",
    "    with open(f\"web_scraping_cf/DataMusic/Soundgarden_list.txt\", \"a\") as f:\n",
    "        f.write(b)"
   ]
  },
  {
   "cell_type": "code",
   "execution_count": null,
   "id": "122f62bb",
   "metadata": {
    "scrolled": true
   },
   "outputs": [],
   "source": [
    "content = []\n",
    "\n",
    "for i in file:\n",
    "    print(i)\n",
    "    with open (f\"DataMusic/{i}.txt\",'r') as g:\n",
    "        #content.append(g.read())\n",
    "        content.append(' '.join(g.read().split()))"
   ]
  },
  {
   "cell_type": "code",
   "execution_count": null,
   "id": "e5282724",
   "metadata": {
    "scrolled": false
   },
   "outputs": [],
   "source": [
    "content"
   ]
  },
  {
   "cell_type": "code",
   "execution_count": null,
   "id": "d086bd6c",
   "metadata": {},
   "outputs": [],
   "source": []
  },
  {
   "cell_type": "code",
   "execution_count": null,
   "id": "9cf25da0",
   "metadata": {},
   "outputs": [],
   "source": []
  },
  {
   "cell_type": "code",
   "execution_count": null,
   "id": "74c61a7f",
   "metadata": {},
   "outputs": [],
   "source": []
  },
  {
   "cell_type": "code",
   "execution_count": null,
   "id": "d2b9c8ae",
   "metadata": {
    "scrolled": false
   },
   "outputs": [],
   "source": []
  }
 ],
 "metadata": {
  "kernelspec": {
   "display_name": "Python 3 (ipykernel)",
   "language": "python",
   "name": "python3"
  },
  "language_info": {
   "codemirror_mode": {
    "name": "ipython",
    "version": 3
   },
   "file_extension": ".py",
   "mimetype": "text/x-python",
   "name": "python",
   "nbconvert_exporter": "python",
   "pygments_lexer": "ipython3",
   "version": "3.9.7"
  }
 },
 "nbformat": 4,
 "nbformat_minor": 5
}
