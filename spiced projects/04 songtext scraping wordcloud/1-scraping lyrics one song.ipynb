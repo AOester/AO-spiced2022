{
 "cells": [
  {
   "cell_type": "code",
   "execution_count": 1,
   "id": "51a18480",
   "metadata": {},
   "outputs": [],
   "source": [
    "import requests\n",
    "from bs4 import BeautifulSoup"
   ]
  },
  {
   "cell_type": "code",
   "execution_count": 2,
   "id": "6bde2c08",
   "metadata": {},
   "outputs": [],
   "source": [
    "url = 'https://www.lyrics.com/lyric/35699494/Soundgarden/Black+Hole+Sun'"
   ]
  },
  {
   "cell_type": "code",
   "execution_count": 3,
   "id": "7f082f93",
   "metadata": {},
   "outputs": [
    {
     "data": {
      "text/plain": [
       "<Response [200]>"
      ]
     },
     "execution_count": 3,
     "metadata": {},
     "output_type": "execute_result"
    }
   ],
   "source": [
    "response = requests.get(url)\n",
    "response"
   ]
  },
  {
   "cell_type": "code",
   "execution_count": 4,
   "id": "899f18f6",
   "metadata": {},
   "outputs": [],
   "source": [
    "Black_Hole_Sun = response.text"
   ]
  },
  {
   "cell_type": "code",
   "execution_count": 6,
   "id": "f65ae6e3",
   "metadata": {},
   "outputs": [],
   "source": [
    "with open('DataMusic/solo/Black_Hole_Sun.html', \"w\") as f:\n",
    "    f.write(Black_Hole_Sun)\n",
    "    \n",
    "#with open('index.html', 'r') as f:\n",
    "\n",
    "#    contents = f.read()"
   ]
  },
  {
   "cell_type": "code",
   "execution_count": 7,
   "id": "b825a59e",
   "metadata": {},
   "outputs": [],
   "source": [
    "soup = BeautifulSoup(Black_Hole_Sun, 'lxml') #lxml\n",
    "body_text = soup.find(id = \"lyric-body-text\")"
   ]
  },
  {
   "cell_type": "code",
   "execution_count": 8,
   "id": "122f62bb",
   "metadata": {},
   "outputs": [],
   "source": [
    "body_text_clean = body_text.text"
   ]
  },
  {
   "cell_type": "code",
   "execution_count": 9,
   "id": "e5282724",
   "metadata": {},
   "outputs": [],
   "source": [
    "#print(body_text_clean)\n",
    "with open ('DataMusic/solo/Black_Hole_Sun_.txt','w') as g:\n",
    "    g.write(body_text_clean)"
   ]
  },
  {
   "cell_type": "code",
   "execution_count": 10,
   "id": "d086bd6c",
   "metadata": {},
   "outputs": [
    {
     "data": {
      "text/plain": [
       "str"
      ]
     },
     "execution_count": 10,
     "metadata": {},
     "output_type": "execute_result"
    }
   ],
   "source": [
    "type(body_text_clean)"
   ]
  },
  {
   "cell_type": "code",
   "execution_count": 11,
   "id": "5bede2f6",
   "metadata": {},
   "outputs": [
    {
     "data": {
      "text/plain": [
       "\"In my eyes, indisposed\\r\\nIn disguises no one knows\\r\\nHides the face, lies the snake\\r\\nThe sun in my disgrace\\r\\nBoiling heat, summer stench\\r\\n'Neath the black the sky looks dead\\r\\nCall my name through the cream\\r\\nAnd I'll hear you scream again\\r\\n\\r\\nBlack hole sun\\r\\nWon't you come\\r\\nAnd wash away the rain\\r\\nBlack hole sun\\r\\nWon't you come\\r\\nWon't you come (won't you come)\\r\\n\\r\\nStuttering, cold and damp\\r\\nSteal the warm wind tired friend\\r\\nTimes are gone for honest men\\r\\nAnd sometimes far too long for snakes\\r\\nIn my shoes, a walking sleep\\r\\nAnd my youth I pray to keep\\r\\nHeaven sent hell away\\r\\nNo one sings like you anymore\\r\\n\\r\\nBlack hole sun\\r\\nWon't you come\\r\\nAnd wash away the rain\\r\\nBlack hole sun\\r\\nWon't you come\\r\\nWon't you come\\r\\n\\r\\nBlack hole sun\\r\\nWon't you come\\r\\nAnd wash away the rain\\r\\nBlack hole sun\\r\\nWon't you come\\r\\nWon't you come (black hole sun, black hole sun)\\r\\n\\r\\nWon't you come (black hole sun, black hole sun)\\r\\nWon't you come (black hole sun, black hole sun)\\r\\nWon't you come (black hole sun, black hole sun)\\r\\n\\r\\nHang my head, drown my fear\\r\\nTill you all just disappear\\r\\n\\r\\nBlack hole sun\\r\\nWon't you come\\r\\nAnd wash away the rain\\r\\nBlack hole sun\\r\\nWon't you come\\r\\nWon't you come\\r\\n\\r\\nBlack hole sun\\r\\nWon't you come\\r\\nAnd wash away the rain\\r\\nBlack hole sun\\r\\nWon't you come\\r\\nWon't you come (black hole sun, black hole sun)\\r\\nWon't you come (black hole sun, black hole sun)\\r\\nWon't you come (black hole sun, black hole sun)\\r\\nWon't you come (black hole sun, black hole sun)\\r\\nWon't you come (black hole sun, black hole sun)\\r\\nWon't you come (black hole sun, black hole sun)\\r\\nWon't you come\\r\\nWon't you come\""
      ]
     },
     "execution_count": 11,
     "metadata": {},
     "output_type": "execute_result"
    }
   ],
   "source": [
    "body_text_clean"
   ]
  },
  {
   "cell_type": "code",
   "execution_count": 12,
   "id": "9cf25da0",
   "metadata": {},
   "outputs": [
    {
     "data": {
      "text/plain": [
       "['In my eyes, indisposed',\n",
       " 'In disguises no one knows',\n",
       " 'Hides the face, lies the snake',\n",
       " 'The sun in my disgrace',\n",
       " 'Boiling heat, summer stench',\n",
       " \"'Neath the black the sky looks dead\",\n",
       " 'Call my name through the cream',\n",
       " \"And I'll hear you scream again\",\n",
       " '',\n",
       " 'Black hole sun',\n",
       " \"Won't you come\",\n",
       " 'And wash away the rain',\n",
       " 'Black hole sun',\n",
       " \"Won't you come\",\n",
       " \"Won't you come (won't you come)\",\n",
       " '',\n",
       " 'Stuttering, cold and damp',\n",
       " 'Steal the warm wind tired friend',\n",
       " 'Times are gone for honest men',\n",
       " 'And sometimes far too long for snakes',\n",
       " 'In my shoes, a walking sleep',\n",
       " 'And my youth I pray to keep',\n",
       " 'Heaven sent hell away',\n",
       " 'No one sings like you anymore',\n",
       " '',\n",
       " 'Black hole sun',\n",
       " \"Won't you come\",\n",
       " 'And wash away the rain',\n",
       " 'Black hole sun',\n",
       " \"Won't you come\",\n",
       " \"Won't you come\",\n",
       " '',\n",
       " 'Black hole sun',\n",
       " \"Won't you come\",\n",
       " 'And wash away the rain',\n",
       " 'Black hole sun',\n",
       " \"Won't you come\",\n",
       " \"Won't you come (black hole sun, black hole sun)\",\n",
       " '',\n",
       " \"Won't you come (black hole sun, black hole sun)\",\n",
       " \"Won't you come (black hole sun, black hole sun)\",\n",
       " \"Won't you come (black hole sun, black hole sun)\",\n",
       " '',\n",
       " 'Hang my head, drown my fear',\n",
       " 'Till you all just disappear',\n",
       " '',\n",
       " 'Black hole sun',\n",
       " \"Won't you come\",\n",
       " 'And wash away the rain',\n",
       " 'Black hole sun',\n",
       " \"Won't you come\",\n",
       " \"Won't you come\",\n",
       " '',\n",
       " 'Black hole sun',\n",
       " \"Won't you come\",\n",
       " 'And wash away the rain',\n",
       " 'Black hole sun',\n",
       " \"Won't you come\",\n",
       " \"Won't you come (black hole sun, black hole sun)\",\n",
       " \"Won't you come (black hole sun, black hole sun)\",\n",
       " \"Won't you come (black hole sun, black hole sun)\",\n",
       " \"Won't you come (black hole sun, black hole sun)\",\n",
       " \"Won't you come (black hole sun, black hole sun)\",\n",
       " \"Won't you come (black hole sun, black hole sun)\",\n",
       " \"Won't you come\",\n",
       " \"Won't you come\"]"
      ]
     },
     "execution_count": 12,
     "metadata": {},
     "output_type": "execute_result"
    }
   ],
   "source": [
    "bodytext = body_text_clean.splitlines()\n",
    "bodytext"
   ]
  },
  {
   "cell_type": "code",
   "execution_count": null,
   "id": "74c61a7f",
   "metadata": {},
   "outputs": [],
   "source": []
  }
 ],
 "metadata": {
  "kernelspec": {
   "display_name": "Python 3 (ipykernel)",
   "language": "python",
   "name": "python3"
  },
  "language_info": {
   "codemirror_mode": {
    "name": "ipython",
    "version": 3
   },
   "file_extension": ".py",
   "mimetype": "text/x-python",
   "name": "python",
   "nbconvert_exporter": "python",
   "pygments_lexer": "ipython3",
   "version": "3.9.7"
  }
 },
 "nbformat": 4,
 "nbformat_minor": 5
}
