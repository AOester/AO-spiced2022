{
 "cells": [
  {
   "cell_type": "code",
   "execution_count": 2,
   "id": "51a18480",
   "metadata": {},
   "outputs": [],
   "source": [
    "import re\n",
    "import requests"
   ]
  },
  {
   "cell_type": "code",
   "execution_count": 3,
   "id": "9389b5f8",
   "metadata": {},
   "outputs": [],
   "source": [
    "from bs4 import BeautifulSoup"
   ]
  },
  {
   "cell_type": "code",
   "execution_count": 4,
   "id": "6bde2c08",
   "metadata": {},
   "outputs": [],
   "source": [
    "url = 'https://www.lyrics.com/artist/Genesis/4352'"
   ]
  },
  {
   "cell_type": "code",
   "execution_count": 5,
   "id": "7f082f93",
   "metadata": {},
   "outputs": [
    {
     "data": {
      "text/plain": [
       "<Response [200]>"
      ]
     },
     "execution_count": 5,
     "metadata": {},
     "output_type": "execute_result"
    }
   ],
   "source": [
    "response = requests.get(url)\n",
    "response"
   ]
  },
  {
   "cell_type": "code",
   "execution_count": 6,
   "id": "899f18f6",
   "metadata": {},
   "outputs": [],
   "source": [
    "song_list = response.text"
   ]
  },
  {
   "cell_type": "code",
   "execution_count": 7,
   "id": "b825a59e",
   "metadata": {},
   "outputs": [],
   "source": [
    "soup = BeautifulSoup(song_list, 'lxml') #lxml"
   ]
  },
  {
   "cell_type": "code",
   "execution_count": null,
   "id": "6347e23c",
   "metadata": {},
   "outputs": [],
   "source": [
    "soup.find_all('a')"
   ]
  },
  {
   "cell_type": "raw",
   "id": "342f4421",
   "metadata": {},
   "source": []
  },
  {
   "cell_type": "code",
   "execution_count": 8,
   "id": "ce491048",
   "metadata": {},
   "outputs": [],
   "source": [
    "\n",
    "url_list = []\n",
    "\n",
    "for a in soup.find_all('a', href=True):\n",
    "\n",
    "    url_list.append(str(a))\n"
   ]
  },
  {
   "cell_type": "code",
   "execution_count": 9,
   "id": "10e8e08e",
   "metadata": {},
   "outputs": [
    {
     "name": "stdout",
     "output_type": "stream",
     "text": [
      "3174\n",
      "[['/lyric/27617997/Genesis/Turn+It+On+Again'], ['/lyric/23202834/Genesis/Invisible+Touch'], ['/lyric/24701276/Genesis/No+Son+of+Mine'], ['/lyric/24701275/Genesis/Land+of+Confusion'], ['/lyric/24701274/Genesis/The+Lamb+Lies+Down+On+Broadway'], ['/lyric/24701273/Genesis/Calling+All+Stations']]\n"
     ]
    }
   ],
   "source": [
    "url_list2 = []\n",
    "x=0\n",
    "for l in url_list:\n",
    "\n",
    "    nam = re.findall(\n",
    "        '(/lyric/\\d+/Genesis/\\w+\\S+)\">'\n",
    "        ,l)\n",
    "    x = x + 1\n",
    "    url_list2.append(nam)\n",
    "        \n",
    "\n",
    "print(x)\n",
    "url_list3 = list(filter(None, url_list2))\n",
    "\n",
    "print(url_list3[54:60])"
   ]
  },
  {
   "cell_type": "code",
   "execution_count": 10,
   "id": "ce3b0acc",
   "metadata": {},
   "outputs": [
    {
     "data": {
      "text/plain": [
       "2657"
      ]
     },
     "execution_count": 10,
     "metadata": {},
     "output_type": "execute_result"
    }
   ],
   "source": [
    "len(url_list3)"
   ]
  },
  {
   "cell_type": "markdown",
   "id": "b7578295",
   "metadata": {},
   "source": [
    "https://www.lyrics.com/lyric/36104166/Genesis/Over+My+Shoulder\n",
    "/lyric/36104166/Genesis/Over+My+Shoulder"
   ]
  },
  {
   "cell_type": "code",
   "execution_count": 11,
   "id": "f4b68779",
   "metadata": {},
   "outputs": [],
   "source": [
    "string = 'http://www.lyrics.com'\n",
    "url_list4 = []\n",
    "\n",
    "replaced = [\"[\",\"'\",\"]\"]\n",
    "for i in range(len(url_list3)) :\n",
    "    temp1 = str(url_list3[i])\n",
    "    for k in range(len(replaced)):\n",
    "        temp1 = temp1.replace(str(replaced[k]),'')\n",
    "        \n",
    "    url_list4.append(string + temp1)\n",
    "    \n",
    "#print(len(url_list4),x)"
   ]
  },
  {
   "cell_type": "code",
   "execution_count": 12,
   "id": "a60f340c",
   "metadata": {
    "scrolled": true
   },
   "outputs": [
    {
     "name": "stdout",
     "output_type": "stream",
     "text": [
      "http://www.lyrics.com/lyric/24701272/Genesis/Alien+Afternoon\n"
     ]
    }
   ],
   "source": [
    "print(url_list4[60])"
   ]
  },
  {
   "cell_type": "raw",
   "id": "da0cfaf5",
   "metadata": {},
   "source": [
    "ls"
   ]
  },
  {
   "cell_type": "code",
   "execution_count": 15,
   "id": "7f0963e4",
   "metadata": {},
   "outputs": [],
   "source": [
    "# saved the song list to file\n",
    "\n",
    "save=\"\\n\".join(url_list4)\n",
    "\n",
    "with open ('web_scraping_cf/DataMusic/Genesis_list_long.txt','w') as g:\n",
    "    g.write(save)"
   ]
  },
  {
   "cell_type": "code",
   "execution_count": 16,
   "id": "8a9dbbc4",
   "metadata": {},
   "outputs": [],
   "source": [
    "song_list = url_list4[20:50]"
   ]
  },
  {
   "cell_type": "code",
   "execution_count": 18,
   "id": "b1f6030d",
   "metadata": {},
   "outputs": [
    {
     "name": "stdout",
     "output_type": "stream",
     "text": [
      "['I+Know+What+I+Like+%28In+Your+Wardrobe%29+%5BLive%5D']\n",
      "['The+Lamb+Lies+Down+on+Broadway']\n",
      "['Back+in+NYC']\n",
      "['Carpet+Crawlers']\n",
      "['Ripples']\n",
      "['Afterglow']\n",
      "['Turn+It+on+Again']\n",
      "['In+the+Air+Tonight']\n",
      "['Abacab']\n",
      "['Mama']\n",
      "['That%27s+All']\n",
      "['Easy+Lover']\n",
      "['Silent+Running']\n",
      "['Invisible+Touch']\n",
      "['Land+of+Confusion']\n",
      "['Tonight%2C+Tonight%2C+Tonight']\n",
      "['The+Living+Years']\n",
      "['Red+Day+on+Blue+Street']\n",
      "['I+Can%27t+Dance']\n",
      "['No+Son+of+Mine']\n",
      "['Hold+on+My+Heart']\n",
      "['Calling+All+Stations']\n",
      "['Signal+to+Noise']\n",
      "['In+Too+Deep']\n",
      "['Over+My+Shoulder']\n",
      "['Signal+to+Noise']\n",
      "['In+Too+Deep']\n",
      "['Biko']\n",
      "['Abacab']\n",
      "['That%27s+All']\n"
     ]
    },
    {
     "data": {
      "text/plain": [
       "['I+Know+What+I+Like+%28In+Your+Wardrobe%29+%5BLive%5D',\n",
       " 'The+Lamb+Lies+Down+on+Broadway',\n",
       " 'Back+in+NYC',\n",
       " 'Carpet+Crawlers',\n",
       " 'Ripples',\n",
       " 'Afterglow',\n",
       " 'Turn+It+on+Again',\n",
       " 'In+the+Air+Tonight',\n",
       " 'Abacab',\n",
       " 'Mama',\n",
       " 'That%27s+All',\n",
       " 'Easy+Lover',\n",
       " 'Silent+Running',\n",
       " 'Invisible+Touch',\n",
       " 'Land+of+Confusion',\n",
       " 'Tonight%2C+Tonight%2C+Tonight',\n",
       " 'The+Living+Years',\n",
       " 'Red+Day+on+Blue+Street',\n",
       " 'I+Can%27t+Dance',\n",
       " 'No+Son+of+Mine',\n",
       " 'Hold+on+My+Heart',\n",
       " 'Calling+All+Stations',\n",
       " 'Signal+to+Noise',\n",
       " 'In+Too+Deep',\n",
       " 'Over+My+Shoulder',\n",
       " 'Signal+to+Noise',\n",
       " 'In+Too+Deep',\n",
       " 'Biko',\n",
       " 'Abacab',\n",
       " 'That%27s+All']"
      ]
     },
     "execution_count": 18,
     "metadata": {},
     "output_type": "execute_result"
    }
   ],
   "source": [
    "file = []\n",
    "for url in song_list:\n",
    "    response = requests.get(url)\n",
    "    content = response.text\n",
    "    names = re.findall('\\d+\\W\\w+\\W(.+)',url)\n",
    "    print(names)\n",
    "    soup = BeautifulSoup(content, 'lxml') #lxml\n",
    "    body_text = soup.find(id=\"lyric-body-text\")\n",
    "    names\n",
    "    body_text_clean = body_text.text\n",
    "    with open(f\"web_scraping_cf/DataMusic/{names[0]}.txt\", \"w\") as f:\n",
    "        f.write(body_text_clean)\n",
    "    file.append(names[0])\n",
    "file"
   ]
  },
  {
   "cell_type": "raw",
   "id": "658429fd",
   "metadata": {},
   "source": [
    "file = list(set(file)) # removes doubles\n",
    "file"
   ]
  },
  {
   "cell_type": "raw",
   "id": "957f8aab",
   "metadata": {},
   "source": [
    "file.pop(4)\n",
    "file"
   ]
  },
  {
   "cell_type": "raw",
   "id": "758cbbc4",
   "metadata": {},
   "source": [
    "file.pop(9)\n",
    "file"
   ]
  },
  {
   "cell_type": "code",
   "execution_count": 21,
   "id": "1ba08836",
   "metadata": {},
   "outputs": [
    {
     "name": "stdout",
     "output_type": "stream",
     "text": [
      "I+Know+What+I+Like+%28In+Your+Wardrobe%29+%5BLive%5D\n",
      "The+Lamb+Lies+Down+on+Broadway\n",
      "Back+in+NYC\n",
      "Carpet+Crawlers\n",
      "Ripples\n",
      "Afterglow\n",
      "Turn+It+on+Again\n",
      "In+the+Air+Tonight\n",
      "Abacab\n",
      "Mama\n",
      "That%27s+All\n",
      "Easy+Lover\n",
      "Silent+Running\n",
      "Invisible+Touch\n",
      "Land+of+Confusion\n",
      "Tonight%2C+Tonight%2C+Tonight\n",
      "The+Living+Years\n",
      "Red+Day+on+Blue+Street\n",
      "I+Can%27t+Dance\n",
      "No+Son+of+Mine\n",
      "Hold+on+My+Heart\n",
      "Calling+All+Stations\n",
      "Signal+to+Noise\n",
      "In+Too+Deep\n",
      "Over+My+Shoulder\n",
      "Signal+to+Noise\n",
      "In+Too+Deep\n",
      "Biko\n",
      "Abacab\n",
      "That%27s+All\n"
     ]
    }
   ],
   "source": [
    "with open(f\"web_scraping_cf/DataMusic/Genesis_list.txt\", \"w\") as h:\n",
    "        h.write('')\n",
    "        \n",
    "for songname in file:\n",
    "    print(songname)\n",
    "    b = songname +'\\n'\n",
    "    with open(f\"web_scraping_cf/DataMusic/Genesis_list.txt\", \"a\") as f:\n",
    "        f.write(b)"
   ]
  },
  {
   "cell_type": "code",
   "execution_count": null,
   "id": "122f62bb",
   "metadata": {
    "scrolled": true
   },
   "outputs": [],
   "source": [
    "content = []\n",
    "\n",
    "for i in file:\n",
    "    print(i)\n",
    "    with open (f\"DataMusic/{i}.txt\",'r') as g:\n",
    "        #content.append(g.read())\n",
    "        content.append(' '.join(g.read().split()))"
   ]
  },
  {
   "cell_type": "code",
   "execution_count": null,
   "id": "e5282724",
   "metadata": {
    "scrolled": false
   },
   "outputs": [],
   "source": [
    "content"
   ]
  }
 ],
 "metadata": {
  "kernelspec": {
   "display_name": "Python 3 (ipykernel)",
   "language": "python",
   "name": "python3"
  },
  "language_info": {
   "codemirror_mode": {
    "name": "ipython",
    "version": 3
   },
   "file_extension": ".py",
   "mimetype": "text/x-python",
   "name": "python",
   "nbconvert_exporter": "python",
   "pygments_lexer": "ipython3",
   "version": "3.9.7"
  }
 },
 "nbformat": 4,
 "nbformat_minor": 5
}
