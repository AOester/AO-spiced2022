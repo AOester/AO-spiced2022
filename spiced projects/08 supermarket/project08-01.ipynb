{
 "cells": [
  {
   "cell_type": "code",
   "execution_count": 1,
   "id": "a99a1f11",
   "metadata": {},
   "outputs": [],
   "source": [
    "import pandas as pd\n",
    "import matplotlib.pyplot as plt\n",
    "import datetime\n",
    "from faker import Faker\n",
    "fake = Faker()\n",
    "from random import randint, choices\n",
    "from customer import Customer"
   ]
  },
  {
   "cell_type": "raw",
   "id": "28241abb",
   "metadata": {},
   "source": [
    "from probabilities import startprobabilities as stapro\n",
    "from probabilities import transitionsprobs as transpro"
   ]
  },
  {
   "cell_type": "code",
   "execution_count": 2,
   "id": "ce66b0a3",
   "metadata": {},
   "outputs": [],
   "source": [
    "def addcheckout(df): # added missing checkout entries\n",
    "    last = df.groupby(['customer_no']).last()\n",
    "    last.drop(last[last['location'] == 'checkout'].index,inplace=True)\n",
    "    last.drop(columns={'location'},inplace=True)\n",
    "    last.reset_index(inplace=True)\n",
    "    \n",
    "    tobeadded = []\n",
    "    for i in last['customer_no'] :\n",
    "        oneentry = [i,F'{df.index[-1].year}-{df.index[-1].month}-{df.index[-1].day} 21:51:00','checkout',df.day[-1]]\n",
    "        tobeadded.append(oneentry)\n",
    "    \n",
    "    \n",
    "    dfadd = pd.DataFrame(tobeadded, columns = ['customer_no','timestamp','location','day'])\n",
    "    dfadd = dfadd.set_index(['timestamp'])\n",
    "    dfadd.index = pd.to_datetime(dfadd.index)\n",
    "    \n",
    "    appendedDF = df.append(dfadd)\n",
    "    \n",
    "    return(appendedDF)"
   ]
  },
  {
   "cell_type": "code",
   "execution_count": 3,
   "id": "d79f584d",
   "metadata": {},
   "outputs": [],
   "source": [
    "def dayname(dayframe): # adds a column with a weekday\n",
    "    value = dayframe.index[-1].dayofweek\n",
    "    if value == 0:\n",
    "        dayframe['day'] = 'mon'\n",
    "    elif value == 1:\n",
    "        dayframe['day'] = 'tue'\n",
    "    elif value == 2:\n",
    "        dayframe['day'] = 'wed'\n",
    "    elif value == 3:\n",
    "        dayframe['day'] = 'thu'\n",
    "    elif value == 4:\n",
    "        dayframe['day'] = 'fri'\n",
    "    elif value == 5:\n",
    "        dayframe['day'] = 'sat'\n",
    "    elif value == 6:\n",
    "        dayframe['day'] = 'sun'\n",
    "    else:\n",
    "        print('something is wrong!!')\n",
    "    return(dayframe)"
   ]
  },
  {
   "cell_type": "code",
   "execution_count": 4,
   "id": "8606cb6d",
   "metadata": {},
   "outputs": [],
   "source": [
    "def fill(day): # fills missing timestamps\n",
    "    day = day.groupby(['customer_no']).resample('min').ffill()\n",
    "    return(day)"
   ]
  },
  {
   "cell_type": "code",
   "execution_count": 5,
   "id": "44ce3ba5",
   "metadata": {},
   "outputs": [],
   "source": [
    "def combinedays(Frames): #takes a List of DataFrames\n",
    "    newdf = pd.DataFrame()\n",
    "    last = 0\n",
    "    for i in Frames:\n",
    "        i.customer_no = i.customer_no + last\n",
    "        last = i.customer_no.max()\n",
    "        newdf = newdf.append(i)\n",
    "    return(newdf)"
   ]
  },
  {
   "cell_type": "raw",
   "id": "5215bb8c",
   "metadata": {},
   "source": [
    "F'{dfmon.index[-1].year}-{dfmon.index[-1].month}-{dfmon.index[-1].day} 21:51:00'"
   ]
  },
  {
   "cell_type": "raw",
   "id": "6372ae94",
   "metadata": {},
   "source": [
    "dfmon.index[-1]"
   ]
  },
  {
   "cell_type": "raw",
   "id": "91be4d26",
   "metadata": {},
   "source": [
    "dfmon.index[-1].dayofweek"
   ]
  },
  {
   "cell_type": "code",
   "execution_count": 6,
   "id": "4df6cc0c",
   "metadata": {},
   "outputs": [],
   "source": [
    "dfmon = pd.read_csv('data/monday.csv', delimiter = ';',parse_dates = True,index_col = 'timestamp')\n",
    "dftue = pd.read_csv('data/tuesday.csv', delimiter = ';',parse_dates = True,index_col = 'timestamp')\n",
    "dfwed = pd.read_csv('data/wednesday.csv', delimiter = ';',parse_dates = True,index_col = 'timestamp')\n",
    "dfthu = pd.read_csv('data/thursday.csv', delimiter = ';',parse_dates = True,index_col = 'timestamp')\n",
    "dffri = pd.read_csv('data/friday.csv', delimiter = ';',parse_dates = True,index_col = 'timestamp')"
   ]
  },
  {
   "cell_type": "code",
   "execution_count": 7,
   "id": "1ce853f7",
   "metadata": {},
   "outputs": [],
   "source": [
    "weekdays = [dfmon,dftue,dfwed,dfthu,dffri]"
   ]
  },
  {
   "cell_type": "code",
   "execution_count": 8,
   "id": "341360db",
   "metadata": {},
   "outputs": [],
   "source": [
    "dayweek = []\n",
    "for a in weekdays:\n",
    "    dayweek.append(dayname(a))\n",
    "weekdays = dayweek"
   ]
  },
  {
   "cell_type": "code",
   "execution_count": 9,
   "id": "83259d1b",
   "metadata": {},
   "outputs": [],
   "source": [
    "newweekdays = []\n",
    "for i in weekdays:\n",
    "    newweekdays.append(addcheckout(i))"
   ]
  },
  {
   "cell_type": "code",
   "execution_count": 10,
   "id": "94167fc2",
   "metadata": {},
   "outputs": [],
   "source": [
    "filledday =[]\n",
    "for d in newweekdays:\n",
    "    filledday.append(fill(d))"
   ]
  },
  {
   "cell_type": "code",
   "execution_count": null,
   "id": "5c3157ae",
   "metadata": {},
   "outputs": [],
   "source": []
  },
  {
   "cell_type": "code",
   "execution_count": 14,
   "id": "bdb5c9d8",
   "metadata": {},
   "outputs": [
    {
     "data": {
      "text/html": [
       "<div>\n",
       "<style scoped>\n",
       "    .dataframe tbody tr th:only-of-type {\n",
       "        vertical-align: middle;\n",
       "    }\n",
       "\n",
       "    .dataframe tbody tr th {\n",
       "        vertical-align: top;\n",
       "    }\n",
       "\n",
       "    .dataframe thead th {\n",
       "        text-align: right;\n",
       "    }\n",
       "</style>\n",
       "<table border=\"1\" class=\"dataframe\">\n",
       "  <thead>\n",
       "    <tr style=\"text-align: right;\">\n",
       "      <th></th>\n",
       "      <th>timestamp</th>\n",
       "      <th>customer_no</th>\n",
       "      <th>location</th>\n",
       "      <th>day</th>\n",
       "    </tr>\n",
       "  </thead>\n",
       "  <tbody>\n",
       "    <tr>\n",
       "      <th>0</th>\n",
       "      <td>2019-09-02 07:03:00</td>\n",
       "      <td>1</td>\n",
       "      <td>dairy</td>\n",
       "      <td>mon</td>\n",
       "    </tr>\n",
       "    <tr>\n",
       "      <th>1</th>\n",
       "      <td>2019-09-02 07:03:00</td>\n",
       "      <td>2</td>\n",
       "      <td>dairy</td>\n",
       "      <td>mon</td>\n",
       "    </tr>\n",
       "    <tr>\n",
       "      <th>2</th>\n",
       "      <td>2019-09-02 07:04:00</td>\n",
       "      <td>3</td>\n",
       "      <td>dairy</td>\n",
       "      <td>mon</td>\n",
       "    </tr>\n",
       "    <tr>\n",
       "      <th>3</th>\n",
       "      <td>2019-09-02 07:04:00</td>\n",
       "      <td>4</td>\n",
       "      <td>dairy</td>\n",
       "      <td>mon</td>\n",
       "    </tr>\n",
       "    <tr>\n",
       "      <th>4</th>\n",
       "      <td>2019-09-02 07:04:00</td>\n",
       "      <td>5</td>\n",
       "      <td>spices</td>\n",
       "      <td>mon</td>\n",
       "    </tr>\n",
       "    <tr>\n",
       "      <th>5</th>\n",
       "      <td>2019-09-02 07:04:00</td>\n",
       "      <td>6</td>\n",
       "      <td>spices</td>\n",
       "      <td>mon</td>\n",
       "    </tr>\n",
       "    <tr>\n",
       "      <th>6</th>\n",
       "      <td>2019-09-02 07:04:00</td>\n",
       "      <td>7</td>\n",
       "      <td>spices</td>\n",
       "      <td>mon</td>\n",
       "    </tr>\n",
       "    <tr>\n",
       "      <th>7</th>\n",
       "      <td>2019-09-02 07:04:00</td>\n",
       "      <td>8</td>\n",
       "      <td>fruit</td>\n",
       "      <td>mon</td>\n",
       "    </tr>\n",
       "  </tbody>\n",
       "</table>\n",
       "</div>"
      ],
      "text/plain": [
       "            timestamp  customer_no location  day\n",
       "0 2019-09-02 07:03:00            1    dairy  mon\n",
       "1 2019-09-02 07:03:00            2    dairy  mon\n",
       "2 2019-09-02 07:04:00            3    dairy  mon\n",
       "3 2019-09-02 07:04:00            4    dairy  mon\n",
       "4 2019-09-02 07:04:00            5   spices  mon\n",
       "5 2019-09-02 07:04:00            6   spices  mon\n",
       "6 2019-09-02 07:04:00            7   spices  mon\n",
       "7 2019-09-02 07:04:00            8    fruit  mon"
      ]
     },
     "execution_count": 14,
     "metadata": {},
     "output_type": "execute_result"
    }
   ],
   "source": [
    "notfilled = combinedays(newweekdays)\n",
    "notfilled.reset_index(inplace=True)\n",
    "notfilled.head(8)"
   ]
  },
  {
   "cell_type": "code",
   "execution_count": 30,
   "id": "907c6de7",
   "metadata": {},
   "outputs": [
    {
     "data": {
      "text/html": [
       "<div>\n",
       "<style scoped>\n",
       "    .dataframe tbody tr th:only-of-type {\n",
       "        vertical-align: middle;\n",
       "    }\n",
       "\n",
       "    .dataframe tbody tr th {\n",
       "        vertical-align: top;\n",
       "    }\n",
       "\n",
       "    .dataframe thead th {\n",
       "        text-align: right;\n",
       "    }\n",
       "</style>\n",
       "<table border=\"1\" class=\"dataframe\">\n",
       "  <thead>\n",
       "    <tr style=\"text-align: right;\">\n",
       "      <th></th>\n",
       "      <th></th>\n",
       "      <th>customer_no</th>\n",
       "      <th>location</th>\n",
       "      <th>day</th>\n",
       "    </tr>\n",
       "    <tr>\n",
       "      <th>customer_no</th>\n",
       "      <th>timestamp</th>\n",
       "      <th></th>\n",
       "      <th></th>\n",
       "      <th></th>\n",
       "    </tr>\n",
       "  </thead>\n",
       "  <tbody>\n",
       "    <tr>\n",
       "      <th rowspan=\"3\" valign=\"top\">1</th>\n",
       "      <th>2019-09-02 07:03:00</th>\n",
       "      <td>1</td>\n",
       "      <td>dairy</td>\n",
       "      <td>mon</td>\n",
       "    </tr>\n",
       "    <tr>\n",
       "      <th>2019-09-02 07:04:00</th>\n",
       "      <td>1</td>\n",
       "      <td>dairy</td>\n",
       "      <td>mon</td>\n",
       "    </tr>\n",
       "    <tr>\n",
       "      <th>2019-09-02 07:05:00</th>\n",
       "      <td>1</td>\n",
       "      <td>checkout</td>\n",
       "      <td>mon</td>\n",
       "    </tr>\n",
       "    <tr>\n",
       "      <th rowspan=\"4\" valign=\"top\">2</th>\n",
       "      <th>2019-09-02 07:03:00</th>\n",
       "      <td>2</td>\n",
       "      <td>dairy</td>\n",
       "      <td>mon</td>\n",
       "    </tr>\n",
       "    <tr>\n",
       "      <th>2019-09-02 07:04:00</th>\n",
       "      <td>2</td>\n",
       "      <td>dairy</td>\n",
       "      <td>mon</td>\n",
       "    </tr>\n",
       "    <tr>\n",
       "      <th>2019-09-02 07:05:00</th>\n",
       "      <td>2</td>\n",
       "      <td>dairy</td>\n",
       "      <td>mon</td>\n",
       "    </tr>\n",
       "    <tr>\n",
       "      <th>2019-09-02 07:06:00</th>\n",
       "      <td>2</td>\n",
       "      <td>checkout</td>\n",
       "      <td>mon</td>\n",
       "    </tr>\n",
       "    <tr>\n",
       "      <th>3</th>\n",
       "      <th>2019-09-02 07:04:00</th>\n",
       "      <td>3</td>\n",
       "      <td>dairy</td>\n",
       "      <td>mon</td>\n",
       "    </tr>\n",
       "  </tbody>\n",
       "</table>\n",
       "</div>"
      ],
      "text/plain": [
       "                                 customer_no  location  day\n",
       "customer_no timestamp                                      \n",
       "1           2019-09-02 07:03:00            1     dairy  mon\n",
       "            2019-09-02 07:04:00            1     dairy  mon\n",
       "            2019-09-02 07:05:00            1  checkout  mon\n",
       "2           2019-09-02 07:03:00            2     dairy  mon\n",
       "            2019-09-02 07:04:00            2     dairy  mon\n",
       "            2019-09-02 07:05:00            2     dairy  mon\n",
       "            2019-09-02 07:06:00            2  checkout  mon\n",
       "3           2019-09-02 07:04:00            3     dairy  mon"
      ]
     },
     "execution_count": 30,
     "metadata": {},
     "output_type": "execute_result"
    }
   ],
   "source": [
    "combiweek = combinedays(filledday)\n",
    "combiweek.head(8)"
   ]
  },
  {
   "cell_type": "code",
   "execution_count": 31,
   "id": "56a83cee",
   "metadata": {},
   "outputs": [
    {
     "data": {
      "text/html": [
       "<div>\n",
       "<style scoped>\n",
       "    .dataframe tbody tr th:only-of-type {\n",
       "        vertical-align: middle;\n",
       "    }\n",
       "\n",
       "    .dataframe tbody tr th {\n",
       "        vertical-align: top;\n",
       "    }\n",
       "\n",
       "    .dataframe thead th {\n",
       "        text-align: right;\n",
       "    }\n",
       "</style>\n",
       "<table border=\"1\" class=\"dataframe\">\n",
       "  <thead>\n",
       "    <tr style=\"text-align: right;\">\n",
       "      <th></th>\n",
       "      <th>timestamp</th>\n",
       "      <th>number</th>\n",
       "      <th>location</th>\n",
       "      <th>day</th>\n",
       "    </tr>\n",
       "  </thead>\n",
       "  <tbody>\n",
       "    <tr>\n",
       "      <th>0</th>\n",
       "      <td>2019-09-02 07:03:00</td>\n",
       "      <td>1</td>\n",
       "      <td>dairy</td>\n",
       "      <td>mon</td>\n",
       "    </tr>\n",
       "    <tr>\n",
       "      <th>1</th>\n",
       "      <td>2019-09-02 07:04:00</td>\n",
       "      <td>1</td>\n",
       "      <td>dairy</td>\n",
       "      <td>mon</td>\n",
       "    </tr>\n",
       "    <tr>\n",
       "      <th>2</th>\n",
       "      <td>2019-09-02 07:05:00</td>\n",
       "      <td>1</td>\n",
       "      <td>checkout</td>\n",
       "      <td>mon</td>\n",
       "    </tr>\n",
       "    <tr>\n",
       "      <th>3</th>\n",
       "      <td>2019-09-02 07:03:00</td>\n",
       "      <td>2</td>\n",
       "      <td>dairy</td>\n",
       "      <td>mon</td>\n",
       "    </tr>\n",
       "    <tr>\n",
       "      <th>4</th>\n",
       "      <td>2019-09-02 07:04:00</td>\n",
       "      <td>2</td>\n",
       "      <td>dairy</td>\n",
       "      <td>mon</td>\n",
       "    </tr>\n",
       "    <tr>\n",
       "      <th>5</th>\n",
       "      <td>2019-09-02 07:05:00</td>\n",
       "      <td>2</td>\n",
       "      <td>dairy</td>\n",
       "      <td>mon</td>\n",
       "    </tr>\n",
       "    <tr>\n",
       "      <th>6</th>\n",
       "      <td>2019-09-02 07:06:00</td>\n",
       "      <td>2</td>\n",
       "      <td>checkout</td>\n",
       "      <td>mon</td>\n",
       "    </tr>\n",
       "    <tr>\n",
       "      <th>7</th>\n",
       "      <td>2019-09-02 07:04:00</td>\n",
       "      <td>3</td>\n",
       "      <td>dairy</td>\n",
       "      <td>mon</td>\n",
       "    </tr>\n",
       "  </tbody>\n",
       "</table>\n",
       "</div>"
      ],
      "text/plain": [
       "            timestamp  number  location  day\n",
       "0 2019-09-02 07:03:00       1     dairy  mon\n",
       "1 2019-09-02 07:04:00       1     dairy  mon\n",
       "2 2019-09-02 07:05:00       1  checkout  mon\n",
       "3 2019-09-02 07:03:00       2     dairy  mon\n",
       "4 2019-09-02 07:04:00       2     dairy  mon\n",
       "5 2019-09-02 07:05:00       2     dairy  mon\n",
       "6 2019-09-02 07:06:00       2  checkout  mon\n",
       "7 2019-09-02 07:04:00       3     dairy  mon"
      ]
     },
     "execution_count": 31,
     "metadata": {},
     "output_type": "execute_result"
    }
   ],
   "source": [
    "combiweek.rename(columns={'customer_no': 'number'},inplace=True)\n",
    "combiweek.reset_index(inplace=True)\n",
    "combiweek.drop(['customer_no'],axis=1,inplace=True)\n",
    "combiweek.head(8)"
   ]
  },
  {
   "cell_type": "code",
   "execution_count": 18,
   "id": "9fb58317",
   "metadata": {},
   "outputs": [
    {
     "data": {
      "text/plain": [
       "location  day\n",
       "checkout  fri    1510\n",
       "          mon    1447\n",
       "          thu    1535\n",
       "          tue    1422\n",
       "          wed    1531\n",
       "dairy     fri     932\n",
       "          mon     895\n",
       "          thu     965\n",
       "          tue     911\n",
       "          wed     976\n",
       "drinks    fri     844\n",
       "          mon     797\n",
       "          thu     776\n",
       "          tue     713\n",
       "          wed     775\n",
       "fruit     fri    1057\n",
       "          mon    1005\n",
       "          thu    1041\n",
       "          tue     976\n",
       "          wed    1043\n",
       "spices    fri     790\n",
       "          mon     750\n",
       "          thu     790\n",
       "          tue     694\n",
       "          wed     730\n",
       "Name: customer_no, dtype: int64"
      ]
     },
     "execution_count": 18,
     "metadata": {},
     "output_type": "execute_result"
    }
   ],
   "source": [
    "#Calculate the total number of customers in each section\n",
    "notfilled.groupby(['location','day'])['customer_no'].count()"
   ]
  },
  {
   "cell_type": "code",
   "execution_count": 19,
   "id": "08411975",
   "metadata": {
    "scrolled": true
   },
   "outputs": [
    {
     "data": {
      "text/plain": [
       "day  location  timestamp          \n",
       "fri  checkout  2019-09-06 07:01:00    1\n",
       "               2019-09-06 07:02:00    1\n",
       "               2019-09-06 07:04:00    1\n",
       "               2019-09-06 07:05:00    2\n",
       "               2019-09-06 07:09:00    1\n",
       "                                     ..\n",
       "wed  spices    2019-09-04 21:46:00    1\n",
       "               2019-09-04 21:47:00    1\n",
       "               2019-09-04 21:48:00    3\n",
       "               2019-09-04 21:49:00    1\n",
       "               2019-09-04 21:50:00    1\n",
       "Name: number, Length: 18770, dtype: int64"
      ]
     },
     "execution_count": 19,
     "metadata": {},
     "output_type": "execute_result"
    }
   ],
   "source": [
    "#Calculate the total number of customers in each section over time\n",
    "loc_time = combiweek.groupby(['day','location','timestamp'])['number'].count()\n",
    "\n",
    "loc_time"
   ]
  },
  {
   "cell_type": "code",
   "execution_count": 20,
   "id": "0e16e944",
   "metadata": {},
   "outputs": [
    {
     "data": {
      "text/plain": [
       "timestamp\n",
       "2019-09-02 07:05:00     2\n",
       "2019-09-02 07:06:00     2\n",
       "2019-09-02 07:07:00     1\n",
       "2019-09-02 07:08:00     3\n",
       "2019-09-02 07:09:00     1\n",
       "                       ..\n",
       "2019-09-02 21:46:00     1\n",
       "2019-09-02 21:47:00     2\n",
       "2019-09-02 21:48:00     2\n",
       "2019-09-02 21:49:00     2\n",
       "2019-09-02 21:51:00    10\n",
       "Name: number, Length: 701, dtype: int64"
      ]
     },
     "execution_count": 20,
     "metadata": {},
     "output_type": "execute_result"
    }
   ],
   "source": [
    "#Display the number of customers at checkout over time\n",
    "loc_time['mon','checkout']"
   ]
  },
  {
   "cell_type": "code",
   "execution_count": 21,
   "id": "e54c8ebe",
   "metadata": {},
   "outputs": [
    {
     "data": {
      "text/plain": [
       "[<matplotlib.lines.Line2D at 0x240adb8e670>]"
      ]
     },
     "execution_count": 21,
     "metadata": {},
     "output_type": "execute_result"
    },
    {
     "data": {
      "image/png": "[encoded data removed]",
      "text/plain": [
       "<Figure size 432x288 with 5 Axes>"
      ]
     },
     "metadata": {
      "needs_background": "light"
     },
     "output_type": "display_data"
    }
   ],
   "source": [
    "#Display the number of customers at checkout over time\n",
    "\n",
    "\n",
    "plt.subplot(2,3,1)\n",
    "plt.xticks(rotation = 45)\n",
    "plt.plot(loc_time['mon','checkout'][:])\n",
    "plt.subplot(2,3,2)\n",
    "plt.xticks(rotation = 45)\n",
    "plt.plot(loc_time['tue','checkout'][:])\n",
    "plt.subplot(2,3,3)\n",
    "plt.xticks(rotation = 45)\n",
    "plt.plot(loc_time['wed','checkout'][:])\n",
    "plt.subplot(2,3,4)\n",
    "plt.xticks(rotation = 45)\n",
    "plt.plot(loc_time['thu','checkout'][:])\n",
    "plt.subplot(2,3,5)\n",
    "plt.xticks(rotation = 45)\n",
    "plt.plot(loc_time['fri','checkout'][:])"
   ]
  },
  {
   "cell_type": "code",
   "execution_count": 22,
   "id": "92db5b73",
   "metadata": {},
   "outputs": [],
   "source": [
    "#Calculate the total number of customers in the supermarket over time.\n",
    "\n",
    "dfmoncounts = combiweek.groupby(['day','timestamp'],sort=False)['number'].count()"
   ]
  },
  {
   "cell_type": "code",
   "execution_count": 23,
   "id": "fe040882",
   "metadata": {},
   "outputs": [
    {
     "data": {
      "text/plain": [
       "(array([-1000.,     0.,  1000.,  2000.,  3000.,  4000.,  5000.]),\n",
       " [Text(-1000.0, 0, '(thu, 2019-09-05 20:04:00)'),\n",
       "  Text(0.0, 0, '(mon, 2019-09-02 07:03:00)'),\n",
       "  Text(1000.0, 0, '(tue, 2019-09-03 08:53:00)'),\n",
       "  Text(2000.0, 0, '(wed, 2019-09-04 10:41:00)'),\n",
       "  Text(3000.0, 0, '(thu, 2019-09-05 12:30:00)'),\n",
       "  Text(4000.0, 0, '(fri, 2019-09-06 14:18:00)'),\n",
       "  Text(5000.0, 0, '')])"
      ]
     },
     "execution_count": 23,
     "metadata": {},
     "output_type": "execute_result"
    },
    {
     "data": {
      "image/png": "[encoded data removed]",
      "text/plain": [
       "<Figure size 432x288 with 1 Axes>"
      ]
     },
     "metadata": {
      "needs_background": "light"
     },
     "output_type": "display_data"
    }
   ],
   "source": [
    "dfmoncounts.plot()\n",
    "plt.xticks(rotation = 45)"
   ]
  },
  {
   "cell_type": "code",
   "execution_count": 24,
   "id": "9f4f5e0c",
   "metadata": {},
   "outputs": [
    {
     "name": "stdout",
     "output_type": "stream",
     "text": [
      "Customer time in supermarket \n",
      " median = 0 days 00:04:00 \n",
      " mean = 0 days 00:06:14.933512424 \n",
      " longest stay = 0 days 00:52:00\n"
     ]
    }
   ],
   "source": [
    "#Calculate the time each customer spent in the market\n",
    "start = combiweek.groupby(['number']).nth([0])['timestamp']\n",
    "end = combiweek.groupby(['number']).last()['timestamp']\n",
    "time = end - start\n",
    "print(f'Customer time in supermarket \\n median = {time.median()} \\n mean = {time.mean()} \\n longest stay = {time.max()}')"
   ]
  },
  {
   "cell_type": "code",
   "execution_count": 25,
   "id": "4d8ee045",
   "metadata": {},
   "outputs": [
    {
     "name": "stdout",
     "output_type": "stream",
     "text": [
      "Customer time in supermarket \n",
      " median = 0 days 00:04:00 \n",
      " mean = 0 days 00:06:14.933512424 \n",
      " longest stay = 0 days 00:52:00\n"
     ]
    }
   ],
   "source": [
    "#Calculate the time each customer spent in the market\n",
    "startn = notfilled.groupby(['customer_no']).nth([0])['timestamp']\n",
    "endn = notfilled.groupby(['customer_no']).last()['timestamp']\n",
    "timenotfilled = endn - startn\n",
    "print(f'Customer time in supermarket \\n median = {timenotfilled.median()} \\n mean = {timenotfilled.mean()} \\n longest stay = {timenotfilled.max()}')"
   ]
  },
  {
   "cell_type": "markdown",
   "id": "8db0c548",
   "metadata": {},
   "source": [
    "# *** transition ***"
   ]
  },
  {
   "cell_type": "code",
   "execution_count": 32,
   "id": "4e74540b",
   "metadata": {},
   "outputs": [],
   "source": [
    "combiweek['transition'] = combiweek['location'].shift(-1)"
   ]
  },
  {
   "cell_type": "code",
   "execution_count": 33,
   "id": "ebd69318",
   "metadata": {},
   "outputs": [
    {
     "data": {
      "text/html": [
       "<div>\n",
       "<style scoped>\n",
       "    .dataframe tbody tr th:only-of-type {\n",
       "        vertical-align: middle;\n",
       "    }\n",
       "\n",
       "    .dataframe tbody tr th {\n",
       "        vertical-align: top;\n",
       "    }\n",
       "\n",
       "    .dataframe thead th {\n",
       "        text-align: right;\n",
       "    }\n",
       "</style>\n",
       "<table border=\"1\" class=\"dataframe\">\n",
       "  <thead>\n",
       "    <tr style=\"text-align: right;\">\n",
       "      <th></th>\n",
       "      <th>timestamp</th>\n",
       "      <th>number</th>\n",
       "      <th>location</th>\n",
       "      <th>day</th>\n",
       "      <th>transition</th>\n",
       "    </tr>\n",
       "  </thead>\n",
       "  <tbody>\n",
       "    <tr>\n",
       "      <th>53962</th>\n",
       "      <td>2019-09-06 21:49:00</td>\n",
       "      <td>102043</td>\n",
       "      <td>dairy</td>\n",
       "      <td>fri</td>\n",
       "      <td>checkout</td>\n",
       "    </tr>\n",
       "    <tr>\n",
       "      <th>53963</th>\n",
       "      <td>2019-09-06 21:50:00</td>\n",
       "      <td>102043</td>\n",
       "      <td>checkout</td>\n",
       "      <td>fri</td>\n",
       "      <td>drinks</td>\n",
       "    </tr>\n",
       "    <tr>\n",
       "      <th>53964</th>\n",
       "      <td>2019-09-06 21:50:00</td>\n",
       "      <td>102044</td>\n",
       "      <td>drinks</td>\n",
       "      <td>fri</td>\n",
       "      <td>checkout</td>\n",
       "    </tr>\n",
       "    <tr>\n",
       "      <th>53965</th>\n",
       "      <td>2019-09-06 21:51:00</td>\n",
       "      <td>102044</td>\n",
       "      <td>checkout</td>\n",
       "      <td>fri</td>\n",
       "      <td>spices</td>\n",
       "    </tr>\n",
       "    <tr>\n",
       "      <th>53966</th>\n",
       "      <td>2019-09-06 21:50:00</td>\n",
       "      <td>102045</td>\n",
       "      <td>spices</td>\n",
       "      <td>fri</td>\n",
       "      <td>checkout</td>\n",
       "    </tr>\n",
       "    <tr>\n",
       "      <th>53967</th>\n",
       "      <td>2019-09-06 21:51:00</td>\n",
       "      <td>102045</td>\n",
       "      <td>checkout</td>\n",
       "      <td>fri</td>\n",
       "      <td>NaN</td>\n",
       "    </tr>\n",
       "  </tbody>\n",
       "</table>\n",
       "</div>"
      ],
      "text/plain": [
       "                timestamp  number  location  day transition\n",
       "53962 2019-09-06 21:49:00  102043     dairy  fri   checkout\n",
       "53963 2019-09-06 21:50:00  102043  checkout  fri     drinks\n",
       "53964 2019-09-06 21:50:00  102044    drinks  fri   checkout\n",
       "53965 2019-09-06 21:51:00  102044  checkout  fri     spices\n",
       "53966 2019-09-06 21:50:00  102045    spices  fri   checkout\n",
       "53967 2019-09-06 21:51:00  102045  checkout  fri        NaN"
      ]
     },
     "execution_count": 33,
     "metadata": {},
     "output_type": "execute_result"
    }
   ],
   "source": [
    "combiweek.tail(6)"
   ]
  },
  {
   "cell_type": "code",
   "execution_count": 34,
   "id": "217b2ccd",
   "metadata": {},
   "outputs": [],
   "source": [
    "combiweek.loc[combiweek['location'] == 'checkout' , 'transition'] = 'checkout'"
   ]
  },
  {
   "cell_type": "code",
   "execution_count": 35,
   "id": "b51e6edd",
   "metadata": {
    "scrolled": true
   },
   "outputs": [
    {
     "data": {
      "text/html": [
       "<div>\n",
       "<style scoped>\n",
       "    .dataframe tbody tr th:only-of-type {\n",
       "        vertical-align: middle;\n",
       "    }\n",
       "\n",
       "    .dataframe tbody tr th {\n",
       "        vertical-align: top;\n",
       "    }\n",
       "\n",
       "    .dataframe thead th {\n",
       "        text-align: right;\n",
       "    }\n",
       "</style>\n",
       "<table border=\"1\" class=\"dataframe\">\n",
       "  <thead>\n",
       "    <tr style=\"text-align: right;\">\n",
       "      <th></th>\n",
       "      <th>timestamp</th>\n",
       "      <th>number</th>\n",
       "      <th>location</th>\n",
       "      <th>day</th>\n",
       "      <th>transition</th>\n",
       "    </tr>\n",
       "  </thead>\n",
       "  <tbody>\n",
       "    <tr>\n",
       "      <th>53962</th>\n",
       "      <td>2019-09-06 21:49:00</td>\n",
       "      <td>102043</td>\n",
       "      <td>dairy</td>\n",
       "      <td>fri</td>\n",
       "      <td>checkout</td>\n",
       "    </tr>\n",
       "    <tr>\n",
       "      <th>53963</th>\n",
       "      <td>2019-09-06 21:50:00</td>\n",
       "      <td>102043</td>\n",
       "      <td>checkout</td>\n",
       "      <td>fri</td>\n",
       "      <td>checkout</td>\n",
       "    </tr>\n",
       "    <tr>\n",
       "      <th>53964</th>\n",
       "      <td>2019-09-06 21:50:00</td>\n",
       "      <td>102044</td>\n",
       "      <td>drinks</td>\n",
       "      <td>fri</td>\n",
       "      <td>checkout</td>\n",
       "    </tr>\n",
       "    <tr>\n",
       "      <th>53965</th>\n",
       "      <td>2019-09-06 21:51:00</td>\n",
       "      <td>102044</td>\n",
       "      <td>checkout</td>\n",
       "      <td>fri</td>\n",
       "      <td>checkout</td>\n",
       "    </tr>\n",
       "    <tr>\n",
       "      <th>53966</th>\n",
       "      <td>2019-09-06 21:50:00</td>\n",
       "      <td>102045</td>\n",
       "      <td>spices</td>\n",
       "      <td>fri</td>\n",
       "      <td>checkout</td>\n",
       "    </tr>\n",
       "    <tr>\n",
       "      <th>53967</th>\n",
       "      <td>2019-09-06 21:51:00</td>\n",
       "      <td>102045</td>\n",
       "      <td>checkout</td>\n",
       "      <td>fri</td>\n",
       "      <td>checkout</td>\n",
       "    </tr>\n",
       "  </tbody>\n",
       "</table>\n",
       "</div>"
      ],
      "text/plain": [
       "                timestamp  number  location  day transition\n",
       "53962 2019-09-06 21:49:00  102043     dairy  fri   checkout\n",
       "53963 2019-09-06 21:50:00  102043  checkout  fri   checkout\n",
       "53964 2019-09-06 21:50:00  102044    drinks  fri   checkout\n",
       "53965 2019-09-06 21:51:00  102044  checkout  fri   checkout\n",
       "53966 2019-09-06 21:50:00  102045    spices  fri   checkout\n",
       "53967 2019-09-06 21:51:00  102045  checkout  fri   checkout"
      ]
     },
     "execution_count": 35,
     "metadata": {},
     "output_type": "execute_result"
    }
   ],
   "source": [
    "combiweek.tail(6)"
   ]
  },
  {
   "cell_type": "code",
   "execution_count": 37,
   "id": "d5c5deec",
   "metadata": {
    "scrolled": true
   },
   "outputs": [
    {
     "data": {
      "text/html": [
       "<div>\n",
       "<style scoped>\n",
       "    .dataframe tbody tr th:only-of-type {\n",
       "        vertical-align: middle;\n",
       "    }\n",
       "\n",
       "    .dataframe tbody tr th {\n",
       "        vertical-align: top;\n",
       "    }\n",
       "\n",
       "    .dataframe thead th {\n",
       "        text-align: right;\n",
       "    }\n",
       "</style>\n",
       "<table border=\"1\" class=\"dataframe\">\n",
       "  <thead>\n",
       "    <tr style=\"text-align: right;\">\n",
       "      <th>transition</th>\n",
       "      <th>checkout</th>\n",
       "      <th>dairy</th>\n",
       "      <th>drinks</th>\n",
       "      <th>fruit</th>\n",
       "      <th>spices</th>\n",
       "    </tr>\n",
       "    <tr>\n",
       "      <th>location</th>\n",
       "      <th></th>\n",
       "      <th></th>\n",
       "      <th></th>\n",
       "      <th></th>\n",
       "      <th></th>\n",
       "    </tr>\n",
       "  </thead>\n",
       "  <tbody>\n",
       "    <tr>\n",
       "      <th>checkout</th>\n",
       "      <td>1.000000</td>\n",
       "      <td>0.000000</td>\n",
       "      <td>0.000000</td>\n",
       "      <td>0.000000</td>\n",
       "      <td>0.000000</td>\n",
       "    </tr>\n",
       "    <tr>\n",
       "      <th>dairy</th>\n",
       "      <td>0.103344</td>\n",
       "      <td>0.737061</td>\n",
       "      <td>0.058500</td>\n",
       "      <td>0.049789</td>\n",
       "      <td>0.051307</td>\n",
       "    </tr>\n",
       "    <tr>\n",
       "      <th>drinks</th>\n",
       "      <td>0.215688</td>\n",
       "      <td>0.010898</td>\n",
       "      <td>0.598540</td>\n",
       "      <td>0.087900</td>\n",
       "      <td>0.086974</td>\n",
       "    </tr>\n",
       "    <tr>\n",
       "      <th>fruit</th>\n",
       "      <td>0.201447</td>\n",
       "      <td>0.095848</td>\n",
       "      <td>0.054804</td>\n",
       "      <td>0.597264</td>\n",
       "      <td>0.050637</td>\n",
       "    </tr>\n",
       "    <tr>\n",
       "      <th>spices</th>\n",
       "      <td>0.150565</td>\n",
       "      <td>0.193061</td>\n",
       "      <td>0.162979</td>\n",
       "      <td>0.090880</td>\n",
       "      <td>0.402515</td>\n",
       "    </tr>\n",
       "  </tbody>\n",
       "</table>\n",
       "</div>"
      ],
      "text/plain": [
       "transition  checkout     dairy    drinks     fruit    spices\n",
       "location                                                    \n",
       "checkout    1.000000  0.000000  0.000000  0.000000  0.000000\n",
       "dairy       0.103344  0.737061  0.058500  0.049789  0.051307\n",
       "drinks      0.215688  0.010898  0.598540  0.087900  0.086974\n",
       "fruit       0.201447  0.095848  0.054804  0.597264  0.050637\n",
       "spices      0.150565  0.193061  0.162979  0.090880  0.402515"
      ]
     },
     "execution_count": 37,
     "metadata": {},
     "output_type": "execute_result"
    }
   ],
   "source": [
    "#pd.crosstab(df['after'], df['before'], normalize=0)\n",
    "Transitionsprobabilities = pd.crosstab(combiweek['location'], combiweek['transition'], normalize=0)\n",
    "Transitionsprobabilities"
   ]
  },
  {
   "cell_type": "code",
   "execution_count": 38,
   "id": "ce08770a",
   "metadata": {},
   "outputs": [
    {
     "data": {
      "text/plain": [
       "7445"
      ]
     },
     "execution_count": 38,
     "metadata": {},
     "output_type": "execute_result"
    }
   ],
   "source": [
    "\n",
    "combiweek.groupby(['number']).first()['location'].count()"
   ]
  },
  {
   "cell_type": "code",
   "execution_count": 39,
   "id": "9d2fb6eb",
   "metadata": {},
   "outputs": [
    {
     "data": {
      "text/plain": [
       "array(['dairy', 'dairy', 'dairy', 'dairy', 'spices', 'spices'],\n",
       "      dtype=object)"
      ]
     },
     "execution_count": 39,
     "metadata": {},
     "output_type": "execute_result"
    }
   ],
   "source": [
    "firsts = combiweek.groupby(['number']).first()['location'].values\n",
    "firsts[0:6]"
   ]
  },
  {
   "cell_type": "code",
   "execution_count": 40,
   "id": "f08797f6",
   "metadata": {},
   "outputs": [
    {
     "name": "stdout",
     "output_type": "stream",
     "text": [
      "7445 2141 1143 2810 1351\n"
     ]
    },
    {
     "data": {
      "text/html": [
       "<div>\n",
       "<style scoped>\n",
       "    .dataframe tbody tr th:only-of-type {\n",
       "        vertical-align: middle;\n",
       "    }\n",
       "\n",
       "    .dataframe tbody tr th {\n",
       "        vertical-align: top;\n",
       "    }\n",
       "\n",
       "    .dataframe thead th {\n",
       "        text-align: right;\n",
       "    }\n",
       "</style>\n",
       "<table border=\"1\" class=\"dataframe\">\n",
       "  <thead>\n",
       "    <tr style=\"text-align: right;\">\n",
       "      <th></th>\n",
       "      <th>dairy</th>\n",
       "      <th>drinks</th>\n",
       "      <th>fruit</th>\n",
       "      <th>spices</th>\n",
       "    </tr>\n",
       "  </thead>\n",
       "  <tbody>\n",
       "    <tr>\n",
       "      <th>0</th>\n",
       "      <td>0.287576</td>\n",
       "      <td>0.153526</td>\n",
       "      <td>0.377435</td>\n",
       "      <td>0.181464</td>\n",
       "    </tr>\n",
       "  </tbody>\n",
       "</table>\n",
       "</div>"
      ],
      "text/plain": [
       "      dairy    drinks     fruit    spices\n",
       "0  0.287576  0.153526  0.377435  0.181464"
      ]
     },
     "execution_count": 40,
     "metadata": {},
     "output_type": "execute_result"
    }
   ],
   "source": [
    "dairy = 0\n",
    "drinks = 0\n",
    "fruit = 0\n",
    "spices = 0\n",
    "x = 0\n",
    "\n",
    "for item in firsts :\n",
    "    #print(item)\n",
    "    x = x + 1\n",
    "    if item == 'dairy':\n",
    "        dairy = dairy + 1\n",
    "        \n",
    "    elif item == 'drinks':\n",
    "        drinks = drinks + 1\n",
    "        \n",
    "    elif item == 'fruit':\n",
    "        fruit = fruit + 1\n",
    "        \n",
    "    elif item == 'spices':\n",
    "        spices = spices + 1\n",
    "    else:\n",
    "        print('something went wrong!!')\n",
    "\n",
    "print(x , dairy , drinks , fruit, spices)\n",
    "startprobability_dict = {'dairy': dairy/x , 'drinks': drinks/x , 'fruit': fruit/x, 'spices': spices/x}\n",
    "startprobabilities = pd.DataFrame([startprobability_dict])\n",
    "startprobabilities"
   ]
  },
  {
   "cell_type": "code",
   "execution_count": 41,
   "id": "2e4e0023",
   "metadata": {
    "scrolled": true
   },
   "outputs": [
    {
     "data": {
      "text/plain": [
       "<AxesSubplot:>"
      ]
     },
     "execution_count": 41,
     "metadata": {},
     "output_type": "execute_result"
    },
    {
     "data": {
      "image/png": "[encoded data removed]",
      "text/plain": [
       "<Figure size 432x288 with 1 Axes>"
      ]
     },
     "metadata": {
      "needs_background": "light"
     },
     "output_type": "display_data"
    }
   ],
   "source": [
    "# the first section customers visit\n",
    "combiweek.groupby(['number']).first()['location'].hist()"
   ]
  },
  {
   "cell_type": "code",
   "execution_count": 42,
   "id": "dc949582",
   "metadata": {
    "scrolled": true
   },
   "outputs": [
    {
     "data": {
      "text/plain": [
       "53"
      ]
     },
     "execution_count": 42,
     "metadata": {},
     "output_type": "execute_result"
    }
   ],
   "source": [
    "maxsmin = combiweek.groupby(['number'])['timestamp'].count().max()\n",
    "maxsmin"
   ]
  },
  {
   "cell_type": "code",
   "execution_count": 43,
   "id": "5e3c1a01",
   "metadata": {},
   "outputs": [
    {
     "data": {
      "text/plain": [
       "<AxesSubplot:>"
      ]
     },
     "execution_count": 43,
     "metadata": {},
     "output_type": "execute_result"
    },
    {
     "data": {
      "image/png": "[encoded data removed]",
      "text/plain": [
       "<Figure size 432x288 with 1 Axes>"
      ]
     },
     "metadata": {
      "needs_background": "light"
     },
     "output_type": "display_data"
    }
   ],
   "source": [
    "# after first minute section customers visit\n",
    "combiweek.groupby(['number']).nth([1,maxsmin])['location'].hist()"
   ]
  },
  {
   "cell_type": "code",
   "execution_count": 44,
   "id": "2bc6b77c",
   "metadata": {},
   "outputs": [],
   "source": [
    "transitions = notfilled.groupby(['customer_no'])['timestamp'].count().max()"
   ]
  },
  {
   "cell_type": "code",
   "execution_count": 45,
   "id": "44cd8cec",
   "metadata": {},
   "outputs": [
    {
     "data": {
      "text/plain": [
       "<AxesSubplot:>"
      ]
     },
     "execution_count": 45,
     "metadata": {},
     "output_type": "execute_result"
    },
    {
     "data": {
      "image/png": "[encoded data removed]",
      "text/plain": [
       "<Figure size 432x288 with 1 Axes>"
      ]
     },
     "metadata": {
      "needs_background": "light"
     },
     "output_type": "display_data"
    }
   ],
   "source": [
    "# the first section customers visit\n",
    "notfilled.groupby(['customer_no']).first()['location'].hist()"
   ]
  },
  {
   "cell_type": "code",
   "execution_count": 46,
   "id": "c0ca4ae4",
   "metadata": {
    "scrolled": true
   },
   "outputs": [
    {
     "data": {
      "text/plain": [
       "<AxesSubplot:>"
      ]
     },
     "execution_count": 46,
     "metadata": {},
     "output_type": "execute_result"
    },
    {
     "data": {
      "image/png": "[encoded data removed]",
      "text/plain": [
       "<Figure size 432x288 with 1 Axes>"
      ]
     },
     "metadata": {
      "needs_background": "light"
     },
     "output_type": "display_data"
    }
   ],
   "source": [
    "# following sections customers visit\n",
    "notfilled.groupby(['customer_no']).nth([1,transitions])['location'].hist()"
   ]
  },
  {
   "cell_type": "code",
   "execution_count": 47,
   "id": "d069917d",
   "metadata": {},
   "outputs": [],
   "source": [
    "states = ['dairy', 'drinks', 'fruit', 'spices']\n",
    "statesin = ['checkout','dairy', 'drinks', 'fruit', 'spices']"
   ]
  },
  {
   "cell_type": "code",
   "execution_count": 48,
   "id": "3de7c61a",
   "metadata": {
    "scrolled": true
   },
   "outputs": [
    {
     "name": "stdout",
     "output_type": "stream",
     "text": [
      "[0.28757555 0.15352586 0.37743452 0.18146407]\n"
     ]
    }
   ],
   "source": [
    "staproo = startprobabilities.to_numpy()\n",
    "stapro = staproo[0]\n",
    "print(stapro)"
   ]
  },
  {
   "cell_type": "code",
   "execution_count": 49,
   "id": "03b75cbd",
   "metadata": {},
   "outputs": [
    {
     "data": {
      "text/plain": [
       "[ID:1 Brent Lang is at dairy with a budget of 26,\n",
       " ID:2 Erika Montoya is at spices with a budget of 69,\n",
       " ID:3 George Macias is at fruit with a budget of 87,\n",
       " ID:4 Ryan Hardy is at dairy with a budget of 53]"
      ]
     },
     "execution_count": 49,
     "metadata": {},
     "output_type": "execute_result"
    }
   ],
   "source": [
    "customerlist = []\n",
    "for i in range(1,5):\n",
    "    state = choices(states, stapro)[0]\n",
    "    money = randint(10, 100)\n",
    "    name = fake.name()\n",
    "    tempcust = Customer(id=i,name =name ,state = state,budget= money)\n",
    "    customerlist.append(tempcust)\n",
    "customerlist\n",
    "                        "
   ]
  },
  {
   "cell_type": "raw",
   "id": "773fef1c",
   "metadata": {},
   "source": [
    "#list(trans_prob['checkout'].values())\n",
    "#list(trans_prob['dairy'].values())\n",
    "list(trans_prob['drinks'].values())\n",
    "#list(trans_prob['fruit'].values())\n",
    "#list(trans_prob['spices'].values())"
   ]
  },
  {
   "cell_type": "code",
   "execution_count": 50,
   "id": "d003a48f",
   "metadata": {},
   "outputs": [],
   "source": [
    "trans_prob = Transitionsprobabilities.T.to_dict()\n",
    "probsformcmc = {'checkout': list(trans_prob['checkout'].values()),\n",
    "                'dairy' : list(trans_prob['dairy'].values()),\n",
    "                'drinks' : list(trans_prob['drinks'].values()),\n",
    "                'fruit' : list(trans_prob['fruit'].values()),\n",
    "                'spices' : list(trans_prob['spices'].values())\n",
    "               }\n",
    "                "
   ]
  },
  {
   "cell_type": "raw",
   "id": "16141f09",
   "metadata": {},
   "source": [
    "probsformcmc = transpro"
   ]
  },
  {
   "cell_type": "code",
   "execution_count": 51,
   "id": "f113b5c8",
   "metadata": {},
   "outputs": [],
   "source": [
    "def markov_chain_super(customer , transprob, states):\n",
    "    minutes = 0\n",
    "    visits = [customer.state]\n",
    "    state = customer.state\n",
    "    while True:\n",
    "        #print(state)\n",
    "        probs = transprob[state]\n",
    "        #print(probs)\n",
    "        state = choices(states, probs)[0]\n",
    "        #print(state)\n",
    "        visits.append((state))\n",
    "        minutes = minutes + 1\n",
    "        if state == 'checkout':\n",
    "            print(f'{customer.name} stayed for {minutes} minutes.')\n",
    "            return print(f'and visited {visits}')"
   ]
  },
  {
   "cell_type": "code",
   "execution_count": 52,
   "id": "6a547363",
   "metadata": {},
   "outputs": [
    {
     "name": "stdout",
     "output_type": "stream",
     "text": [
      "Brent Lang stayed for 1 minutes.\n",
      "and visited ['dairy', 'checkout']\n",
      "Erika Montoya stayed for 12 minutes.\n",
      "and visited ['spices', 'spices', 'fruit', 'spices', 'spices', 'dairy', 'dairy', 'dairy', 'dairy', 'dairy', 'spices', 'spices', 'checkout']\n",
      "George Macias stayed for 1 minutes.\n",
      "and visited ['fruit', 'checkout']\n",
      "Ryan Hardy stayed for 14 minutes.\n",
      "and visited ['dairy', 'dairy', 'dairy', 'dairy', 'dairy', 'dairy', 'dairy', 'dairy', 'dairy', 'dairy', 'dairy', 'dairy', 'dairy', 'drinks', 'checkout']\n"
     ]
    }
   ],
   "source": [
    "for customer in customerlist:\n",
    "    markov_chain_super(customer , probsformcmc, statesin)"
   ]
  },
  {
   "cell_type": "code",
   "execution_count": null,
   "id": "4d8d3f0d",
   "metadata": {},
   "outputs": [],
   "source": []
  },
  {
   "cell_type": "code",
   "execution_count": null,
   "id": "287d2a95",
   "metadata": {},
   "outputs": [],
   "source": []
  },
  {
   "cell_type": "code",
   "execution_count": null,
   "id": "da0df41a",
   "metadata": {},
   "outputs": [],
   "source": []
  },
  {
   "cell_type": "code",
   "execution_count": null,
   "id": "7dbae339",
   "metadata": {},
   "outputs": [],
   "source": []
  },
  {
   "cell_type": "code",
   "execution_count": null,
   "id": "2b6ba190",
   "metadata": {},
   "outputs": [],
   "source": []
  },
  {
   "cell_type": "code",
   "execution_count": null,
   "id": "f44c737d",
   "metadata": {},
   "outputs": [],
   "source": []
  },
  {
   "cell_type": "code",
   "execution_count": null,
   "id": "f2e2eb4f",
   "metadata": {},
   "outputs": [],
   "source": []
  },
  {
   "cell_type": "code",
   "execution_count": null,
   "id": "cd4b16c4",
   "metadata": {},
   "outputs": [],
   "source": []
  },
  {
   "cell_type": "code",
   "execution_count": null,
   "id": "91241800",
   "metadata": {},
   "outputs": [],
   "source": []
  },
  {
   "cell_type": "code",
   "execution_count": null,
   "id": "7b4cab33",
   "metadata": {},
   "outputs": [],
   "source": []
  },
  {
   "cell_type": "code",
   "execution_count": null,
   "id": "75035ea1",
   "metadata": {},
   "outputs": [],
   "source": [
    "liste1 = markov_chain_super(cust01 , probsformcmc, statesin)\n",
    "print(liste1)\n",
    "liste2 = markov_chain_super(cust02 , probsformcmc, statesin)\n",
    "print(liste2)"
   ]
  },
  {
   "cell_type": "code",
   "execution_count": null,
   "id": "78bce305",
   "metadata": {},
   "outputs": [],
   "source": [
    "state = cust01.state[0]\n",
    "state"
   ]
  },
  {
   "cell_type": "code",
   "execution_count": null,
   "id": "07df8d0a",
   "metadata": {},
   "outputs": [],
   "source": []
  }
 ],
 "metadata": {
  "kernelspec": {
   "display_name": "Python 3 (ipykernel)",
   "language": "python",
   "name": "python3"
  },
  "language_info": {
   "codemirror_mode": {
    "name": "ipython",
    "version": 3
   },
   "file_extension": ".py",
   "mimetype": "text/x-python",
   "name": "python",
   "nbconvert_exporter": "python",
   "pygments_lexer": "ipython3",
   "version": "3.9.12"
  }
 },
 "nbformat": 4,
 "nbformat_minor": 5
}
