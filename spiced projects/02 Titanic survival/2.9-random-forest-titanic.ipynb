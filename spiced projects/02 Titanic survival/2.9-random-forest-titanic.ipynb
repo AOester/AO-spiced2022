{
 "cells": [
  {
   "cell_type": "code",
   "execution_count": 2,
   "id": "b1ac176a",
   "metadata": {},
   "outputs": [],
   "source": [
    "import numpy as np\n",
    "import pandas as pd\n",
    "import seaborn as sns\n",
    "from matplotlib import pyplot as plt\n",
    "\n",
    "from sklearn.linear_model import LogisticRegression\n",
    "from sklearn.model_selection import train_test_split , cross_val_score\n",
    "from sklearn.tree import DecisionTreeClassifier, plot_tree\n",
    "from sklearn.ensemble import RandomForestClassifier\n",
    "from sklearn.metrics import accuracy_score\n",
    "from sklearn.impute import SimpleImputer\n",
    "from sklearn.preprocessing import StandardScaler, MinMaxScaler, RobustScaler, OneHotEncoder, KBinsDiscretizer"
   ]
  },
  {
   "cell_type": "code",
   "execution_count": 3,
   "id": "6e2682a2",
   "metadata": {},
   "outputs": [],
   "source": [
    "fulldata = pd.read_csv('data/titanic.csv')"
   ]
  },
  {
   "cell_type": "code",
   "execution_count": 4,
   "id": "aeaa812b",
   "metadata": {},
   "outputs": [
    {
     "data": {
      "text/plain": [
       "Index(['PassengerId', 'Survived', 'Pclass', 'Name', 'Sex', 'Age', 'SibSp',\n",
       "       'Parch', 'Ticket', 'Fare', 'Cabin', 'Embarked'],\n",
       "      dtype='object')"
      ]
     },
     "execution_count": 4,
     "metadata": {},
     "output_type": "execute_result"
    }
   ],
   "source": [
    "fulldata.columns"
   ]
  },
  {
   "cell_type": "code",
   "execution_count": 5,
   "id": "49428a7e",
   "metadata": {},
   "outputs": [],
   "source": [
    "X = fulldata.drop(['Survived'],axis=1)\n",
    "\n",
    "y = fulldata['Survived']"
   ]
  },
  {
   "cell_type": "code",
   "execution_count": 6,
   "id": "6eba2032",
   "metadata": {},
   "outputs": [],
   "source": [
    "X_train, X_test, y_train, y_test = train_test_split(X , y, test_size=0.25)"
   ]
  },
  {
   "cell_type": "code",
   "execution_count": 7,
   "id": "a3764065",
   "metadata": {},
   "outputs": [],
   "source": [
    "X_trainrest = X_train.reset_index()\n",
    "X_testrest = X_test.reset_index()"
   ]
  },
  {
   "cell_type": "code",
   "execution_count": 8,
   "id": "b03976f3",
   "metadata": {},
   "outputs": [],
   "source": [
    "# Step 7 Replace missing age values by the mean age.\n",
    "imputer = SimpleImputer()\n",
    "\n",
    "X_trainage = imputer.fit_transform(X_trainrest[['Age']])\n",
    "X_trainage = pd.DataFrame(X_trainage)\n",
    "\n",
    "X_testage = imputer.transform(X_testrest[['Age']])\n",
    "X_testage = pd.DataFrame(X_testage)"
   ]
  },
  {
   "cell_type": "code",
   "execution_count": 9,
   "id": "b3a92adb",
   "metadata": {},
   "outputs": [],
   "source": [
    "imputer_most = SimpleImputer(strategy='most_frequent')\n",
    "\n",
    "X_trainclass = imputer_most.fit_transform(X_trainrest[['Embarked']])\n",
    "X_trainclass = pd.DataFrame(X_trainclass)\n",
    "\n",
    "X_testclass = imputer_most.fit_transform(X_testrest[['Embarked']])\n",
    "X_testclass = pd.DataFrame(X_testclass)"
   ]
  },
  {
   "cell_type": "code",
   "execution_count": 10,
   "id": "6d61cb46",
   "metadata": {},
   "outputs": [],
   "source": [
    "X_trainf = pd.concat([X_trainrest,X_trainage],axis=1)\n",
    "\n",
    "X_testf = pd.concat([X_testrest,X_testage],axis=1)"
   ]
  },
  {
   "cell_type": "code",
   "execution_count": 11,
   "id": "6929d82e",
   "metadata": {},
   "outputs": [],
   "source": [
    "X_train_fd = X_trainf.drop(['index','PassengerId','Name','Age','SibSp','Parch','Ticket','Fare','Embarked'],axis=1,)\n",
    "\n",
    "X_test_fd = X_testf.drop(['index','PassengerId','Name','Age','SibSp','Parch','Ticket','Fare','Embarked'],axis=1,)\n",
    "#x_train_fd"
   ]
  },
  {
   "cell_type": "code",
   "execution_count": 12,
   "id": "340e059e",
   "metadata": {},
   "outputs": [],
   "source": [
    "X_train_fd = X_train_fd.rename({0:'Age'},axis =1)\n",
    "\n",
    "X_test_fd = X_test_fd.rename({0:'Age'},axis =1)\n",
    "\n",
    "#x_train_fd"
   ]
  },
  {
   "cell_type": "code",
   "execution_count": 13,
   "id": "e24f3b4b",
   "metadata": {},
   "outputs": [],
   "source": [
    "X_trainf = pd.concat([X_train_fd,X_trainclass],axis=1)\n",
    "\n",
    "X_testf = pd.concat([X_test_fd,X_testclass],axis=1)"
   ]
  },
  {
   "cell_type": "code",
   "execution_count": 14,
   "id": "b9dc9258",
   "metadata": {},
   "outputs": [],
   "source": [
    "X_train_fd = X_trainf.rename({0:'Embarked'},axis =1)\n",
    "X_test_fd = X_testf.rename({0:'Embarked'}, axis =1)"
   ]
  },
  {
   "cell_type": "code",
   "execution_count": 19,
   "id": "35718f21",
   "metadata": {},
   "outputs": [],
   "source": [
    "ohe = OneHotEncoder(sparse=False, drop='first')\n",
    "imputer_most = SimpleImputer(strategy='most_frequent')\n",
    "kbins = KBinsDiscretizer(n_bins=4, encode='onehot-dense', strategy='quantile')"
   ]
  },
  {
   "cell_type": "code",
   "execution_count": 16,
   "id": "3bfc348a",
   "metadata": {},
   "outputs": [],
   "source": [
    "ohe_Xtrain_sex = ohe.fit_transform(X_train_fd[['Sex']])\n",
    "ohe_Xtest_sex = ohe.transform(X_test_fd[['Sex']])"
   ]
  },
  {
   "cell_type": "code",
   "execution_count": 17,
   "id": "6fcce087",
   "metadata": {},
   "outputs": [],
   "source": [
    "ohe_df_sex = pd.DataFrame(ohe_Xtrain_sex, columns=ohe.get_feature_names_out())\n",
    "ohe_df_sex_test = pd.DataFrame(ohe_Xtest_sex, columns=ohe.get_feature_names_out())"
   ]
  },
  {
   "cell_type": "code",
   "execution_count": 18,
   "id": "fbcb81ab",
   "metadata": {},
   "outputs": [],
   "source": [
    "ohe_Xtrain_pc = ohe.fit_transform(X_train_fd[['Pclass']])\n",
    "ohe_Xtest_pc = ohe.fit_transform(X_test_fd[['Pclass']])\n",
    "\n",
    "ohe_df_pc = pd.DataFrame(ohe_Xtrain_pc, columns=ohe.get_feature_names_out())\n",
    "ohe_df_pc_test = pd.DataFrame(ohe_Xtest_pc, columns=ohe.get_feature_names_out())"
   ]
  },
  {
   "cell_type": "code",
   "execution_count": 20,
   "id": "9830b70e",
   "metadata": {},
   "outputs": [],
   "source": [
    "ohe_Xtrain_em = ohe.fit_transform(X_train_fd[['Embarked']])\n",
    "ohe_Xtest_em = ohe.fit_transform(X_test_fd[['Embarked']])\n",
    "\n",
    "ohe_df_em = pd.DataFrame(ohe_Xtrain_em, columns=ohe.get_feature_names_out())\n",
    "ohe_df_em_test = pd.DataFrame(ohe_Xtest_em, columns=ohe.get_feature_names_out())"
   ]
  },
  {
   "cell_type": "code",
   "execution_count": 21,
   "id": "393fdfe5",
   "metadata": {},
   "outputs": [],
   "source": [
    "imputed_df_train=pd.DataFrame(X_train_fd, columns=['Age'])\n",
    "imputed_df_test=pd.DataFrame(X_test_fd, columns=['Age'])"
   ]
  },
  {
   "cell_type": "code",
   "execution_count": 22,
   "id": "118150cb",
   "metadata": {},
   "outputs": [],
   "source": [
    "binned_Xtrain = kbins.fit_transform(imputed_df_train[['Age']])\n",
    "binned_Xtest = kbins.transform(imputed_df_test[['Age']])"
   ]
  },
  {
   "cell_type": "code",
   "execution_count": 23,
   "id": "776a07fa",
   "metadata": {},
   "outputs": [],
   "source": [
    "# BONUS: create nice labels\n",
    "edges = kbins.bin_edges_[0].round(1)\n",
    "labels = []\n",
    "for i in range(len(edges)-1):\n",
    "    edge1 = edges[i]\n",
    "    edge2 = edges[i+1]\n",
    "    labels.append(f\"{edge1}_to_{edge2}\")\n",
    "\n",
    "# create a DataFrame\n",
    "df_bins_train = pd.DataFrame(binned_Xtrain, columns=labels)\n",
    "df_bins_test = pd.DataFrame(binned_Xtest, columns=labels)"
   ]
  },
  {
   "cell_type": "code",
   "execution_count": 24,
   "id": "0e7678ea",
   "metadata": {},
   "outputs": [],
   "source": [
    "Xtrain_fe = pd.concat([df_bins_train , ohe_df_sex , ohe_df_pc , ohe_df_em], axis=1)\n",
    "Xtest_fe = pd.concat([df_bins_test , ohe_df_sex_test , ohe_df_pc_test , ohe_df_em_test], axis=1)"
   ]
  },
  {
   "cell_type": "code",
   "execution_count": 25,
   "id": "59a70a75",
   "metadata": {},
   "outputs": [],
   "source": [
    "model = RandomForestClassifier(n_estimators=100, max_depth=4, max_features=1)"
   ]
  },
  {
   "cell_type": "code",
   "execution_count": 26,
   "id": "a033a10e",
   "metadata": {},
   "outputs": [
    {
     "data": {
      "text/plain": [
       "RandomForestClassifier(max_depth=4, max_features=1)"
      ]
     },
     "execution_count": 26,
     "metadata": {},
     "output_type": "execute_result"
    }
   ],
   "source": [
    "model.fit(Xtrain_fe,y_train)"
   ]
  },
  {
   "cell_type": "code",
   "execution_count": 27,
   "id": "c8f77064",
   "metadata": {},
   "outputs": [
    {
     "data": {
      "text/plain": [
       "0.7949101796407185"
      ]
     },
     "execution_count": 27,
     "metadata": {},
     "output_type": "execute_result"
    }
   ],
   "source": [
    "model.score(Xtrain_fe,y_train)"
   ]
  },
  {
   "cell_type": "code",
   "execution_count": 28,
   "id": "dd27f60c",
   "metadata": {},
   "outputs": [
    {
     "data": {
      "text/plain": [
       "0.8699551569506726"
      ]
     },
     "execution_count": 28,
     "metadata": {},
     "output_type": "execute_result"
    }
   ],
   "source": [
    "model.score(Xtest_fe, y_test)"
   ]
  },
  {
   "cell_type": "code",
   "execution_count": null,
   "id": "02afe3a1",
   "metadata": {},
   "outputs": [],
   "source": []
  },
  {
   "cell_type": "code",
   "execution_count": null,
   "id": "f4d4fb04",
   "metadata": {},
   "outputs": [],
   "source": []
  }
 ],
 "metadata": {
  "kernelspec": {
   "display_name": "Python 3 (ipykernel)",
   "language": "python",
   "name": "python3"
  },
  "language_info": {
   "codemirror_mode": {
    "name": "ipython",
    "version": 3
   },
   "file_extension": ".py",
   "mimetype": "text/x-python",
   "name": "python",
   "nbconvert_exporter": "python",
   "pygments_lexer": "ipython3",
   "version": "3.9.7"
  }
 },
 "nbformat": 4,
 "nbformat_minor": 5
}
