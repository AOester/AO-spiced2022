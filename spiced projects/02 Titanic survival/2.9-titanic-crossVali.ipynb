{
 "cells": [
  {
   "cell_type": "code",
   "execution_count": 1,
   "id": "b1ac176a",
   "metadata": {},
   "outputs": [],
   "source": [
    "import numpy as np\n",
    "import pandas as pd\n",
    "import seaborn as sns\n",
    "from matplotlib import pyplot as plt\n",
    "\n",
    "from sklearn.linear_model import LogisticRegression\n",
    "from sklearn.model_selection import train_test_split , cross_val_score\n",
    "from sklearn.tree import DecisionTreeClassifier, plot_tree\n",
    "from sklearn.ensemble import RandomForestClassifier\n",
    "from sklearn.metrics import accuracy_score\n",
    "from sklearn.impute import SimpleImputer\n",
    "from sklearn.preprocessing import StandardScaler, MinMaxScaler, RobustScaler, OneHotEncoder, KBinsDiscretizer"
   ]
  },
  {
   "cell_type": "code",
   "execution_count": 2,
   "id": "6e2682a2",
   "metadata": {},
   "outputs": [],
   "source": [
    "fulldata = pd.read_csv('data/titanic.csv')"
   ]
  },
  {
   "cell_type": "code",
   "execution_count": 3,
   "id": "aeaa812b",
   "metadata": {},
   "outputs": [
    {
     "data": {
      "text/plain": [
       "Index(['PassengerId', 'Survived', 'Pclass', 'Name', 'Sex', 'Age', 'SibSp',\n",
       "       'Parch', 'Ticket', 'Fare', 'Cabin', 'Embarked'],\n",
       "      dtype='object')"
      ]
     },
     "execution_count": 3,
     "metadata": {},
     "output_type": "execute_result"
    }
   ],
   "source": [
    "fulldata.columns"
   ]
  },
  {
   "cell_type": "code",
   "execution_count": 4,
   "id": "c3e15ba4",
   "metadata": {},
   "outputs": [],
   "source": [
    "X = fulldata.drop(['Survived'],axis=1)\n",
    "\n",
    "y = fulldata['Survived']"
   ]
  },
  {
   "cell_type": "code",
   "execution_count": 5,
   "id": "ff4420db",
   "metadata": {},
   "outputs": [],
   "source": [
    "X_train, X_test, y_train, y_test = train_test_split(X , y, test_size=0.25)"
   ]
  },
  {
   "cell_type": "code",
   "execution_count": 6,
   "id": "a70d023f",
   "metadata": {},
   "outputs": [],
   "source": [
    "X_trainrest = X_train.reset_index()\n",
    "X_testrest = X_test.reset_index()"
   ]
  },
  {
   "cell_type": "code",
   "execution_count": 7,
   "id": "6ed3c283",
   "metadata": {},
   "outputs": [],
   "source": [
    "# Step 7 Replace missing age values by the mean age.\n",
    "imputer = SimpleImputer()\n",
    "\n",
    "X_trainage = imputer.fit_transform(X_trainrest[['Age']])\n",
    "X_trainage = pd.DataFrame(X_trainage)\n",
    "\n",
    "X_testage = imputer.transform(X_testrest[['Age']])\n",
    "X_testage = pd.DataFrame(X_testage)"
   ]
  },
  {
   "cell_type": "code",
   "execution_count": 8,
   "id": "66ee373e",
   "metadata": {},
   "outputs": [],
   "source": [
    "imputer_most = SimpleImputer(strategy='most_frequent')\n",
    "\n",
    "X_trainclass = imputer_most.fit_transform(X_trainrest[['Embarked']])\n",
    "X_trainclass = pd.DataFrame(X_trainclass)\n",
    "\n",
    "X_testclass = imputer_most.fit_transform(X_testrest[['Embarked']])\n",
    "X_testclass = pd.DataFrame(X_testclass)"
   ]
  },
  {
   "cell_type": "code",
   "execution_count": 9,
   "id": "422797f9",
   "metadata": {},
   "outputs": [],
   "source": [
    "X_trainf = pd.concat([X_trainrest,X_trainage],axis=1)\n",
    "\n",
    "X_testf = pd.concat([X_testrest,X_testage],axis=1)"
   ]
  },
  {
   "cell_type": "code",
   "execution_count": 10,
   "id": "e0081094",
   "metadata": {},
   "outputs": [],
   "source": [
    "X_train_fd = X_trainf.drop(['index','PassengerId','Name','Age','SibSp','Parch','Ticket','Fare','Embarked'],axis=1,)\n",
    "\n",
    "X_test_fd = X_testf.drop(['index','PassengerId','Name','Age','SibSp','Parch','Ticket','Fare','Embarked'],axis=1,)\n",
    "#x_train_fd"
   ]
  },
  {
   "cell_type": "code",
   "execution_count": 11,
   "id": "3fe48750",
   "metadata": {},
   "outputs": [],
   "source": [
    "X_train_fd = X_train_fd.rename({0:'Age'},axis =1)\n",
    "\n",
    "X_test_fd = X_test_fd.rename({0:'Age'},axis =1)\n",
    "\n",
    "#x_train_fd"
   ]
  },
  {
   "cell_type": "code",
   "execution_count": 12,
   "id": "c9d1c240",
   "metadata": {},
   "outputs": [],
   "source": [
    "X_trainf = pd.concat([X_train_fd,X_trainclass],axis=1)\n",
    "\n",
    "X_testf = pd.concat([X_test_fd,X_testclass],axis=1)"
   ]
  },
  {
   "cell_type": "code",
   "execution_count": 13,
   "id": "8f80b080",
   "metadata": {},
   "outputs": [],
   "source": [
    "X_train_fd = X_trainf.rename({0:'Embarked'},axis =1)\n",
    "X_test_fd = X_testf.rename({0:'Embarked'}, axis =1)"
   ]
  },
  {
   "cell_type": "code",
   "execution_count": 14,
   "id": "e03e77ac",
   "metadata": {},
   "outputs": [],
   "source": [
    "ohe = OneHotEncoder(sparse=False, drop='first')\n",
    "kbins = KBinsDiscretizer(n_bins=4, encode='onehot-dense', strategy='quantile')"
   ]
  },
  {
   "cell_type": "code",
   "execution_count": 15,
   "id": "2cd323b7",
   "metadata": {},
   "outputs": [],
   "source": [
    "ohe_Xtrain_sex = ohe.fit_transform(X_train_fd[['Sex']])\n",
    "ohe_Xtest_sex = ohe.transform(X_test_fd[['Sex']])"
   ]
  },
  {
   "cell_type": "code",
   "execution_count": 16,
   "id": "583226cb",
   "metadata": {},
   "outputs": [],
   "source": [
    "ohe_df_sex = pd.DataFrame(ohe_Xtrain_sex, columns=ohe.get_feature_names_out())\n",
    "ohe_df_sex_test = pd.DataFrame(ohe_Xtest_sex, columns=ohe.get_feature_names_out())"
   ]
  },
  {
   "cell_type": "code",
   "execution_count": 17,
   "id": "b864845d",
   "metadata": {},
   "outputs": [],
   "source": [
    "ohe_Xtrain_pc = ohe.fit_transform(X_train_fd[['Pclass']])\n",
    "ohe_Xtest_pc = ohe.fit_transform(X_test_fd[['Pclass']])\n",
    "\n",
    "ohe_df_pc = pd.DataFrame(ohe_Xtrain_pc, columns=ohe.get_feature_names_out())\n",
    "ohe_df_pc_test = pd.DataFrame(ohe_Xtest_pc, columns=ohe.get_feature_names_out())"
   ]
  },
  {
   "cell_type": "code",
   "execution_count": 18,
   "id": "4c406819",
   "metadata": {},
   "outputs": [],
   "source": [
    "ohe_Xtrain_em = ohe.fit_transform(X_train_fd[['Embarked']])\n",
    "ohe_Xtest_em = ohe.fit_transform(X_test_fd[['Embarked']])\n",
    "\n",
    "ohe_df_em = pd.DataFrame(ohe_Xtrain_em, columns=ohe.get_feature_names_out())\n",
    "ohe_df_em_test = pd.DataFrame(ohe_Xtest_em, columns=ohe.get_feature_names_out())"
   ]
  },
  {
   "cell_type": "code",
   "execution_count": 19,
   "id": "05ffa818",
   "metadata": {},
   "outputs": [],
   "source": [
    "imputed_df_train=pd.DataFrame(X_train_fd, columns=['Age'])\n",
    "imputed_df_test=pd.DataFrame(X_test_fd, columns=['Age'])"
   ]
  },
  {
   "cell_type": "code",
   "execution_count": 20,
   "id": "4cb5c994",
   "metadata": {},
   "outputs": [],
   "source": [
    "binned_Xtrain = kbins.fit_transform(imputed_df_train[['Age']])\n",
    "binned_Xtest = kbins.transform(imputed_df_test[['Age']])"
   ]
  },
  {
   "cell_type": "code",
   "execution_count": 21,
   "id": "38723cd6",
   "metadata": {},
   "outputs": [],
   "source": [
    "# BONUS: create nice labels\n",
    "edges = kbins.bin_edges_[0].round(1)\n",
    "labels = []\n",
    "for i in range(len(edges)-1):\n",
    "    edge1 = edges[i]\n",
    "    edge2 = edges[i+1]\n",
    "    labels.append(f\"{edge1}_to_{edge2}\")\n",
    "\n",
    "# create a DataFrame\n",
    "df_bins_train = pd.DataFrame(binned_Xtrain, columns=labels)\n",
    "df_bins_test = pd.DataFrame(binned_Xtest, columns=labels)"
   ]
  },
  {
   "cell_type": "code",
   "execution_count": 22,
   "id": "36c8368a",
   "metadata": {},
   "outputs": [],
   "source": [
    "Xtrain_fe=pd.concat([df_bins_train , ohe_df_sex , ohe_df_pc , ohe_df_em], axis=1)"
   ]
  },
  {
   "cell_type": "code",
   "execution_count": 23,
   "id": "4bcfa752",
   "metadata": {},
   "outputs": [],
   "source": [
    "m = LogisticRegression()"
   ]
  },
  {
   "cell_type": "code",
   "execution_count": 24,
   "id": "fecb7d9f",
   "metadata": {},
   "outputs": [
    {
     "data": {
      "text/plain": [
       "array([0.754, 0.799, 0.716, 0.835, 0.827])"
      ]
     },
     "execution_count": 24,
     "metadata": {},
     "output_type": "execute_result"
    }
   ],
   "source": [
    "scores = cross_val_score(m, Xtrain_fe, y_train, cv=5)\n",
    "scores.round(3) "
   ]
  },
  {
   "cell_type": "code",
   "execution_count": 25,
   "id": "6bc09a59",
   "metadata": {},
   "outputs": [
    {
     "data": {
      "text/plain": [
       "'Mean cross-validation score:  0.786'"
      ]
     },
     "execution_count": 25,
     "metadata": {},
     "output_type": "execute_result"
    }
   ],
   "source": [
    "f\"Mean cross-validation score: {scores.mean(): 5.3f}\""
   ]
  },
  {
   "cell_type": "code",
   "execution_count": 26,
   "id": "4969cf64",
   "metadata": {},
   "outputs": [
    {
     "data": {
      "text/plain": [
       "<matplotlib.legend.Legend at 0x1ad0e68e5e0>"
      ]
     },
     "execution_count": 26,
     "metadata": {},
     "output_type": "execute_result"
    },
    {
     "data": {
      "image/png": "[encoded data removed]",
      "text/plain": [
       "<Figure size 432x288 with 1 Axes>"
      ]
     },
     "metadata": {
      "needs_background": "light"
     },
     "output_type": "display_data"
    }
   ],
   "source": [
    "plt.hist(scores, bins=5) \n",
    "# We can plot some vertical lines to mark a constant value on our plot\n",
    "\n",
    "# A vertical line at the mean of our CV scores\n",
    "plt.axvline(scores.mean(), color='k', linestyle='dashed', linewidth=1, label='mean of cross validation scores')\n",
    "\n",
    "# A vertical line at the initial model training score\n",
    "# plt.axvline(score, color='r', linestyle='dashed', linewidth=1, label='initial model score')\n",
    "\n",
    "plt.legend()"
   ]
  },
  {
   "cell_type": "code",
   "execution_count": null,
   "id": "efa5b108",
   "metadata": {},
   "outputs": [],
   "source": []
  }
 ],
 "metadata": {
  "kernelspec": {
   "display_name": "Python 3 (ipykernel)",
   "language": "python",
   "name": "python3"
  },
  "language_info": {
   "codemirror_mode": {
    "name": "ipython",
    "version": 3
   },
   "file_extension": ".py",
   "mimetype": "text/x-python",
   "name": "python",
   "nbconvert_exporter": "python",
   "pygments_lexer": "ipython3",
   "version": "3.9.7"
  }
 },
 "nbformat": 4,
 "nbformat_minor": 5
}
