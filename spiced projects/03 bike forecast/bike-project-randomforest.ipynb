{
 "cells": [
  {
   "cell_type": "code",
   "execution_count": 1,
   "id": "d0c2c2c1",
   "metadata": {},
   "outputs": [],
   "source": [
    "import pandas as pd\n",
    "import numpy as np\n",
    "import matplotlib.pyplot as plt\n",
    "import seaborn as sns\n",
    "sns.set(rc={'figure.figsize':(11.7,8.27)})\n",
    "sns.set_style(\"whitegrid\")\n",
    "\n",
    "\n",
    "from sklearn.model_selection import train_test_split\n",
    "from sklearn.preprocessing import StandardScaler, MinMaxScaler, RobustScaler, OneHotEncoder, KBinsDiscretizer, PolynomialFeatures\n",
    "from sklearn.compose import ColumnTransformer\n",
    "from sklearn.impute import SimpleImputer\n",
    "from sklearn.linear_model import LinearRegression, Ridge, Lasso, ElasticNet, LogisticRegression\n",
    "from sklearn.model_selection import train_test_split, GridSearchCV\n",
    "from sklearn import metrics\n",
    "from sklearn.pipeline import make_pipeline\n",
    "from sklearn.metrics import mean_squared_error , r2_score\n",
    "from sklearn.ensemble import RandomForestRegressor\n",
    "\n",
    "ohe = OneHotEncoder(sparse=False, drop='first')"
   ]
  },
  {
   "cell_type": "code",
   "execution_count": 2,
   "id": "1619f545",
   "metadata": {},
   "outputs": [],
   "source": [
    "train = pd.read_csv('DateTimePandas/bike_train.csv')"
   ]
  },
  {
   "cell_type": "code",
   "execution_count": null,
   "id": "7b119d5f",
   "metadata": {},
   "outputs": [],
   "source": [
    "train.sample(5)"
   ]
  },
  {
   "cell_type": "code",
   "execution_count": null,
   "id": "52623893",
   "metadata": {},
   "outputs": [],
   "source": [
    "train.head()"
   ]
  },
  {
   "cell_type": "code",
   "execution_count": null,
   "id": "a0c3220f",
   "metadata": {},
   "outputs": [],
   "source": [
    "train.info()"
   ]
  },
  {
   "cell_type": "code",
   "execution_count": 3,
   "id": "d27ba593",
   "metadata": {},
   "outputs": [],
   "source": [
    "train['datetime'] = pd.to_datetime(train['datetime'])\n"
   ]
  },
  {
   "cell_type": "code",
   "execution_count": 4,
   "id": "95211596",
   "metadata": {},
   "outputs": [
    {
     "data": {
      "text/html": [
       "<div>\n",
       "<style scoped>\n",
       "    .dataframe tbody tr th:only-of-type {\n",
       "        vertical-align: middle;\n",
       "    }\n",
       "\n",
       "    .dataframe tbody tr th {\n",
       "        vertical-align: top;\n",
       "    }\n",
       "\n",
       "    .dataframe thead th {\n",
       "        text-align: right;\n",
       "    }\n",
       "</style>\n",
       "<table border=\"1\" class=\"dataframe\">\n",
       "  <thead>\n",
       "    <tr style=\"text-align: right;\">\n",
       "      <th></th>\n",
       "      <th>datetime</th>\n",
       "      <th>season</th>\n",
       "      <th>holiday</th>\n",
       "      <th>workingday</th>\n",
       "      <th>weather</th>\n",
       "      <th>temp</th>\n",
       "      <th>atemp</th>\n",
       "      <th>humidity</th>\n",
       "      <th>windspeed</th>\n",
       "      <th>casual</th>\n",
       "      <th>registered</th>\n",
       "      <th>count</th>\n",
       "      <th>datehour</th>\n",
       "      <th>weekday</th>\n",
       "      <th>month</th>\n",
       "      <th>year</th>\n",
       "    </tr>\n",
       "  </thead>\n",
       "  <tbody>\n",
       "    <tr>\n",
       "      <th>0</th>\n",
       "      <td>2011-01-01 00:00:00</td>\n",
       "      <td>1</td>\n",
       "      <td>0</td>\n",
       "      <td>0</td>\n",
       "      <td>1</td>\n",
       "      <td>9.84</td>\n",
       "      <td>14.395</td>\n",
       "      <td>81</td>\n",
       "      <td>0.0</td>\n",
       "      <td>3</td>\n",
       "      <td>13</td>\n",
       "      <td>16</td>\n",
       "      <td>0</td>\n",
       "      <td>5</td>\n",
       "      <td>1</td>\n",
       "      <td>2011</td>\n",
       "    </tr>\n",
       "    <tr>\n",
       "      <th>1</th>\n",
       "      <td>2011-01-01 01:00:00</td>\n",
       "      <td>1</td>\n",
       "      <td>0</td>\n",
       "      <td>0</td>\n",
       "      <td>1</td>\n",
       "      <td>9.02</td>\n",
       "      <td>13.635</td>\n",
       "      <td>80</td>\n",
       "      <td>0.0</td>\n",
       "      <td>8</td>\n",
       "      <td>32</td>\n",
       "      <td>40</td>\n",
       "      <td>1</td>\n",
       "      <td>5</td>\n",
       "      <td>1</td>\n",
       "      <td>2011</td>\n",
       "    </tr>\n",
       "    <tr>\n",
       "      <th>2</th>\n",
       "      <td>2011-01-01 02:00:00</td>\n",
       "      <td>1</td>\n",
       "      <td>0</td>\n",
       "      <td>0</td>\n",
       "      <td>1</td>\n",
       "      <td>9.02</td>\n",
       "      <td>13.635</td>\n",
       "      <td>80</td>\n",
       "      <td>0.0</td>\n",
       "      <td>5</td>\n",
       "      <td>27</td>\n",
       "      <td>32</td>\n",
       "      <td>2</td>\n",
       "      <td>5</td>\n",
       "      <td>1</td>\n",
       "      <td>2011</td>\n",
       "    </tr>\n",
       "    <tr>\n",
       "      <th>3</th>\n",
       "      <td>2011-01-01 03:00:00</td>\n",
       "      <td>1</td>\n",
       "      <td>0</td>\n",
       "      <td>0</td>\n",
       "      <td>1</td>\n",
       "      <td>9.84</td>\n",
       "      <td>14.395</td>\n",
       "      <td>75</td>\n",
       "      <td>0.0</td>\n",
       "      <td>3</td>\n",
       "      <td>10</td>\n",
       "      <td>13</td>\n",
       "      <td>3</td>\n",
       "      <td>5</td>\n",
       "      <td>1</td>\n",
       "      <td>2011</td>\n",
       "    </tr>\n",
       "    <tr>\n",
       "      <th>4</th>\n",
       "      <td>2011-01-01 04:00:00</td>\n",
       "      <td>1</td>\n",
       "      <td>0</td>\n",
       "      <td>0</td>\n",
       "      <td>1</td>\n",
       "      <td>9.84</td>\n",
       "      <td>14.395</td>\n",
       "      <td>75</td>\n",
       "      <td>0.0</td>\n",
       "      <td>0</td>\n",
       "      <td>1</td>\n",
       "      <td>1</td>\n",
       "      <td>4</td>\n",
       "      <td>5</td>\n",
       "      <td>1</td>\n",
       "      <td>2011</td>\n",
       "    </tr>\n",
       "  </tbody>\n",
       "</table>\n",
       "</div>"
      ],
      "text/plain": [
       "             datetime  season  holiday  workingday  weather  temp   atemp  \\\n",
       "0 2011-01-01 00:00:00       1        0           0        1  9.84  14.395   \n",
       "1 2011-01-01 01:00:00       1        0           0        1  9.02  13.635   \n",
       "2 2011-01-01 02:00:00       1        0           0        1  9.02  13.635   \n",
       "3 2011-01-01 03:00:00       1        0           0        1  9.84  14.395   \n",
       "4 2011-01-01 04:00:00       1        0           0        1  9.84  14.395   \n",
       "\n",
       "   humidity  windspeed  casual  registered  count  datehour  weekday  month  \\\n",
       "0        81        0.0       3          13     16         0        5      1   \n",
       "1        80        0.0       8          32     40         1        5      1   \n",
       "2        80        0.0       5          27     32         2        5      1   \n",
       "3        75        0.0       3          10     13         3        5      1   \n",
       "4        75        0.0       0           1      1         4        5      1   \n",
       "\n",
       "   year  \n",
       "0  2011  \n",
       "1  2011  \n",
       "2  2011  \n",
       "3  2011  \n",
       "4  2011  "
      ]
     },
     "execution_count": 4,
     "metadata": {},
     "output_type": "execute_result"
    }
   ],
   "source": [
    "train['datehour'] = train['datetime'].dt.hour\n",
    "train['weekday'] = train['datetime'].dt.dayofweek\n",
    "train['month'] = train['datetime'].dt.month\n",
    "train['year'] = train['datetime'].dt.year\n",
    "train.head()"
   ]
  },
  {
   "cell_type": "code",
   "execution_count": null,
   "id": "b9cc1c62",
   "metadata": {},
   "outputs": [],
   "source": [
    "train['workingday'].unique()"
   ]
  },
  {
   "cell_type": "code",
   "execution_count": null,
   "id": "d34bff56",
   "metadata": {},
   "outputs": [],
   "source": [
    "train['workingday'].value_counts()"
   ]
  },
  {
   "cell_type": "code",
   "execution_count": null,
   "id": "66e682eb",
   "metadata": {},
   "outputs": [],
   "source": [
    "#sns.heatmap(train.corr(),annot=True)"
   ]
  },
  {
   "cell_type": "raw",
   "id": "ce07d279",
   "metadata": {},
   "source": [
    "#pd.plotting.scatter_matrix(train, alpha=0.2)\n",
    "\n",
    "sns.pairplot(data=train, hue='season' )"
   ]
  },
  {
   "cell_type": "code",
   "execution_count": 5,
   "id": "bac45e36",
   "metadata": {},
   "outputs": [],
   "source": [
    "X = train.drop(['season','casual','registered','count','atemp','datetime','weather'],axis=1)\n",
    "\n",
    "y_1 = train['casual']\n",
    "y_2 = train['registered']"
   ]
  },
  {
   "cell_type": "code",
   "execution_count": 6,
   "id": "cb0d47b0",
   "metadata": {},
   "outputs": [],
   "source": [
    "X_train, X_test, y_train_casual, y_test_casual, y_train_registered, y_test_registered = train_test_split(X , y_1 , y_2 , test_size=0.25,random_state=6)"
   ]
  },
  {
   "cell_type": "raw",
   "id": "46d7deb6",
   "metadata": {},
   "source": [
    "X_train\n",
    "X_test\n",
    "\n",
    "y_train_casual\n",
    "y_train_registered\n",
    "\n",
    "y_test_casual\n",
    "y_test_registered"
   ]
  },
  {
   "cell_type": "code",
   "execution_count": 7,
   "id": "88d0b871",
   "metadata": {},
   "outputs": [],
   "source": [
    "def rmsle(y, ypred):\n",
    "    ypred[ypred<0]=0\n",
    "    return metrics.mean_squared_log_error(y, ypred)**0.5"
   ]
  },
  {
   "cell_type": "code",
   "execution_count": 8,
   "id": "d841caa2",
   "metadata": {},
   "outputs": [],
   "source": [
    "rmsle_loss = metrics.make_scorer(rmsle, greater_is_better=True)"
   ]
  },
  {
   "cell_type": "code",
   "execution_count": 9,
   "id": "9e26066a",
   "metadata": {},
   "outputs": [],
   "source": [
    "poly_and_scale = make_pipeline(\n",
    "    PolynomialFeatures(degree=2, include_bias=False,interaction_only=True),\n",
    "    MinMaxScaler()\n",
    ")"
   ]
  },
  {
   "cell_type": "code",
   "execution_count": 10,
   "id": "4ba72017",
   "metadata": {},
   "outputs": [],
   "source": [
    "categorical = ['datehour','weekday','month','year']\n",
    "numerical = ['temp','humidity','windspeed']\n",
    "ready = ['holiday','workingday']\n",
    "\n",
    "feature_eng = ColumnTransformer([\n",
    "    ('one-hot', OneHotEncoder(), categorical),\n",
    "    # applies polynomial features only to the two columns\n",
    "    # interaction effect between number of rooms and size of your appartment\n",
    "    ('scaling', poly_and_scale, numerical),\n",
    "    ('do-nothing', 'passthrough', ready)\n",
    "])\n"
   ]
  },
  {
   "cell_type": "code",
   "execution_count": 11,
   "id": "49b16857",
   "metadata": {},
   "outputs": [],
   "source": [
    "modelgrid = make_pipeline(\n",
    "    feature_eng,\n",
    "    RandomForestRegressor()\n",
    ")"
   ]
  },
  {
   "cell_type": "code",
   "execution_count": 12,
   "id": "c0c56f09",
   "metadata": {},
   "outputs": [
    {
     "data": {
      "text/plain": [
       "{'memory': None,\n",
       " 'steps': [('columntransformer',\n",
       "   ColumnTransformer(transformers=[('one-hot', OneHotEncoder(),\n",
       "                                    ['datehour', 'weekday', 'month', 'year']),\n",
       "                                   ('scaling',\n",
       "                                    Pipeline(steps=[('polynomialfeatures',\n",
       "                                                     PolynomialFeatures(include_bias=False,\n",
       "                                                                        interaction_only=True)),\n",
       "                                                    ('minmaxscaler',\n",
       "                                                     MinMaxScaler())]),\n",
       "                                    ['temp', 'humidity', 'windspeed']),\n",
       "                                   ('do-nothing', 'passthrough',\n",
       "                                    ['holiday', 'workingday'])])),\n",
       "  ('randomforestregressor', RandomForestRegressor())],\n",
       " 'verbose': False,\n",
       " 'columntransformer': ColumnTransformer(transformers=[('one-hot', OneHotEncoder(),\n",
       "                                  ['datehour', 'weekday', 'month', 'year']),\n",
       "                                 ('scaling',\n",
       "                                  Pipeline(steps=[('polynomialfeatures',\n",
       "                                                   PolynomialFeatures(include_bias=False,\n",
       "                                                                      interaction_only=True)),\n",
       "                                                  ('minmaxscaler',\n",
       "                                                   MinMaxScaler())]),\n",
       "                                  ['temp', 'humidity', 'windspeed']),\n",
       "                                 ('do-nothing', 'passthrough',\n",
       "                                  ['holiday', 'workingday'])]),\n",
       " 'randomforestregressor': RandomForestRegressor(),\n",
       " 'columntransformer__n_jobs': None,\n",
       " 'columntransformer__remainder': 'drop',\n",
       " 'columntransformer__sparse_threshold': 0.3,\n",
       " 'columntransformer__transformer_weights': None,\n",
       " 'columntransformer__transformers': [('one-hot',\n",
       "   OneHotEncoder(),\n",
       "   ['datehour', 'weekday', 'month', 'year']),\n",
       "  ('scaling',\n",
       "   Pipeline(steps=[('polynomialfeatures',\n",
       "                    PolynomialFeatures(include_bias=False, interaction_only=True)),\n",
       "                   ('minmaxscaler', MinMaxScaler())]),\n",
       "   ['temp', 'humidity', 'windspeed']),\n",
       "  ('do-nothing', 'passthrough', ['holiday', 'workingday'])],\n",
       " 'columntransformer__verbose': False,\n",
       " 'columntransformer__verbose_feature_names_out': True,\n",
       " 'columntransformer__one-hot': OneHotEncoder(),\n",
       " 'columntransformer__scaling': Pipeline(steps=[('polynomialfeatures',\n",
       "                  PolynomialFeatures(include_bias=False, interaction_only=True)),\n",
       "                 ('minmaxscaler', MinMaxScaler())]),\n",
       " 'columntransformer__do-nothing': 'passthrough',\n",
       " 'columntransformer__one-hot__categories': 'auto',\n",
       " 'columntransformer__one-hot__drop': None,\n",
       " 'columntransformer__one-hot__dtype': numpy.float64,\n",
       " 'columntransformer__one-hot__handle_unknown': 'error',\n",
       " 'columntransformer__one-hot__sparse': True,\n",
       " 'columntransformer__scaling__memory': None,\n",
       " 'columntransformer__scaling__steps': [('polynomialfeatures',\n",
       "   PolynomialFeatures(include_bias=False, interaction_only=True)),\n",
       "  ('minmaxscaler', MinMaxScaler())],\n",
       " 'columntransformer__scaling__verbose': False,\n",
       " 'columntransformer__scaling__polynomialfeatures': PolynomialFeatures(include_bias=False, interaction_only=True),\n",
       " 'columntransformer__scaling__minmaxscaler': MinMaxScaler(),\n",
       " 'columntransformer__scaling__polynomialfeatures__degree': 2,\n",
       " 'columntransformer__scaling__polynomialfeatures__include_bias': False,\n",
       " 'columntransformer__scaling__polynomialfeatures__interaction_only': True,\n",
       " 'columntransformer__scaling__polynomialfeatures__order': 'C',\n",
       " 'columntransformer__scaling__minmaxscaler__clip': False,\n",
       " 'columntransformer__scaling__minmaxscaler__copy': True,\n",
       " 'columntransformer__scaling__minmaxscaler__feature_range': (0, 1),\n",
       " 'randomforestregressor__bootstrap': True,\n",
       " 'randomforestregressor__ccp_alpha': 0.0,\n",
       " 'randomforestregressor__criterion': 'squared_error',\n",
       " 'randomforestregressor__max_depth': None,\n",
       " 'randomforestregressor__max_features': 'auto',\n",
       " 'randomforestregressor__max_leaf_nodes': None,\n",
       " 'randomforestregressor__max_samples': None,\n",
       " 'randomforestregressor__min_impurity_decrease': 0.0,\n",
       " 'randomforestregressor__min_samples_leaf': 1,\n",
       " 'randomforestregressor__min_samples_split': 2,\n",
       " 'randomforestregressor__min_weight_fraction_leaf': 0.0,\n",
       " 'randomforestregressor__n_estimators': 100,\n",
       " 'randomforestregressor__n_jobs': None,\n",
       " 'randomforestregressor__oob_score': False,\n",
       " 'randomforestregressor__random_state': None,\n",
       " 'randomforestregressor__verbose': 0,\n",
       " 'randomforestregressor__warm_start': False}"
      ]
     },
     "execution_count": 12,
     "metadata": {},
     "output_type": "execute_result"
    }
   ],
   "source": [
    "modelgrid.get_params()"
   ]
  },
  {
   "cell_type": "code",
   "execution_count": 13,
   "id": "f6e0f255",
   "metadata": {},
   "outputs": [],
   "source": [
    "# define which hyperparameters we want to search and the values that should be used\n",
    "\n",
    "para_grid = {\n",
    "            'columntransformer__scaling__polynomialfeatures__degree': [1,2,3,4]\n",
    "            ,'columntransformer__scaling__polynomialfeatures__interaction_only': [True, False]\n",
    "            }"
   ]
  },
  {
   "cell_type": "code",
   "execution_count": 14,
   "id": "bdb1bf64",
   "metadata": {},
   "outputs": [],
   "source": [
    "# define your gridsearch\n",
    "\n",
    "grid_cv = GridSearchCV(\n",
    "            estimator= modelgrid, # the model!\n",
    "            param_grid= para_grid, # hyperparameters to compare\n",
    "            cv=5, # folds\n",
    "            return_train_score=True,\n",
    "            scoring= rmsle_loss,\n",
    "            n_jobs=-1, # how many cores to use on your computer, -1 uses all\n",
    ")"
   ]
  },
  {
   "cell_type": "code",
   "execution_count": 15,
   "id": "a63e1dd4",
   "metadata": {},
   "outputs": [],
   "source": [
    "# fit all the models with the different combinations\n",
    "\n",
    "grid_cv.fit(X_train, y_train_casual)\n",
    "\n",
    "\n",
    "# these columns are what we find important\n",
    "\n",
    "col_filter = ['param_columntransformer__scaling__polynomialfeatures__degree', \n",
    "              'param_columntransformer__scaling__polynomialfeatures__interaction_only', \n",
    "              #'param_ridge__alpha',\n",
    "              'mean_train_score','mean_test_score', 'rank_test_score']\n",
    "\n",
    "# put the results into a dataframe\n",
    "\n",
    "grid_cv_results = pd.DataFrame(grid_cv.cv_results_)"
   ]
  },
  {
   "cell_type": "code",
   "execution_count": 16,
   "id": "7e72d271",
   "metadata": {},
   "outputs": [
    {
     "data": {
      "text/plain": [
       "{'columntransformer__scaling__polynomialfeatures__degree': 4,\n",
       " 'columntransformer__scaling__polynomialfeatures__interaction_only': False}"
      ]
     },
     "execution_count": 16,
     "metadata": {},
     "output_type": "execute_result"
    }
   ],
   "source": [
    "grid_cv.best_params_"
   ]
  },
  {
   "cell_type": "code",
   "execution_count": 17,
   "id": "843d37e6",
   "metadata": {},
   "outputs": [],
   "source": [
    "poly_and_scale1 = make_pipeline(\n",
    "    PolynomialFeatures(degree=4, include_bias=False , interaction_only= False),\n",
    "    MinMaxScaler()\n",
    ")\n",
    "poly_and_scale2 = make_pipeline(\n",
    "    PolynomialFeatures(degree=4, include_bias=False , interaction_only= False),\n",
    "    MinMaxScaler()\n",
    ")"
   ]
  },
  {
   "cell_type": "code",
   "execution_count": 18,
   "id": "7ed02fb5",
   "metadata": {},
   "outputs": [],
   "source": [
    "feature_eng1 = ColumnTransformer([\n",
    "    ('one-hot', OneHotEncoder(), categorical),\n",
    "    # applies polynomial features only to the two columns\n",
    "    # interaction effect between number of rooms and size of your appartment\n",
    "    ('scaling', poly_and_scale, numerical),\n",
    "    ('do-nothing', 'passthrough', ready)\n",
    "])\n",
    "\n",
    "feature_eng2 = ColumnTransformer([\n",
    "    ('one-hot', OneHotEncoder(), categorical),\n",
    "    # applies polynomial features only to the two columns\n",
    "    # interaction effect between number of rooms and size of your appartment\n",
    "    ('scaling', poly_and_scale, numerical),\n",
    "    ('do-nothing', 'passthrough', ready)\n",
    "])"
   ]
  },
  {
   "cell_type": "code",
   "execution_count": 19,
   "id": "3193241d",
   "metadata": {},
   "outputs": [],
   "source": [
    "model1 = make_pipeline(\n",
    "    feature_eng1,\n",
    "    RandomForestRegressor()\n",
    ")\n",
    "model2 = make_pipeline(\n",
    "    feature_eng2,\n",
    "    RandomForestRegressor()\n",
    ")"
   ]
  },
  {
   "cell_type": "code",
   "execution_count": 20,
   "id": "f0032359",
   "metadata": {},
   "outputs": [
    {
     "data": {
      "text/plain": [
       "Pipeline(steps=[('columntransformer',\n",
       "                 ColumnTransformer(transformers=[('one-hot', OneHotEncoder(),\n",
       "                                                  ['datehour', 'weekday',\n",
       "                                                   'month', 'year']),\n",
       "                                                 ('scaling',\n",
       "                                                  Pipeline(steps=[('polynomialfeatures',\n",
       "                                                                   PolynomialFeatures(include_bias=False,\n",
       "                                                                                      interaction_only=True)),\n",
       "                                                                  ('minmaxscaler',\n",
       "                                                                   MinMaxScaler())]),\n",
       "                                                  ['temp', 'humidity',\n",
       "                                                   'windspeed']),\n",
       "                                                 ('do-nothing', 'passthrough',\n",
       "                                                  ['holiday', 'workingday'])])),\n",
       "                ('randomforestregressor', RandomForestRegressor())])"
      ]
     },
     "execution_count": 20,
     "metadata": {},
     "output_type": "execute_result"
    }
   ],
   "source": [
    "model1.fit(X_train, y_train_casual)\n",
    "model2.fit(X_train, y_train_registered)"
   ]
  },
  {
   "cell_type": "code",
   "execution_count": 21,
   "id": "c626522e",
   "metadata": {},
   "outputs": [],
   "source": [
    "casual_predict = model1.predict(X_train)\n",
    "registered_predict = model2.predict(X_train)\n",
    "\n",
    "casual_predict[casual_predict < 0] = 0\n",
    "registered_predict[registered_predict < 0 ] = 0"
   ]
  },
  {
   "cell_type": "code",
   "execution_count": 22,
   "id": "e4d63a48",
   "metadata": {},
   "outputs": [
    {
     "data": {
      "text/plain": [
       "array([  6.95, 138.85, 374.94, ...,  17.89,   6.52, 124.86])"
      ]
     },
     "execution_count": 22,
     "metadata": {},
     "output_type": "execute_result"
    }
   ],
   "source": [
    "count_predict = registered_predict + casual_predict\n",
    "#count_predict[count_predict < 0] = 0\n",
    "count_predict"
   ]
  },
  {
   "cell_type": "raw",
   "id": "94696292",
   "metadata": {},
   "source": [
    "max(count_predict)"
   ]
  },
  {
   "cell_type": "raw",
   "id": "e9f98b80",
   "metadata": {},
   "source": [
    "max(y_train_casual+y_train_registered)"
   ]
  },
  {
   "cell_type": "code",
   "execution_count": 23,
   "id": "3e81e000",
   "metadata": {},
   "outputs": [],
   "source": [
    "casual_predict_test = model1.predict(X_test)\n",
    "registered_predict_test = model2.predict(X_test)\n",
    "\n",
    "casual_predict_test[casual_predict_test < 0] = 0\n",
    "registered_predict_test[registered_predict_test < 0 ] = 0"
   ]
  },
  {
   "cell_type": "code",
   "execution_count": 24,
   "id": "b6129d9a",
   "metadata": {},
   "outputs": [
    {
     "data": {
      "text/plain": [
       "array([162.97, 290.88, 228.87, ...,  86.27,  57.52, 386.02])"
      ]
     },
     "execution_count": 24,
     "metadata": {},
     "output_type": "execute_result"
    }
   ],
   "source": [
    "count_predict_test = registered_predict_test + casual_predict_test\n",
    "#count_predict_test[count_predict_test < 0] = 0\n",
    "count_predict_test\n"
   ]
  },
  {
   "cell_type": "code",
   "execution_count": 25,
   "id": "2320f4f2",
   "metadata": {},
   "outputs": [
    {
     "name": "stdout",
     "output_type": "stream",
     "text": [
      "0.9890333221548165 <-> 0.9764250280446235\n"
     ]
    }
   ],
   "source": [
    "scores_casual = model1.score(X_train, y_train_casual)\n",
    "scores_registered = model2.score(X_train, y_train_registered)\n",
    "\n",
    "print(scores_registered,'<->',scores_casual)\n",
    "#Score Training Split seperated by registered and casual users"
   ]
  },
  {
   "cell_type": "code",
   "execution_count": 26,
   "id": "9b878c4f",
   "metadata": {
    "scrolled": true
   },
   "outputs": [
    {
     "data": {
      "text/plain": [
       "0.9888426055281335"
      ]
     },
     "execution_count": 26,
     "metadata": {},
     "output_type": "execute_result"
    }
   ],
   "source": [
    "r2_score(y_train_casual+y_train_registered,count_predict)"
   ]
  },
  {
   "cell_type": "code",
   "execution_count": 27,
   "id": "e13ce88f",
   "metadata": {
    "scrolled": false
   },
   "outputs": [
    {
     "data": {
      "text/plain": [
       "0.25257501209797656"
      ]
     },
     "execution_count": 27,
     "metadata": {},
     "output_type": "execute_result"
    }
   ],
   "source": [
    "rmsle(y_train_casual+y_train_registered,count_predict)  #kaggle score for the combination registered + casual users\n",
    "# only training split"
   ]
  },
  {
   "cell_type": "code",
   "execution_count": 28,
   "id": "9042f8b7",
   "metadata": {},
   "outputs": [
    {
     "name": "stdout",
     "output_type": "stream",
     "text": [
      "0.9108134300275097 <-> 0.8380158921503995\n"
     ]
    }
   ],
   "source": [
    "scores_registered_test = model2.score(X_test, y_test_registered)\n",
    "scores_casual_test = model1.score(X_test, y_test_casual)\n",
    "print(scores_registered_test,'<->',scores_casual_test)\n",
    "#Score Test Split seperated by registered and casual users"
   ]
  },
  {
   "cell_type": "code",
   "execution_count": 29,
   "id": "1d9b4afa",
   "metadata": {
    "scrolled": true
   },
   "outputs": [
    {
     "data": {
      "text/plain": [
       "0.9103671361215903"
      ]
     },
     "execution_count": 29,
     "metadata": {},
     "output_type": "execute_result"
    }
   ],
   "source": [
    "r2_score(y_test_casual+y_test_registered,count_predict_test)"
   ]
  },
  {
   "cell_type": "code",
   "execution_count": 30,
   "id": "71e7503d",
   "metadata": {},
   "outputs": [
    {
     "data": {
      "text/plain": [
       "0.5006662007243272"
      ]
     },
     "execution_count": 30,
     "metadata": {},
     "output_type": "execute_result"
    }
   ],
   "source": [
    "rmsle(y_test_casual+y_test_registered, count_predict_test)  #kaggle score for the combination registered + casual users\n",
    "# only test split"
   ]
  },
  {
   "cell_type": "code",
   "execution_count": 31,
   "id": "1442d9a1",
   "metadata": {},
   "outputs": [
    {
     "data": {
      "text/plain": [
       "<matplotlib.collections.PathCollection at 0x25e18174730>"
      ]
     },
     "execution_count": 31,
     "metadata": {},
     "output_type": "execute_result"
    },
    {
     "data": {
      "image/png": "[encoded data removed]",
      "text/plain": [
       "<Figure size 842.4x595.44 with 2 Axes>"
      ]
     },
     "metadata": {},
     "output_type": "display_data"
    }
   ],
   "source": [
    "x_l = [0,800]\n",
    "y_l = [0,800]\n",
    "x_0 = [0,1000]\n",
    "y_0 = [0,0]\n",
    "\n",
    "plt.xlim(left=0,right=1000)\n",
    "\n",
    "plt.subplot(1,2,1)\n",
    "plt.title('Registered Users training data')\n",
    "plt.plot(x_l, y_l, 'r')\n",
    "plt.plot(x_0, y_0, 'k')\n",
    "plt.xlabel('real count')\n",
    "plt.ylabel('prediction')\n",
    "plt.scatter(y_train_registered, registered_predict)\n",
    "\n",
    "\n",
    "plt.subplot(1,2,2)\n",
    "plt.title('Casual Users training data')\n",
    "plt.plot(x_l, y_l, 'r')\n",
    "plt.plot(x_0, y_0, 'k')\n",
    "plt.xlabel('real count')\n",
    "plt.ylabel('prediction')\n",
    "plt.scatter(y_train_casual, casual_predict)\n",
    "\n"
   ]
  },
  {
   "cell_type": "code",
   "execution_count": 32,
   "id": "2170a799",
   "metadata": {},
   "outputs": [
    {
     "data": {
      "text/plain": [
       "Text(0, 0.5, 'prediction')"
      ]
     },
     "execution_count": 32,
     "metadata": {},
     "output_type": "execute_result"
    },
    {
     "data": {
      "image/png": "[encoded data removed]",
      "text/plain": [
       "<Figure size 842.4x595.44 with 2 Axes>"
      ]
     },
     "metadata": {},
     "output_type": "display_data"
    }
   ],
   "source": [
    "plt.subplot(1,2,1)\n",
    "plt.title('Registered Users test data')\n",
    "plt.plot(x_l, y_l, 'r')\n",
    "plt.plot(x_0, y_0, 'k')\n",
    "plt.scatter(y_test_registered, registered_predict_test)\n",
    "plt.xlabel('real count')\n",
    "plt.ylabel('prediction')\n",
    "\n",
    "plt.subplot(1,2,2)\n",
    "plt.title('Casual Users test data')\n",
    "plt.plot(x_l, y_l, 'r')\n",
    "plt.plot(x_0, y_0, 'k')\n",
    "plt.scatter(y_test_casual, casual_predict_test)\n",
    "plt.xlabel('real count')\n",
    "plt.ylabel('prediction')\n"
   ]
  },
  {
   "cell_type": "code",
   "execution_count": 33,
   "id": "11cb325a",
   "metadata": {},
   "outputs": [
    {
     "data": {
      "text/plain": [
       "Text(0, 0.5, 'prediction')"
      ]
     },
     "execution_count": 33,
     "metadata": {},
     "output_type": "execute_result"
    },
    {
     "data": {
      "image/png": "[encoded data removed]",
      "text/plain": [
       "<Figure size 842.4x595.44 with 1 Axes>"
      ]
     },
     "metadata": {},
     "output_type": "display_data"
    }
   ],
   "source": [
    "x_l = [0,700]\n",
    "y_l = [0,700]\n",
    "x_0 = [0,1000]\n",
    "y_0 = [0,0]\n",
    "\n",
    "#plt.xlim(left=0,right=1000)\n",
    "\n",
    "\n",
    "plt.title('training (orange) + test (blue) data \\n train split (Casual + Registered) Users score= ~0,6')\n",
    "plt.plot(x_l, y_l, 'r')\n",
    "plt.plot(x_0, y_0, 'k')\n",
    "plt.scatter(y_train_casual+y_train_registered, count_predict)\n",
    "plt.scatter(y_test_casual+y_test_registered, count_predict_test,alpha=0.6)\n",
    "plt.xlabel('real count')\n",
    "plt.ylabel('prediction')\n"
   ]
  },
  {
   "cell_type": "code",
   "execution_count": 34,
   "id": "f0146cbe",
   "metadata": {},
   "outputs": [],
   "source": [
    "biketest = pd.read_csv('DateTimePandas/bike_test.csv')"
   ]
  },
  {
   "cell_type": "code",
   "execution_count": 35,
   "id": "7a7c25ce",
   "metadata": {},
   "outputs": [
    {
     "data": {
      "text/html": [
       "<div>\n",
       "<style scoped>\n",
       "    .dataframe tbody tr th:only-of-type {\n",
       "        vertical-align: middle;\n",
       "    }\n",
       "\n",
       "    .dataframe tbody tr th {\n",
       "        vertical-align: top;\n",
       "    }\n",
       "\n",
       "    .dataframe thead th {\n",
       "        text-align: right;\n",
       "    }\n",
       "</style>\n",
       "<table border=\"1\" class=\"dataframe\">\n",
       "  <thead>\n",
       "    <tr style=\"text-align: right;\">\n",
       "      <th></th>\n",
       "      <th>datetime</th>\n",
       "      <th>season</th>\n",
       "      <th>holiday</th>\n",
       "      <th>workingday</th>\n",
       "      <th>weather</th>\n",
       "      <th>temp</th>\n",
       "      <th>atemp</th>\n",
       "      <th>humidity</th>\n",
       "      <th>windspeed</th>\n",
       "      <th>datehour</th>\n",
       "      <th>weekday</th>\n",
       "      <th>month</th>\n",
       "      <th>year</th>\n",
       "    </tr>\n",
       "  </thead>\n",
       "  <tbody>\n",
       "    <tr>\n",
       "      <th>0</th>\n",
       "      <td>2011-01-20 00:00:00</td>\n",
       "      <td>1</td>\n",
       "      <td>0</td>\n",
       "      <td>1</td>\n",
       "      <td>1</td>\n",
       "      <td>10.66</td>\n",
       "      <td>11.365</td>\n",
       "      <td>56</td>\n",
       "      <td>26.0027</td>\n",
       "      <td>0</td>\n",
       "      <td>3</td>\n",
       "      <td>1</td>\n",
       "      <td>2011</td>\n",
       "    </tr>\n",
       "    <tr>\n",
       "      <th>1</th>\n",
       "      <td>2011-01-20 01:00:00</td>\n",
       "      <td>1</td>\n",
       "      <td>0</td>\n",
       "      <td>1</td>\n",
       "      <td>1</td>\n",
       "      <td>10.66</td>\n",
       "      <td>13.635</td>\n",
       "      <td>56</td>\n",
       "      <td>0.0000</td>\n",
       "      <td>1</td>\n",
       "      <td>3</td>\n",
       "      <td>1</td>\n",
       "      <td>2011</td>\n",
       "    </tr>\n",
       "    <tr>\n",
       "      <th>2</th>\n",
       "      <td>2011-01-20 02:00:00</td>\n",
       "      <td>1</td>\n",
       "      <td>0</td>\n",
       "      <td>1</td>\n",
       "      <td>1</td>\n",
       "      <td>10.66</td>\n",
       "      <td>13.635</td>\n",
       "      <td>56</td>\n",
       "      <td>0.0000</td>\n",
       "      <td>2</td>\n",
       "      <td>3</td>\n",
       "      <td>1</td>\n",
       "      <td>2011</td>\n",
       "    </tr>\n",
       "    <tr>\n",
       "      <th>3</th>\n",
       "      <td>2011-01-20 03:00:00</td>\n",
       "      <td>1</td>\n",
       "      <td>0</td>\n",
       "      <td>1</td>\n",
       "      <td>1</td>\n",
       "      <td>10.66</td>\n",
       "      <td>12.880</td>\n",
       "      <td>56</td>\n",
       "      <td>11.0014</td>\n",
       "      <td>3</td>\n",
       "      <td>3</td>\n",
       "      <td>1</td>\n",
       "      <td>2011</td>\n",
       "    </tr>\n",
       "    <tr>\n",
       "      <th>4</th>\n",
       "      <td>2011-01-20 04:00:00</td>\n",
       "      <td>1</td>\n",
       "      <td>0</td>\n",
       "      <td>1</td>\n",
       "      <td>1</td>\n",
       "      <td>10.66</td>\n",
       "      <td>12.880</td>\n",
       "      <td>56</td>\n",
       "      <td>11.0014</td>\n",
       "      <td>4</td>\n",
       "      <td>3</td>\n",
       "      <td>1</td>\n",
       "      <td>2011</td>\n",
       "    </tr>\n",
       "  </tbody>\n",
       "</table>\n",
       "</div>"
      ],
      "text/plain": [
       "             datetime  season  holiday  workingday  weather   temp   atemp  \\\n",
       "0 2011-01-20 00:00:00       1        0           1        1  10.66  11.365   \n",
       "1 2011-01-20 01:00:00       1        0           1        1  10.66  13.635   \n",
       "2 2011-01-20 02:00:00       1        0           1        1  10.66  13.635   \n",
       "3 2011-01-20 03:00:00       1        0           1        1  10.66  12.880   \n",
       "4 2011-01-20 04:00:00       1        0           1        1  10.66  12.880   \n",
       "\n",
       "   humidity  windspeed  datehour  weekday  month  year  \n",
       "0        56    26.0027         0        3      1  2011  \n",
       "1        56     0.0000         1        3      1  2011  \n",
       "2        56     0.0000         2        3      1  2011  \n",
       "3        56    11.0014         3        3      1  2011  \n",
       "4        56    11.0014         4        3      1  2011  "
      ]
     },
     "execution_count": 35,
     "metadata": {},
     "output_type": "execute_result"
    }
   ],
   "source": [
    "biketest['datetime'] = pd.to_datetime(biketest['datetime'])\n",
    "biketest['datehour'] = biketest['datetime'].dt.hour\n",
    "biketest['weekday'] = biketest['datetime'].dt.dayofweek\n",
    "biketest['month'] = biketest['datetime'].dt.month\n",
    "biketest['year'] = biketest['datetime'].dt.year\n",
    "biketest.head()"
   ]
  },
  {
   "cell_type": "code",
   "execution_count": 36,
   "id": "5f93a2c5",
   "metadata": {},
   "outputs": [],
   "source": [
    "X = biketest.drop(['datetime','season','weather','atemp'],axis=1)"
   ]
  },
  {
   "cell_type": "code",
   "execution_count": 37,
   "id": "d4e7a1e5",
   "metadata": {},
   "outputs": [],
   "source": [
    "test_casual_predict = model1.predict(X)\n",
    "test_registered_predict = model2.predict(X)\n",
    "\n",
    "test_casual_predict[test_casual_predict < 0] = 0\n",
    "test_registered_predict[test_registered_predict < 0 ] = 0"
   ]
  },
  {
   "cell_type": "code",
   "execution_count": 38,
   "id": "ecdc6c2b",
   "metadata": {},
   "outputs": [
    {
     "data": {
      "text/plain": [
       "array([ 21.73,   8.72,   7.09, ..., 130.35, 126.8 ,  64.18])"
      ]
     },
     "execution_count": 38,
     "metadata": {},
     "output_type": "execute_result"
    }
   ],
   "source": [
    "test_count_predict = test_registered_predict + test_casual_predict\n",
    "#count_predict[count_predict < 0] = 0\n",
    "test_count_predict"
   ]
  },
  {
   "cell_type": "code",
   "execution_count": 39,
   "id": "2983fea9",
   "metadata": {},
   "outputs": [
    {
     "data": {
      "text/html": [
       "<div>\n",
       "<style scoped>\n",
       "    .dataframe tbody tr th:only-of-type {\n",
       "        vertical-align: middle;\n",
       "    }\n",
       "\n",
       "    .dataframe tbody tr th {\n",
       "        vertical-align: top;\n",
       "    }\n",
       "\n",
       "    .dataframe thead th {\n",
       "        text-align: right;\n",
       "    }\n",
       "</style>\n",
       "<table border=\"1\" class=\"dataframe\">\n",
       "  <thead>\n",
       "    <tr style=\"text-align: right;\">\n",
       "      <th></th>\n",
       "      <th>holiday</th>\n",
       "      <th>workingday</th>\n",
       "      <th>temp</th>\n",
       "      <th>humidity</th>\n",
       "      <th>windspeed</th>\n",
       "      <th>datehour</th>\n",
       "      <th>weekday</th>\n",
       "      <th>month</th>\n",
       "      <th>year</th>\n",
       "    </tr>\n",
       "  </thead>\n",
       "  <tbody>\n",
       "    <tr>\n",
       "      <th>0</th>\n",
       "      <td>0</td>\n",
       "      <td>1</td>\n",
       "      <td>10.66</td>\n",
       "      <td>56</td>\n",
       "      <td>26.0027</td>\n",
       "      <td>0</td>\n",
       "      <td>3</td>\n",
       "      <td>1</td>\n",
       "      <td>2011</td>\n",
       "    </tr>\n",
       "    <tr>\n",
       "      <th>1</th>\n",
       "      <td>0</td>\n",
       "      <td>1</td>\n",
       "      <td>10.66</td>\n",
       "      <td>56</td>\n",
       "      <td>0.0000</td>\n",
       "      <td>1</td>\n",
       "      <td>3</td>\n",
       "      <td>1</td>\n",
       "      <td>2011</td>\n",
       "    </tr>\n",
       "    <tr>\n",
       "      <th>2</th>\n",
       "      <td>0</td>\n",
       "      <td>1</td>\n",
       "      <td>10.66</td>\n",
       "      <td>56</td>\n",
       "      <td>0.0000</td>\n",
       "      <td>2</td>\n",
       "      <td>3</td>\n",
       "      <td>1</td>\n",
       "      <td>2011</td>\n",
       "    </tr>\n",
       "    <tr>\n",
       "      <th>3</th>\n",
       "      <td>0</td>\n",
       "      <td>1</td>\n",
       "      <td>10.66</td>\n",
       "      <td>56</td>\n",
       "      <td>11.0014</td>\n",
       "      <td>3</td>\n",
       "      <td>3</td>\n",
       "      <td>1</td>\n",
       "      <td>2011</td>\n",
       "    </tr>\n",
       "    <tr>\n",
       "      <th>4</th>\n",
       "      <td>0</td>\n",
       "      <td>1</td>\n",
       "      <td>10.66</td>\n",
       "      <td>56</td>\n",
       "      <td>11.0014</td>\n",
       "      <td>4</td>\n",
       "      <td>3</td>\n",
       "      <td>1</td>\n",
       "      <td>2011</td>\n",
       "    </tr>\n",
       "  </tbody>\n",
       "</table>\n",
       "</div>"
      ],
      "text/plain": [
       "   holiday  workingday   temp  humidity  windspeed  datehour  weekday  month  \\\n",
       "0        0           1  10.66        56    26.0027         0        3      1   \n",
       "1        0           1  10.66        56     0.0000         1        3      1   \n",
       "2        0           1  10.66        56     0.0000         2        3      1   \n",
       "3        0           1  10.66        56    11.0014         3        3      1   \n",
       "4        0           1  10.66        56    11.0014         4        3      1   \n",
       "\n",
       "   year  \n",
       "0  2011  \n",
       "1  2011  \n",
       "2  2011  \n",
       "3  2011  \n",
       "4  2011  "
      ]
     },
     "execution_count": 39,
     "metadata": {},
     "output_type": "execute_result"
    }
   ],
   "source": [
    "X.head()"
   ]
  },
  {
   "cell_type": "code",
   "execution_count": 40,
   "id": "eb561e63",
   "metadata": {},
   "outputs": [
    {
     "data": {
      "text/plain": [
       "array([ 21.73,   8.72,   7.09, ..., 130.35, 126.8 ,  64.18])"
      ]
     },
     "execution_count": 40,
     "metadata": {},
     "output_type": "execute_result"
    }
   ],
   "source": [
    "test_count_predict"
   ]
  },
  {
   "cell_type": "code",
   "execution_count": 41,
   "id": "00d77a1c",
   "metadata": {},
   "outputs": [],
   "source": [
    "tcp_r = np.round(test_count_predict,0)"
   ]
  },
  {
   "cell_type": "code",
   "execution_count": 42,
   "id": "de9995ed",
   "metadata": {},
   "outputs": [
    {
     "data": {
      "text/html": [
       "<div>\n",
       "<style scoped>\n",
       "    .dataframe tbody tr th:only-of-type {\n",
       "        vertical-align: middle;\n",
       "    }\n",
       "\n",
       "    .dataframe tbody tr th {\n",
       "        vertical-align: top;\n",
       "    }\n",
       "\n",
       "    .dataframe thead th {\n",
       "        text-align: right;\n",
       "    }\n",
       "</style>\n",
       "<table border=\"1\" class=\"dataframe\">\n",
       "  <thead>\n",
       "    <tr style=\"text-align: right;\">\n",
       "      <th></th>\n",
       "      <th>datetime</th>\n",
       "      <th>season</th>\n",
       "      <th>holiday</th>\n",
       "      <th>workingday</th>\n",
       "      <th>weather</th>\n",
       "      <th>temp</th>\n",
       "      <th>atemp</th>\n",
       "      <th>humidity</th>\n",
       "      <th>windspeed</th>\n",
       "      <th>datehour</th>\n",
       "      <th>weekday</th>\n",
       "      <th>month</th>\n",
       "      <th>year</th>\n",
       "    </tr>\n",
       "  </thead>\n",
       "  <tbody>\n",
       "    <tr>\n",
       "      <th>0</th>\n",
       "      <td>2011-01-20 00:00:00</td>\n",
       "      <td>1</td>\n",
       "      <td>0</td>\n",
       "      <td>1</td>\n",
       "      <td>1</td>\n",
       "      <td>10.66</td>\n",
       "      <td>11.365</td>\n",
       "      <td>56</td>\n",
       "      <td>26.0027</td>\n",
       "      <td>0</td>\n",
       "      <td>3</td>\n",
       "      <td>1</td>\n",
       "      <td>2011</td>\n",
       "    </tr>\n",
       "    <tr>\n",
       "      <th>1</th>\n",
       "      <td>2011-01-20 01:00:00</td>\n",
       "      <td>1</td>\n",
       "      <td>0</td>\n",
       "      <td>1</td>\n",
       "      <td>1</td>\n",
       "      <td>10.66</td>\n",
       "      <td>13.635</td>\n",
       "      <td>56</td>\n",
       "      <td>0.0000</td>\n",
       "      <td>1</td>\n",
       "      <td>3</td>\n",
       "      <td>1</td>\n",
       "      <td>2011</td>\n",
       "    </tr>\n",
       "    <tr>\n",
       "      <th>2</th>\n",
       "      <td>2011-01-20 02:00:00</td>\n",
       "      <td>1</td>\n",
       "      <td>0</td>\n",
       "      <td>1</td>\n",
       "      <td>1</td>\n",
       "      <td>10.66</td>\n",
       "      <td>13.635</td>\n",
       "      <td>56</td>\n",
       "      <td>0.0000</td>\n",
       "      <td>2</td>\n",
       "      <td>3</td>\n",
       "      <td>1</td>\n",
       "      <td>2011</td>\n",
       "    </tr>\n",
       "    <tr>\n",
       "      <th>3</th>\n",
       "      <td>2011-01-20 03:00:00</td>\n",
       "      <td>1</td>\n",
       "      <td>0</td>\n",
       "      <td>1</td>\n",
       "      <td>1</td>\n",
       "      <td>10.66</td>\n",
       "      <td>12.880</td>\n",
       "      <td>56</td>\n",
       "      <td>11.0014</td>\n",
       "      <td>3</td>\n",
       "      <td>3</td>\n",
       "      <td>1</td>\n",
       "      <td>2011</td>\n",
       "    </tr>\n",
       "    <tr>\n",
       "      <th>4</th>\n",
       "      <td>2011-01-20 04:00:00</td>\n",
       "      <td>1</td>\n",
       "      <td>0</td>\n",
       "      <td>1</td>\n",
       "      <td>1</td>\n",
       "      <td>10.66</td>\n",
       "      <td>12.880</td>\n",
       "      <td>56</td>\n",
       "      <td>11.0014</td>\n",
       "      <td>4</td>\n",
       "      <td>3</td>\n",
       "      <td>1</td>\n",
       "      <td>2011</td>\n",
       "    </tr>\n",
       "  </tbody>\n",
       "</table>\n",
       "</div>"
      ],
      "text/plain": [
       "             datetime  season  holiday  workingday  weather   temp   atemp  \\\n",
       "0 2011-01-20 00:00:00       1        0           1        1  10.66  11.365   \n",
       "1 2011-01-20 01:00:00       1        0           1        1  10.66  13.635   \n",
       "2 2011-01-20 02:00:00       1        0           1        1  10.66  13.635   \n",
       "3 2011-01-20 03:00:00       1        0           1        1  10.66  12.880   \n",
       "4 2011-01-20 04:00:00       1        0           1        1  10.66  12.880   \n",
       "\n",
       "   humidity  windspeed  datehour  weekday  month  year  \n",
       "0        56    26.0027         0        3      1  2011  \n",
       "1        56     0.0000         1        3      1  2011  \n",
       "2        56     0.0000         2        3      1  2011  \n",
       "3        56    11.0014         3        3      1  2011  \n",
       "4        56    11.0014         4        3      1  2011  "
      ]
     },
     "execution_count": 42,
     "metadata": {},
     "output_type": "execute_result"
    }
   ],
   "source": [
    "submit = biketest.drop(['season','weather','atemp'],axis=1)\n",
    "biketest.head()\n",
    "#df['newcol'] = pd.Series(your_2d_numpy_array)"
   ]
  },
  {
   "cell_type": "code",
   "execution_count": 43,
   "id": "f70828e0",
   "metadata": {},
   "outputs": [],
   "source": [
    "submit['count'] = pd.Series(tcp_r)"
   ]
  },
  {
   "cell_type": "code",
   "execution_count": 44,
   "id": "8e894589",
   "metadata": {},
   "outputs": [
    {
     "data": {
      "text/html": [
       "<div>\n",
       "<style scoped>\n",
       "    .dataframe tbody tr th:only-of-type {\n",
       "        vertical-align: middle;\n",
       "    }\n",
       "\n",
       "    .dataframe tbody tr th {\n",
       "        vertical-align: top;\n",
       "    }\n",
       "\n",
       "    .dataframe thead th {\n",
       "        text-align: right;\n",
       "    }\n",
       "</style>\n",
       "<table border=\"1\" class=\"dataframe\">\n",
       "  <thead>\n",
       "    <tr style=\"text-align: right;\">\n",
       "      <th></th>\n",
       "      <th>datetime</th>\n",
       "      <th>count</th>\n",
       "    </tr>\n",
       "  </thead>\n",
       "  <tbody>\n",
       "    <tr>\n",
       "      <th>0</th>\n",
       "      <td>2011-01-20 00:00:00</td>\n",
       "      <td>22.0</td>\n",
       "    </tr>\n",
       "    <tr>\n",
       "      <th>1</th>\n",
       "      <td>2011-01-20 01:00:00</td>\n",
       "      <td>9.0</td>\n",
       "    </tr>\n",
       "    <tr>\n",
       "      <th>2</th>\n",
       "      <td>2011-01-20 02:00:00</td>\n",
       "      <td>7.0</td>\n",
       "    </tr>\n",
       "    <tr>\n",
       "      <th>3</th>\n",
       "      <td>2011-01-20 03:00:00</td>\n",
       "      <td>5.0</td>\n",
       "    </tr>\n",
       "    <tr>\n",
       "      <th>4</th>\n",
       "      <td>2011-01-20 04:00:00</td>\n",
       "      <td>3.0</td>\n",
       "    </tr>\n",
       "  </tbody>\n",
       "</table>\n",
       "</div>"
      ],
      "text/plain": [
       "             datetime  count\n",
       "0 2011-01-20 00:00:00   22.0\n",
       "1 2011-01-20 01:00:00    9.0\n",
       "2 2011-01-20 02:00:00    7.0\n",
       "3 2011-01-20 03:00:00    5.0\n",
       "4 2011-01-20 04:00:00    3.0"
      ]
     },
     "execution_count": 44,
     "metadata": {},
     "output_type": "execute_result"
    }
   ],
   "source": [
    "submit.drop(['holiday','workingday','temp','humidity','windspeed','datehour','weekday' ,'month','year'],axis=1,inplace = True)\n",
    "submit.head()"
   ]
  },
  {
   "cell_type": "code",
   "execution_count": 70,
   "id": "c8395ada",
   "metadata": {},
   "outputs": [],
   "source": [
    "#submit.to_csv('prediction_bike_aoester.csv' , index = False)"
   ]
  },
  {
   "cell_type": "code",
   "execution_count": null,
   "id": "432df82c",
   "metadata": {},
   "outputs": [],
   "source": []
  }
 ],
 "metadata": {
  "kernelspec": {
   "display_name": "Python 3 (ipykernel)",
   "language": "python",
   "name": "python3"
  },
  "language_info": {
   "codemirror_mode": {
    "name": "ipython",
    "version": 3
   },
   "file_extension": ".py",
   "mimetype": "text/x-python",
   "name": "python",
   "nbconvert_exporter": "python",
   "pygments_lexer": "ipython3",
   "version": "3.9.7"
  }
 },
 "nbformat": 4,
 "nbformat_minor": 5
}
